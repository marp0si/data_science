{
 "cells": [
  {
   "cell_type": "code",
   "execution_count": 2,
   "id": "4fbc0880",
   "metadata": {},
   "outputs": [],
   "source": [
    "import tensorflow as tf\n",
    "import numpy as np\n",
    "import seaborn as sbn\n",
    "import matplotlib.pyplot as plt\n",
    "import pandas as pd"
   ]
  },
  {
   "cell_type": "code",
   "execution_count": 3,
   "id": "24cb9e2c",
   "metadata": {
    "scrolled": true
   },
   "outputs": [
    {
     "data": {
      "text/html": [
       "<div>\n",
       "<style scoped>\n",
       "    .dataframe tbody tr th:only-of-type {\n",
       "        vertical-align: middle;\n",
       "    }\n",
       "\n",
       "    .dataframe tbody tr th {\n",
       "        vertical-align: top;\n",
       "    }\n",
       "\n",
       "    .dataframe thead th {\n",
       "        text-align: right;\n",
       "    }\n",
       "</style>\n",
       "<table border=\"1\" class=\"dataframe\">\n",
       "  <thead>\n",
       "    <tr style=\"text-align: right;\">\n",
       "      <th></th>\n",
       "      <th>year</th>\n",
       "      <th>price</th>\n",
       "      <th>transmission</th>\n",
       "      <th>mileage</th>\n",
       "      <th>tax</th>\n",
       "      <th>mpg</th>\n",
       "      <th>engineSize</th>\n",
       "    </tr>\n",
       "  </thead>\n",
       "  <tbody>\n",
       "    <tr>\n",
       "      <th>0</th>\n",
       "      <td>2005</td>\n",
       "      <td>5200</td>\n",
       "      <td>Automatic</td>\n",
       "      <td>63000</td>\n",
       "      <td>325</td>\n",
       "      <td>32.1</td>\n",
       "      <td>1.8</td>\n",
       "    </tr>\n",
       "    <tr>\n",
       "      <th>1</th>\n",
       "      <td>2017</td>\n",
       "      <td>34948</td>\n",
       "      <td>Automatic</td>\n",
       "      <td>27000</td>\n",
       "      <td>20</td>\n",
       "      <td>61.4</td>\n",
       "      <td>2.1</td>\n",
       "    </tr>\n",
       "    <tr>\n",
       "      <th>2</th>\n",
       "      <td>2016</td>\n",
       "      <td>49948</td>\n",
       "      <td>Automatic</td>\n",
       "      <td>6200</td>\n",
       "      <td>555</td>\n",
       "      <td>28.0</td>\n",
       "      <td>5.5</td>\n",
       "    </tr>\n",
       "    <tr>\n",
       "      <th>3</th>\n",
       "      <td>2016</td>\n",
       "      <td>61948</td>\n",
       "      <td>Automatic</td>\n",
       "      <td>16000</td>\n",
       "      <td>325</td>\n",
       "      <td>30.4</td>\n",
       "      <td>4.0</td>\n",
       "    </tr>\n",
       "    <tr>\n",
       "      <th>4</th>\n",
       "      <td>2016</td>\n",
       "      <td>73948</td>\n",
       "      <td>Automatic</td>\n",
       "      <td>4000</td>\n",
       "      <td>325</td>\n",
       "      <td>30.1</td>\n",
       "      <td>4.0</td>\n",
       "    </tr>\n",
       "    <tr>\n",
       "      <th>5</th>\n",
       "      <td>2011</td>\n",
       "      <td>149948</td>\n",
       "      <td>Automatic</td>\n",
       "      <td>3000</td>\n",
       "      <td>570</td>\n",
       "      <td>21.4</td>\n",
       "      <td>6.2</td>\n",
       "    </tr>\n",
       "  </tbody>\n",
       "</table>\n",
       "</div>"
      ],
      "text/plain": [
       "   year   price transmission  mileage  tax   mpg  engineSize\n",
       "0  2005    5200    Automatic    63000  325  32.1         1.8\n",
       "1  2017   34948    Automatic    27000   20  61.4         2.1\n",
       "2  2016   49948    Automatic     6200  555  28.0         5.5\n",
       "3  2016   61948    Automatic    16000  325  30.4         4.0\n",
       "4  2016   73948    Automatic     4000  325  30.1         4.0\n",
       "5  2011  149948    Automatic     3000  570  21.4         6.2"
      ]
     },
     "execution_count": 3,
     "metadata": {},
     "output_type": "execute_result"
    }
   ],
   "source": [
    "dataFrame=pd.read_excel(\"merc.xlsx\")\n",
    "dataFrame.head(6)"
   ]
  },
  {
   "cell_type": "code",
   "execution_count": 4,
   "id": "19fdb540",
   "metadata": {},
   "outputs": [
    {
     "data": {
      "text/plain": [
       "year            0\n",
       "price           0\n",
       "transmission    0\n",
       "mileage         0\n",
       "tax             0\n",
       "mpg             0\n",
       "engineSize      0\n",
       "dtype: int64"
      ]
     },
     "execution_count": 4,
     "metadata": {},
     "output_type": "execute_result"
    }
   ],
   "source": [
    "#.describe() ile anlamaya çalışımak\n",
    "dataFrame.describe()\n",
    "#nan veri var mı\n",
    "dataFrame.isnull().sum()\n",
    "#tüm hücreler doluymuş, boş olan hücre sayısı veri sayısına göre çok az olsaydı\n",
    "#ortalama bir değer ile doldurabilirdik"
   ]
  },
  {
   "cell_type": "code",
   "execution_count": 5,
   "id": "936e5683",
   "metadata": {
    "scrolled": true
   },
   "outputs": [
    {
     "name": "stderr",
     "output_type": "stream",
     "text": [
      "C:\\Users\\_S1n4n_\\.conda\\envs\\tenserflow\\lib\\site-packages\\seaborn\\distributions.py:2551: FutureWarning: `distplot` is a deprecated function and will be removed in a future version. Please adapt your code to use either `displot` (a figure-level function with similar flexibility) or `histplot` (an axes-level function for histograms).\n",
      "  warnings.warn(msg, FutureWarning)\n",
      "C:\\Users\\_S1n4n_\\.conda\\envs\\tenserflow\\lib\\site-packages\\seaborn\\_decorators.py:36: FutureWarning: Pass the following variable as a keyword arg: x. From version 0.12, the only valid positional argument will be `data`, and passing other arguments without an explicit keyword will result in an error or misinterpretation.\n",
      "  warnings.warn(\n"
     ]
    },
    {
     "data": {
      "text/plain": [
       "<AxesSubplot:xlabel='year', ylabel='count'>"
      ]
     },
     "execution_count": 5,
     "metadata": {},
     "output_type": "execute_result"
    },
    {
     "data": {
      "image/png": "[encoded data removed]",
      "text/plain": [
       "<Figure size 1080x720 with 1 Axes>"
      ]
     },
     "metadata": {
      "needs_background": "light"
     },
     "output_type": "display_data"
    }
   ],
   "source": [
    "plt.figure(figsize=(15,10))\n",
    "sbn.distplot(dataFrame[\"price\"])#75000den fazlasını veriden çıkartıcam\n",
    "sbn.countplot(dataFrame[\"year\"])#belki 2010dan öncesini silerim\n",
    " "
   ]
  },
  {
   "cell_type": "code",
   "execution_count": 6,
   "id": "fda61cb9",
   "metadata": {},
   "outputs": [
    {
     "name": "stdout",
     "output_type": "stream",
     "text": [
      "mileage      -0.537214\n",
      "mpg          -0.438445\n",
      "tax           0.268717\n",
      "engineSize    0.516126\n",
      "year          0.520712\n",
      "price         1.000000\n",
      "Name: price, dtype: float64\n"
     ]
    },
    {
     "data": {
      "text/plain": [
       "<AxesSubplot:xlabel='mileage', ylabel='price'>"
      ]
     },
     "execution_count": 6,
     "metadata": {},
     "output_type": "execute_result"
    },
    {
     "data": {
      "image/png": "[encoded data removed]",
      "text/plain": [
       "<Figure size 432x288 with 1 Axes>"
      ]
     },
     "metadata": {
      "needs_background": "light"
     },
     "output_type": "display_data"
    }
   ],
   "source": [
    "#dataFrame.corr() bu kod her sütunun birbiri ile olan ilişkisini gösterir\n",
    "#sort_values() bu kod küçükten büyüğe sıralar \n",
    "print(dataFrame.corr()[\"price\"].sort_values())\n",
    "sbn.scatterplot(x=\"mileage\",y=\"price\",data=dataFrame)"
   ]
  },
  {
   "cell_type": "markdown",
   "id": "455d6c5e",
   "metadata": {},
   "source": [
    "mileage ve mpg  fiyat le ters orantılı\n",
    "yıl ve motor boyutu fiyat ile doğru orantılı"
   ]
  },
  {
   "cell_type": "code",
   "execution_count": 14,
   "id": "66090884",
   "metadata": {
    "scrolled": true
   },
   "outputs": [
    {
     "name": "stdout",
     "output_type": "stream",
     "text": [
      "               year         price        mileage           tax           mpg  \\\n",
      "count  12988.000000  12988.000000   12988.000000  12988.000000  12988.000000   \n",
      "mean    2017.281876  24074.926933   22132.741146    129.689714     55.437142   \n",
      "std        2.228515   9866.224575   21196.776401     65.183076     15.025999   \n",
      "min     1970.000000    650.000000       1.000000      0.000000      1.100000   \n",
      "25%     2016.000000  17357.500000    6322.000000    125.000000     45.600000   \n",
      "50%     2018.000000  22299.000000   15369.500000    145.000000     56.500000   \n",
      "75%     2019.000000  28706.000000   31982.250000    145.000000     64.200000   \n",
      "max     2020.000000  65990.000000  259000.000000    580.000000    217.300000   \n",
      "\n",
      "         engineSize  \n",
      "count  12988.000000  \n",
      "mean       2.050901  \n",
      "std        0.532596  \n",
      "min        0.000000  \n",
      "25%        1.675000  \n",
      "50%        2.000000  \n",
      "75%        2.100000  \n",
      "max        6.200000  \n"
     ]
    },
    {
     "data": {
      "text/plain": [
       "<seaborn.axisgrid.FacetGrid at 0x2296db03430>"
      ]
     },
     "execution_count": 14,
     "metadata": {},
     "output_type": "execute_result"
    },
    {
     "data": {
      "text/plain": [
       "<Figure size 720x504 with 0 Axes>"
      ]
     },
     "metadata": {},
     "output_type": "display_data"
    },
    {
     "data": {
      "image/png": "[encoded data removed]",
      "text/plain": [
       "<Figure size 360x360 with 1 Axes>"
      ]
     },
     "metadata": {
      "needs_background": "light"
     },
     "output_type": "display_data"
    }
   ],
   "source": [
    "dataFrame.sort_values(\"price\",ascending=False).head(20)#ascending=false büyük en başta\n",
    "silinecekler=dataFrame.sort_values(\"price\",ascending=False).iloc[131:]#131 tüm verinin %1i\n",
    "print(silinecekler.describe())\n",
    "plt.figure(figsize=(10,7))\n",
    "sbn.displot(silinecekler[\"price\"])"
   ]
  },
  {
   "cell_type": "code",
   "execution_count": 16,
   "id": "df5e9508",
   "metadata": {
    "scrolled": true
   },
   "outputs": [
    {
     "data": {
      "text/plain": [
       "year\n",
       "1970    24999.000000\n",
       "1997     9995.000000\n",
       "1998     8605.000000\n",
       "1999     5995.000000\n",
       "2000     5743.333333\n",
       "2001     4957.900000\n",
       "2002     5820.444444\n",
       "2003     4878.000000\n",
       "2004     4727.615385\n",
       "2005     4426.111111\n",
       "2006     4036.875000\n",
       "2007     5136.045455\n",
       "2008     6967.437500\n",
       "2009     6166.764706\n",
       "2010     8308.473684\n",
       "2011    12624.894737\n",
       "2012    10845.140351\n",
       "2013    11939.842466\n",
       "2014    14042.936864\n",
       "2015    16731.780020\n",
       "2016    19307.892948\n",
       "2017    21514.307854\n",
       "2018    25720.162918\n",
       "2019    31290.020865\n",
       "2020    35433.282337\n",
       "Name: price, dtype: float64"
      ]
     },
     "execution_count": 16,
     "metadata": {},
     "output_type": "execute_result"
    }
   ],
   "source": [
    "dataFrame.groupby(\"year\").mean()[\"price\"]"
   ]
  },
  {
   "cell_type": "code",
   "execution_count": 19,
   "id": "f6e3cc3e",
   "metadata": {
    "scrolled": false
   },
   "outputs": [
    {
     "data": {
      "text/plain": [
       "year\n",
       "1970    24999.000000\n",
       "1997     9995.000000\n",
       "1998     8605.000000\n",
       "1999     5995.000000\n",
       "2000     5743.333333\n",
       "2001     4957.900000\n",
       "2002     5820.444444\n",
       "2003     4878.000000\n",
       "2004     4727.615385\n",
       "2005     4426.111111\n",
       "2006     4036.875000\n",
       "2007     5136.045455\n",
       "2008     6967.437500\n",
       "2009     6166.764706\n",
       "2010     8308.473684\n",
       "2011     8913.459459\n",
       "2012    10845.140351\n",
       "2013    11939.842466\n",
       "2014    14042.936864\n",
       "2015    16647.822222\n",
       "2016    19223.558943\n",
       "2017    21356.280421\n",
       "2018    24800.844506\n",
       "2019    30289.524832\n",
       "2020    34234.794872\n",
       "Name: price, dtype: float64"
      ]
     },
     "execution_count": 19,
     "metadata": {},
     "output_type": "execute_result"
    }
   ],
   "source": [
    "silinecekler.groupby(\"year\").mean()[\"price\"]"
   ]
  },
  {
   "cell_type": "code",
   "execution_count": 21,
   "id": "cfb0d078",
   "metadata": {},
   "outputs": [
    {
     "data": {
      "text/html": [
       "<div>\n",
       "<style scoped>\n",
       "    .dataframe tbody tr th:only-of-type {\n",
       "        vertical-align: middle;\n",
       "    }\n",
       "\n",
       "    .dataframe tbody tr th {\n",
       "        vertical-align: top;\n",
       "    }\n",
       "\n",
       "    .dataframe thead th {\n",
       "        text-align: right;\n",
       "    }\n",
       "</style>\n",
       "<table border=\"1\" class=\"dataframe\">\n",
       "  <thead>\n",
       "    <tr style=\"text-align: right;\">\n",
       "      <th></th>\n",
       "      <th>year</th>\n",
       "      <th>price</th>\n",
       "      <th>transmission</th>\n",
       "      <th>mileage</th>\n",
       "      <th>tax</th>\n",
       "      <th>mpg</th>\n",
       "      <th>engineSize</th>\n",
       "    </tr>\n",
       "  </thead>\n",
       "  <tbody>\n",
       "    <tr>\n",
       "      <th>6177</th>\n",
       "      <td>2019</td>\n",
       "      <td>65990</td>\n",
       "      <td>Semi-Auto</td>\n",
       "      <td>5076</td>\n",
       "      <td>150</td>\n",
       "      <td>30.4</td>\n",
       "      <td>3.0</td>\n",
       "    </tr>\n",
       "    <tr>\n",
       "      <th>5779</th>\n",
       "      <td>2020</td>\n",
       "      <td>65990</td>\n",
       "      <td>Semi-Auto</td>\n",
       "      <td>999</td>\n",
       "      <td>145</td>\n",
       "      <td>28.0</td>\n",
       "      <td>4.0</td>\n",
       "    </tr>\n",
       "    <tr>\n",
       "      <th>3191</th>\n",
       "      <td>2020</td>\n",
       "      <td>65980</td>\n",
       "      <td>Semi-Auto</td>\n",
       "      <td>3999</td>\n",
       "      <td>145</td>\n",
       "      <td>28.0</td>\n",
       "      <td>4.0</td>\n",
       "    </tr>\n",
       "    <tr>\n",
       "      <th>4727</th>\n",
       "      <td>2019</td>\n",
       "      <td>65000</td>\n",
       "      <td>Semi-Auto</td>\n",
       "      <td>3398</td>\n",
       "      <td>145</td>\n",
       "      <td>27.2</td>\n",
       "      <td>4.0</td>\n",
       "    </tr>\n",
       "    <tr>\n",
       "      <th>8814</th>\n",
       "      <td>2019</td>\n",
       "      <td>64999</td>\n",
       "      <td>Semi-Auto</td>\n",
       "      <td>119</td>\n",
       "      <td>145</td>\n",
       "      <td>40.9</td>\n",
       "      <td>3.0</td>\n",
       "    </tr>\n",
       "    <tr>\n",
       "      <th>...</th>\n",
       "      <td>...</td>\n",
       "      <td>...</td>\n",
       "      <td>...</td>\n",
       "      <td>...</td>\n",
       "      <td>...</td>\n",
       "      <td>...</td>\n",
       "      <td>...</td>\n",
       "    </tr>\n",
       "    <tr>\n",
       "      <th>11549</th>\n",
       "      <td>2002</td>\n",
       "      <td>1495</td>\n",
       "      <td>Automatic</td>\n",
       "      <td>13800</td>\n",
       "      <td>305</td>\n",
       "      <td>39.8</td>\n",
       "      <td>2.7</td>\n",
       "    </tr>\n",
       "    <tr>\n",
       "      <th>12594</th>\n",
       "      <td>2004</td>\n",
       "      <td>1495</td>\n",
       "      <td>Manual</td>\n",
       "      <td>119000</td>\n",
       "      <td>300</td>\n",
       "      <td>34.5</td>\n",
       "      <td>1.8</td>\n",
       "    </tr>\n",
       "    <tr>\n",
       "      <th>11765</th>\n",
       "      <td>2000</td>\n",
       "      <td>1490</td>\n",
       "      <td>Automatic</td>\n",
       "      <td>87000</td>\n",
       "      <td>265</td>\n",
       "      <td>27.2</td>\n",
       "      <td>3.2</td>\n",
       "    </tr>\n",
       "    <tr>\n",
       "      <th>12008</th>\n",
       "      <td>2010</td>\n",
       "      <td>1350</td>\n",
       "      <td>Manual</td>\n",
       "      <td>116126</td>\n",
       "      <td>145</td>\n",
       "      <td>54.3</td>\n",
       "      <td>2.0</td>\n",
       "    </tr>\n",
       "    <tr>\n",
       "      <th>11816</th>\n",
       "      <td>2003</td>\n",
       "      <td>650</td>\n",
       "      <td>Manual</td>\n",
       "      <td>109090</td>\n",
       "      <td>235</td>\n",
       "      <td>40.0</td>\n",
       "      <td>1.4</td>\n",
       "    </tr>\n",
       "  </tbody>\n",
       "</table>\n",
       "<p>12987 rows × 7 columns</p>\n",
       "</div>"
      ],
      "text/plain": [
       "       year  price transmission  mileage  tax   mpg  engineSize\n",
       "6177   2019  65990    Semi-Auto     5076  150  30.4         3.0\n",
       "5779   2020  65990    Semi-Auto      999  145  28.0         4.0\n",
       "3191   2020  65980    Semi-Auto     3999  145  28.0         4.0\n",
       "4727   2019  65000    Semi-Auto     3398  145  27.2         4.0\n",
       "8814   2019  64999    Semi-Auto      119  145  40.9         3.0\n",
       "...     ...    ...          ...      ...  ...   ...         ...\n",
       "11549  2002   1495    Automatic    13800  305  39.8         2.7\n",
       "12594  2004   1495       Manual   119000  300  34.5         1.8\n",
       "11765  2000   1490    Automatic    87000  265  27.2         3.2\n",
       "12008  2010   1350       Manual   116126  145  54.3         2.0\n",
       "11816  2003    650       Manual   109090  235  40.0         1.4\n",
       "\n",
       "[12987 rows x 7 columns]"
      ]
     },
     "execution_count": 21,
     "metadata": {},
     "output_type": "execute_result"
    }
   ],
   "source": [
    "dataFrame[dataFrame.year==1970]\n",
    "dataFrame=silinecekler\n",
    "dataFrame=dataFrame[dataFrame.year!=1970]\n",
    "dataFrame"
   ]
  },
  {
   "cell_type": "code",
   "execution_count": 22,
   "id": "c37afcb3",
   "metadata": {},
   "outputs": [
    {
     "data": {
      "text/plain": [
       "year\n",
       "1997     9995.000000\n",
       "1998     8605.000000\n",
       "1999     5995.000000\n",
       "2000     5743.333333\n",
       "2001     4957.900000\n",
       "2002     5820.444444\n",
       "2003     4878.000000\n",
       "2004     4727.615385\n",
       "2005     4426.111111\n",
       "2006     4036.875000\n",
       "2007     5136.045455\n",
       "2008     6967.437500\n",
       "2009     6166.764706\n",
       "2010     8308.473684\n",
       "2011     8913.459459\n",
       "2012    10845.140351\n",
       "2013    11939.842466\n",
       "2014    14042.936864\n",
       "2015    16647.822222\n",
       "2016    19223.558943\n",
       "2017    21356.280421\n",
       "2018    24800.844506\n",
       "2019    30289.524832\n",
       "2020    34234.794872\n",
       "Name: price, dtype: float64"
      ]
     },
     "execution_count": 22,
     "metadata": {},
     "output_type": "execute_result"
    }
   ],
   "source": [
    "dataFrame.groupby(\"year\").mean()[\"price\"]"
   ]
  },
  {
   "cell_type": "code",
   "execution_count": 26,
   "id": "c40ff80c",
   "metadata": {},
   "outputs": [
    {
     "ename": "KeyError",
     "evalue": "\"['transmission'] not found in axis\"",
     "output_type": "error",
     "traceback": [
      "\u001b[1;31m---------------------------------------------------------------------------\u001b[0m",
      "\u001b[1;31mKeyError\u001b[0m                                  Traceback (most recent call last)",
      "\u001b[1;32m~\\AppData\\Local\\Temp/ipykernel_256/333817185.py\u001b[0m in \u001b[0;36m<module>\u001b[1;34m\u001b[0m\n\u001b[1;32m----> 1\u001b[1;33m \u001b[0mdataFrame\u001b[0m\u001b[1;33m=\u001b[0m\u001b[0mdataFrame\u001b[0m\u001b[1;33m.\u001b[0m\u001b[0mdrop\u001b[0m\u001b[1;33m(\u001b[0m\u001b[1;34m\"transmission\"\u001b[0m\u001b[1;33m,\u001b[0m\u001b[0maxis\u001b[0m\u001b[1;33m=\u001b[0m\u001b[1;36m1\u001b[0m\u001b[1;33m)\u001b[0m\u001b[1;33m\u001b[0m\u001b[1;33m\u001b[0m\u001b[0m\n\u001b[0m\u001b[0;32m      2\u001b[0m \u001b[0mplt\u001b[0m\u001b[1;33m.\u001b[0m\u001b[0mfigure\u001b[0m\u001b[1;33m(\u001b[0m\u001b[0mfigsize\u001b[0m\u001b[1;33m=\u001b[0m\u001b[1;33m(\u001b[0m\u001b[1;36m10\u001b[0m\u001b[1;33m,\u001b[0m\u001b[1;36m7\u001b[0m\u001b[1;33m)\u001b[0m\u001b[1;33m)\u001b[0m\u001b[1;33m\u001b[0m\u001b[1;33m\u001b[0m\u001b[0m\n\u001b[0;32m      3\u001b[0m \u001b[0msbn\u001b[0m\u001b[1;33m.\u001b[0m\u001b[0mdisplot\u001b[0m\u001b[1;33m(\u001b[0m\u001b[0mdataFrame\u001b[0m\u001b[1;33m[\u001b[0m\u001b[1;34m\"price\"\u001b[0m\u001b[1;33m]\u001b[0m\u001b[1;33m)\u001b[0m\u001b[1;33m\u001b[0m\u001b[1;33m\u001b[0m\u001b[0m\n",
      "\u001b[1;32m~\\.conda\\envs\\tenserflow\\lib\\site-packages\\pandas\\util\\_decorators.py\u001b[0m in \u001b[0;36mwrapper\u001b[1;34m(*args, **kwargs)\u001b[0m\n\u001b[0;32m    309\u001b[0m                     \u001b[0mstacklevel\u001b[0m\u001b[1;33m=\u001b[0m\u001b[0mstacklevel\u001b[0m\u001b[1;33m,\u001b[0m\u001b[1;33m\u001b[0m\u001b[1;33m\u001b[0m\u001b[0m\n\u001b[0;32m    310\u001b[0m                 )\n\u001b[1;32m--> 311\u001b[1;33m             \u001b[1;32mreturn\u001b[0m \u001b[0mfunc\u001b[0m\u001b[1;33m(\u001b[0m\u001b[1;33m*\u001b[0m\u001b[0margs\u001b[0m\u001b[1;33m,\u001b[0m \u001b[1;33m**\u001b[0m\u001b[0mkwargs\u001b[0m\u001b[1;33m)\u001b[0m\u001b[1;33m\u001b[0m\u001b[1;33m\u001b[0m\u001b[0m\n\u001b[0m\u001b[0;32m    312\u001b[0m \u001b[1;33m\u001b[0m\u001b[0m\n\u001b[0;32m    313\u001b[0m         \u001b[1;32mreturn\u001b[0m \u001b[0mwrapper\u001b[0m\u001b[1;33m\u001b[0m\u001b[1;33m\u001b[0m\u001b[0m\n",
      "\u001b[1;32m~\\.conda\\envs\\tenserflow\\lib\\site-packages\\pandas\\core\\frame.py\u001b[0m in \u001b[0;36mdrop\u001b[1;34m(self, labels, axis, index, columns, level, inplace, errors)\u001b[0m\n\u001b[0;32m   4904\u001b[0m                 \u001b[0mweight\u001b[0m  \u001b[1;36m1.0\u001b[0m     \u001b[1;36m0.8\u001b[0m\u001b[1;33m\u001b[0m\u001b[1;33m\u001b[0m\u001b[0m\n\u001b[0;32m   4905\u001b[0m         \"\"\"\n\u001b[1;32m-> 4906\u001b[1;33m         return super().drop(\n\u001b[0m\u001b[0;32m   4907\u001b[0m             \u001b[0mlabels\u001b[0m\u001b[1;33m=\u001b[0m\u001b[0mlabels\u001b[0m\u001b[1;33m,\u001b[0m\u001b[1;33m\u001b[0m\u001b[1;33m\u001b[0m\u001b[0m\n\u001b[0;32m   4908\u001b[0m             \u001b[0maxis\u001b[0m\u001b[1;33m=\u001b[0m\u001b[0maxis\u001b[0m\u001b[1;33m,\u001b[0m\u001b[1;33m\u001b[0m\u001b[1;33m\u001b[0m\u001b[0m\n",
      "\u001b[1;32m~\\.conda\\envs\\tenserflow\\lib\\site-packages\\pandas\\core\\generic.py\u001b[0m in \u001b[0;36mdrop\u001b[1;34m(self, labels, axis, index, columns, level, inplace, errors)\u001b[0m\n\u001b[0;32m   4148\u001b[0m         \u001b[1;32mfor\u001b[0m \u001b[0maxis\u001b[0m\u001b[1;33m,\u001b[0m \u001b[0mlabels\u001b[0m \u001b[1;32min\u001b[0m \u001b[0maxes\u001b[0m\u001b[1;33m.\u001b[0m\u001b[0mitems\u001b[0m\u001b[1;33m(\u001b[0m\u001b[1;33m)\u001b[0m\u001b[1;33m:\u001b[0m\u001b[1;33m\u001b[0m\u001b[1;33m\u001b[0m\u001b[0m\n\u001b[0;32m   4149\u001b[0m             \u001b[1;32mif\u001b[0m \u001b[0mlabels\u001b[0m \u001b[1;32mis\u001b[0m \u001b[1;32mnot\u001b[0m \u001b[1;32mNone\u001b[0m\u001b[1;33m:\u001b[0m\u001b[1;33m\u001b[0m\u001b[1;33m\u001b[0m\u001b[0m\n\u001b[1;32m-> 4150\u001b[1;33m                 \u001b[0mobj\u001b[0m \u001b[1;33m=\u001b[0m \u001b[0mobj\u001b[0m\u001b[1;33m.\u001b[0m\u001b[0m_drop_axis\u001b[0m\u001b[1;33m(\u001b[0m\u001b[0mlabels\u001b[0m\u001b[1;33m,\u001b[0m \u001b[0maxis\u001b[0m\u001b[1;33m,\u001b[0m \u001b[0mlevel\u001b[0m\u001b[1;33m=\u001b[0m\u001b[0mlevel\u001b[0m\u001b[1;33m,\u001b[0m \u001b[0merrors\u001b[0m\u001b[1;33m=\u001b[0m\u001b[0merrors\u001b[0m\u001b[1;33m)\u001b[0m\u001b[1;33m\u001b[0m\u001b[1;33m\u001b[0m\u001b[0m\n\u001b[0m\u001b[0;32m   4151\u001b[0m \u001b[1;33m\u001b[0m\u001b[0m\n\u001b[0;32m   4152\u001b[0m         \u001b[1;32mif\u001b[0m \u001b[0minplace\u001b[0m\u001b[1;33m:\u001b[0m\u001b[1;33m\u001b[0m\u001b[1;33m\u001b[0m\u001b[0m\n",
      "\u001b[1;32m~\\.conda\\envs\\tenserflow\\lib\\site-packages\\pandas\\core\\generic.py\u001b[0m in \u001b[0;36m_drop_axis\u001b[1;34m(self, labels, axis, level, errors)\u001b[0m\n\u001b[0;32m   4183\u001b[0m                 \u001b[0mnew_axis\u001b[0m \u001b[1;33m=\u001b[0m \u001b[0maxis\u001b[0m\u001b[1;33m.\u001b[0m\u001b[0mdrop\u001b[0m\u001b[1;33m(\u001b[0m\u001b[0mlabels\u001b[0m\u001b[1;33m,\u001b[0m \u001b[0mlevel\u001b[0m\u001b[1;33m=\u001b[0m\u001b[0mlevel\u001b[0m\u001b[1;33m,\u001b[0m \u001b[0merrors\u001b[0m\u001b[1;33m=\u001b[0m\u001b[0merrors\u001b[0m\u001b[1;33m)\u001b[0m\u001b[1;33m\u001b[0m\u001b[1;33m\u001b[0m\u001b[0m\n\u001b[0;32m   4184\u001b[0m             \u001b[1;32melse\u001b[0m\u001b[1;33m:\u001b[0m\u001b[1;33m\u001b[0m\u001b[1;33m\u001b[0m\u001b[0m\n\u001b[1;32m-> 4185\u001b[1;33m                 \u001b[0mnew_axis\u001b[0m \u001b[1;33m=\u001b[0m \u001b[0maxis\u001b[0m\u001b[1;33m.\u001b[0m\u001b[0mdrop\u001b[0m\u001b[1;33m(\u001b[0m\u001b[0mlabels\u001b[0m\u001b[1;33m,\u001b[0m \u001b[0merrors\u001b[0m\u001b[1;33m=\u001b[0m\u001b[0merrors\u001b[0m\u001b[1;33m)\u001b[0m\u001b[1;33m\u001b[0m\u001b[1;33m\u001b[0m\u001b[0m\n\u001b[0m\u001b[0;32m   4186\u001b[0m             \u001b[0mresult\u001b[0m \u001b[1;33m=\u001b[0m \u001b[0mself\u001b[0m\u001b[1;33m.\u001b[0m\u001b[0mreindex\u001b[0m\u001b[1;33m(\u001b[0m\u001b[1;33m**\u001b[0m\u001b[1;33m{\u001b[0m\u001b[0maxis_name\u001b[0m\u001b[1;33m:\u001b[0m \u001b[0mnew_axis\u001b[0m\u001b[1;33m}\u001b[0m\u001b[1;33m)\u001b[0m\u001b[1;33m\u001b[0m\u001b[1;33m\u001b[0m\u001b[0m\n\u001b[0;32m   4187\u001b[0m \u001b[1;33m\u001b[0m\u001b[0m\n",
      "\u001b[1;32m~\\.conda\\envs\\tenserflow\\lib\\site-packages\\pandas\\core\\indexes\\base.py\u001b[0m in \u001b[0;36mdrop\u001b[1;34m(self, labels, errors)\u001b[0m\n\u001b[0;32m   6015\u001b[0m         \u001b[1;32mif\u001b[0m \u001b[0mmask\u001b[0m\u001b[1;33m.\u001b[0m\u001b[0many\u001b[0m\u001b[1;33m(\u001b[0m\u001b[1;33m)\u001b[0m\u001b[1;33m:\u001b[0m\u001b[1;33m\u001b[0m\u001b[1;33m\u001b[0m\u001b[0m\n\u001b[0;32m   6016\u001b[0m             \u001b[1;32mif\u001b[0m \u001b[0merrors\u001b[0m \u001b[1;33m!=\u001b[0m \u001b[1;34m\"ignore\"\u001b[0m\u001b[1;33m:\u001b[0m\u001b[1;33m\u001b[0m\u001b[1;33m\u001b[0m\u001b[0m\n\u001b[1;32m-> 6017\u001b[1;33m                 \u001b[1;32mraise\u001b[0m \u001b[0mKeyError\u001b[0m\u001b[1;33m(\u001b[0m\u001b[1;34mf\"{labels[mask]} not found in axis\"\u001b[0m\u001b[1;33m)\u001b[0m\u001b[1;33m\u001b[0m\u001b[1;33m\u001b[0m\u001b[0m\n\u001b[0m\u001b[0;32m   6018\u001b[0m             \u001b[0mindexer\u001b[0m \u001b[1;33m=\u001b[0m \u001b[0mindexer\u001b[0m\u001b[1;33m[\u001b[0m\u001b[1;33m~\u001b[0m\u001b[0mmask\u001b[0m\u001b[1;33m]\u001b[0m\u001b[1;33m\u001b[0m\u001b[1;33m\u001b[0m\u001b[0m\n\u001b[0;32m   6019\u001b[0m         \u001b[1;32mreturn\u001b[0m \u001b[0mself\u001b[0m\u001b[1;33m.\u001b[0m\u001b[0mdelete\u001b[0m\u001b[1;33m(\u001b[0m\u001b[0mindexer\u001b[0m\u001b[1;33m)\u001b[0m\u001b[1;33m\u001b[0m\u001b[1;33m\u001b[0m\u001b[0m\n",
      "\u001b[1;31mKeyError\u001b[0m: \"['transmission'] not found in axis\""
     ]
    }
   ],
   "source": [
    "dataFrame=dataFrame.drop(\"transmission\",axis=1)\n"
   ]
  },
  {
   "cell_type": "code",
   "execution_count": 27,
   "id": "c349d1f1",
   "metadata": {},
   "outputs": [
    {
     "data": {
      "text/plain": [
       "<seaborn.axisgrid.FacetGrid at 0x2296d126610>"
      ]
     },
     "execution_count": 27,
     "metadata": {},
     "output_type": "execute_result"
    },
    {
     "data": {
      "text/plain": [
       "<Figure size 720x504 with 0 Axes>"
      ]
     },
     "metadata": {},
     "output_type": "display_data"
    },
    {
     "data": {
      "image/png": "[encoded data removed]",
      "text/plain": [
       "<Figure size 360x360 with 1 Axes>"
      ]
     },
     "metadata": {
      "needs_background": "light"
     },
     "output_type": "display_data"
    }
   ],
   "source": [
    "plt.figure(figsize=(10,7))\n",
    "sbn.displot(dataFrame[\"price\"])"
   ]
  },
  {
   "cell_type": "markdown",
   "id": "7b2e0aca",
   "metadata": {},
   "source": [
    "en pahalı arabaların 131i silindi\n",
    "1997 yılından aşağısı silindi\n",
    "boş hücreler kontrol edildi\n",
    "daha simetrik bir grafik çizildi"
   ]
  },
  {
   "cell_type": "markdown",
   "id": "ec489c84",
   "metadata": {},
   "source": [
    "## veritemizleme iş bitti\n",
    "şimdi model oluşturma"
   ]
  },
  {
   "cell_type": "code",
   "execution_count": 30,
   "id": "fd9c66d6",
   "metadata": {},
   "outputs": [],
   "source": [
    "#y=ax+b\n",
    "y=dataFrame[\"price\"].values\n",
    "x=dataFrame.drop(\"price\",axis=1).values\n"
   ]
  },
  {
   "cell_type": "code",
   "execution_count": 31,
   "id": "ddfa9b6b",
   "metadata": {},
   "outputs": [],
   "source": [
    "from sklearn.model_selection import train_test_split"
   ]
  },
  {
   "cell_type": "code",
   "execution_count": 32,
   "id": "6acfc722",
   "metadata": {},
   "outputs": [],
   "source": [
    "x_train,x_test,y_train,y_test=train_test_split(x,y,test_size=0.3,random_state=10)"
   ]
  },
  {
   "cell_type": "code",
   "execution_count": 34,
   "id": "9e0f2824",
   "metadata": {},
   "outputs": [],
   "source": [
    "from sklearn.preprocessing import MinMaxScaler"
   ]
  },
  {
   "cell_type": "code",
   "execution_count": 35,
   "id": "1b5e7953",
   "metadata": {},
   "outputs": [],
   "source": [
    "scaler=MinMaxScaler()"
   ]
  },
  {
   "cell_type": "code",
   "execution_count": 38,
   "id": "3bafec2c",
   "metadata": {},
   "outputs": [],
   "source": [
    "#scaler.fit_transform() öncesinde ilk fit sonra transform yapmak yerine aynı anda yaptık\n",
    "x_train=scaler.fit_transform(x_train)"
   ]
  },
  {
   "cell_type": "code",
   "execution_count": 39,
   "id": "bca4138a",
   "metadata": {},
   "outputs": [],
   "source": [
    "x_test=scaler.fit_transform(x_test)"
   ]
  },
  {
   "cell_type": "code",
   "execution_count": 40,
   "id": "c335ab59",
   "metadata": {},
   "outputs": [],
   "source": [
    "# y leri transform etmeye gerek yok\n",
    "from tensorflow.keras.models import Sequential#model oluşturma\n",
    "from tensorflow.keras.layers import Dense#katman oluştuma"
   ]
  },
  {
   "cell_type": "code",
   "execution_count": 43,
   "id": "31fb0d45",
   "metadata": {},
   "outputs": [
    {
     "data": {
      "text/plain": [
       "(9090,)"
      ]
     },
     "execution_count": 43,
     "metadata": {},
     "output_type": "execute_result"
    }
   ],
   "source": [
    "x_train.shape#(9090, 5) 2 sütun düşürdük \n",
    "y_train.shape#(9090,) 1 sütun var o da fiyat\n"
   ]
  },
  {
   "cell_type": "code",
   "execution_count": 45,
   "id": "e5f08283",
   "metadata": {},
   "outputs": [],
   "source": [
    "model=Sequential()\n",
    "model.add(Dense(12,activation=\"relu\"))\n",
    "model.add(Dense(12,activation=\"relu\"))\n",
    "model.add(Dense(12,activation=\"relu\"))\n",
    "model.add(Dense(12,activation=\"relu\"))\n",
    "#çıkış katmanı koy\n",
    "model.add(Dense(1))\n",
    "\n",
    "model.compile(optimizer=\"adam\",loss=\"mse\")"
   ]
  },
  {
   "cell_type": "markdown",
   "id": "a340b1ed",
   "metadata": {},
   "source": [
    "modeli eğitmek"
   ]
  },
  {
   "cell_type": "code",
   "execution_count": 47,
   "id": "dccfb8e3",
   "metadata": {
    "scrolled": true
   },
   "outputs": [
    {
     "name": "stdout",
     "output_type": "stream",
     "text": [
      "Epoch 1/300\n",
      "37/37 [==============================] - 0s 11ms/step - loss: 672146880.0000 - val_loss: 688107392.0000\n",
      "Epoch 2/300\n",
      "37/37 [==============================] - 0s 3ms/step - loss: 672134336.0000 - val_loss: 688089536.0000\n",
      "Epoch 3/300\n",
      "37/37 [==============================] - 0s 3ms/step - loss: 672107840.0000 - val_loss: 688048960.0000\n",
      "Epoch 4/300\n",
      "37/37 [==============================] - 0s 3ms/step - loss: 672044096.0000 - val_loss: 687947520.0000\n",
      "Epoch 5/300\n",
      "37/37 [==============================] - 0s 3ms/step - loss: 671881408.0000 - val_loss: 687688384.0000\n",
      "Epoch 6/300\n",
      "37/37 [==============================] - 0s 3ms/step - loss: 671475520.0000 - val_loss: 687045760.0000\n",
      "Epoch 7/300\n",
      "37/37 [==============================] - 0s 3ms/step - loss: 670500224.0000 - val_loss: 685570240.0000\n",
      "Epoch 8/300\n",
      "37/37 [==============================] - 0s 3ms/step - loss: 668434368.0000 - val_loss: 682641728.0000\n",
      "Epoch 9/300\n",
      "37/37 [==============================] - 0s 3ms/step - loss: 664551104.0000 - val_loss: 677378944.0000\n",
      "Epoch 10/300\n",
      "37/37 [==============================] - 0s 3ms/step - loss: 657875072.0000 - val_loss: 668633920.0000\n",
      "Epoch 11/300\n",
      "37/37 [==============================] - 0s 3ms/step - loss: 647090496.0000 - val_loss: 654840512.0000\n",
      "Epoch 12/300\n",
      "37/37 [==============================] - 0s 4ms/step - loss: 630454272.0000 - val_loss: 634096320.0000\n",
      "Epoch 13/300\n",
      "37/37 [==============================] - 0s 3ms/step - loss: 606248960.0000 - val_loss: 604737152.0000\n",
      "Epoch 14/300\n",
      "37/37 [==============================] - 0s 3ms/step - loss: 572880704.0000 - val_loss: 565442752.0000\n",
      "Epoch 15/300\n",
      "37/37 [==============================] - 0s 3ms/step - loss: 529392288.0000 - val_loss: 515340992.0000\n",
      "Epoch 16/300\n",
      "37/37 [==============================] - 0s 2ms/step - loss: 475586592.0000 - val_loss: 455483904.0000\n",
      "Epoch 17/300\n",
      "37/37 [==============================] - 0s 3ms/step - loss: 412968288.0000 - val_loss: 387656096.0000\n",
      "Epoch 18/300\n",
      "37/37 [==============================] - 0s 3ms/step - loss: 344619872.0000 - val_loss: 316619104.0000\n",
      "Epoch 19/300\n",
      "37/37 [==============================] - 0s 3ms/step - loss: 275840992.0000 - val_loss: 248584160.0000\n",
      "Epoch 20/300\n",
      "37/37 [==============================] - 0s 3ms/step - loss: 212904864.0000 - val_loss: 190019696.0000\n",
      "Epoch 21/300\n",
      "37/37 [==============================] - 0s 3ms/step - loss: 161796272.0000 - val_loss: 145669040.0000\n",
      "Epoch 22/300\n",
      "37/37 [==============================] - 0s 3ms/step - loss: 125999168.0000 - val_loss: 117458904.0000\n",
      "Epoch 23/300\n",
      "37/37 [==============================] - 0s 2ms/step - loss: 105014544.0000 - val_loss: 102493800.0000\n",
      "Epoch 24/300\n",
      "37/37 [==============================] - 0s 3ms/step - loss: 94588968.0000 - val_loss: 95932000.0000\n",
      "Epoch 25/300\n",
      "37/37 [==============================] - 0s 2ms/step - loss: 90218192.0000 - val_loss: 93157240.0000\n",
      "Epoch 26/300\n",
      "37/37 [==============================] - 0s 3ms/step - loss: 88506992.0000 - val_loss: 91821608.0000\n",
      "Epoch 27/300\n",
      "37/37 [==============================] - 0s 3ms/step - loss: 87691400.0000 - val_loss: 91063568.0000\n",
      "Epoch 28/300\n",
      "37/37 [==============================] - 0s 3ms/step - loss: 87159856.0000 - val_loss: 90453792.0000\n",
      "Epoch 29/300\n",
      "37/37 [==============================] - 0s 3ms/step - loss: 86717784.0000 - val_loss: 89884096.0000\n",
      "Epoch 30/300\n",
      "37/37 [==============================] - 0s 3ms/step - loss: 86300104.0000 - val_loss: 89356784.0000\n",
      "Epoch 31/300\n",
      "37/37 [==============================] - 0s 3ms/step - loss: 85909192.0000 - val_loss: 88857600.0000\n",
      "Epoch 32/300\n",
      "37/37 [==============================] - 0s 3ms/step - loss: 85528920.0000 - val_loss: 88348896.0000\n",
      "Epoch 33/300\n",
      "37/37 [==============================] - 0s 3ms/step - loss: 85155328.0000 - val_loss: 87876576.0000\n",
      "Epoch 34/300\n",
      "37/37 [==============================] - 0s 3ms/step - loss: 84788632.0000 - val_loss: 87414872.0000\n",
      "Epoch 35/300\n",
      "37/37 [==============================] - 0s 3ms/step - loss: 84433856.0000 - val_loss: 86955416.0000\n",
      "Epoch 36/300\n",
      "37/37 [==============================] - 0s 3ms/step - loss: 84077512.0000 - val_loss: 86505688.0000\n",
      "Epoch 37/300\n",
      "37/37 [==============================] - 0s 3ms/step - loss: 83725728.0000 - val_loss: 86071368.0000\n",
      "Epoch 38/300\n",
      "37/37 [==============================] - 0s 3ms/step - loss: 83387264.0000 - val_loss: 85628488.0000\n",
      "Epoch 39/300\n",
      "37/37 [==============================] - 0s 3ms/step - loss: 83038768.0000 - val_loss: 85222328.0000\n",
      "Epoch 40/300\n",
      "37/37 [==============================] - 0s 3ms/step - loss: 82706848.0000 - val_loss: 84773080.0000\n",
      "Epoch 41/300\n",
      "37/37 [==============================] - 0s 4ms/step - loss: 82364200.0000 - val_loss: 84375816.0000\n",
      "Epoch 42/300\n",
      "37/37 [==============================] - 0s 4ms/step - loss: 82035200.0000 - val_loss: 83943240.0000\n",
      "Epoch 43/300\n",
      "37/37 [==============================] - 0s 3ms/step - loss: 81700128.0000 - val_loss: 83540512.0000\n",
      "Epoch 44/300\n",
      "37/37 [==============================] - 0s 3ms/step - loss: 81367896.0000 - val_loss: 83131856.0000\n",
      "Epoch 45/300\n",
      "37/37 [==============================] - 0s 4ms/step - loss: 81038192.0000 - val_loss: 82702304.0000\n",
      "Epoch 46/300\n",
      "37/37 [==============================] - 0s 5ms/step - loss: 80708160.0000 - val_loss: 82302008.0000\n",
      "Epoch 47/300\n",
      "37/37 [==============================] - 0s 3ms/step - loss: 80376656.0000 - val_loss: 81916944.0000\n",
      "Epoch 48/300\n",
      "37/37 [==============================] - 0s 2ms/step - loss: 80050424.0000 - val_loss: 81512728.0000\n",
      "Epoch 49/300\n",
      "37/37 [==============================] - 0s 3ms/step - loss: 79720768.0000 - val_loss: 81094528.0000\n",
      "Epoch 50/300\n",
      "37/37 [==============================] - 0s 3ms/step - loss: 79390504.0000 - val_loss: 80697568.0000\n",
      "Epoch 51/300\n",
      "37/37 [==============================] - 0s 4ms/step - loss: 79067712.0000 - val_loss: 80308616.0000\n",
      "Epoch 52/300\n",
      "37/37 [==============================] - 0s 3ms/step - loss: 78739960.0000 - val_loss: 79887880.0000\n",
      "Epoch 53/300\n",
      "37/37 [==============================] - 0s 3ms/step - loss: 78407688.0000 - val_loss: 79506896.0000\n",
      "Epoch 54/300\n",
      "37/37 [==============================] - 0s 3ms/step - loss: 78080680.0000 - val_loss: 79101896.0000\n",
      "Epoch 55/300\n",
      "37/37 [==============================] - 0s 3ms/step - loss: 77749968.0000 - val_loss: 78703408.0000\n",
      "Epoch 56/300\n",
      "37/37 [==============================] - 0s 3ms/step - loss: 77433232.0000 - val_loss: 78318600.0000\n",
      "Epoch 57/300\n",
      "37/37 [==============================] - 0s 3ms/step - loss: 77099616.0000 - val_loss: 77908768.0000\n",
      "Epoch 58/300\n",
      "37/37 [==============================] - 0s 3ms/step - loss: 76761824.0000 - val_loss: 77526784.0000\n",
      "Epoch 59/300\n",
      "37/37 [==============================] - 0s 3ms/step - loss: 76432416.0000 - val_loss: 77118904.0000\n",
      "Epoch 60/300\n",
      "37/37 [==============================] - 0s 3ms/step - loss: 76099528.0000 - val_loss: 76739848.0000\n",
      "Epoch 61/300\n",
      "37/37 [==============================] - 0s 3ms/step - loss: 75776608.0000 - val_loss: 76325376.0000\n",
      "Epoch 62/300\n",
      "37/37 [==============================] - 0s 3ms/step - loss: 75442040.0000 - val_loss: 75939784.0000\n",
      "Epoch 63/300\n",
      "37/37 [==============================] - 0s 3ms/step - loss: 75100464.0000 - val_loss: 75552816.0000\n",
      "Epoch 64/300\n",
      "37/37 [==============================] - 0s 3ms/step - loss: 74761192.0000 - val_loss: 75133080.0000\n",
      "Epoch 65/300\n",
      "37/37 [==============================] - 0s 3ms/step - loss: 74429808.0000 - val_loss: 74739544.0000\n",
      "Epoch 66/300\n",
      "37/37 [==============================] - 0s 3ms/step - loss: 74090232.0000 - val_loss: 74348680.0000\n",
      "Epoch 67/300\n",
      "37/37 [==============================] - 0s 6ms/step - loss: 73765008.0000 - val_loss: 73976496.0000\n",
      "Epoch 68/300\n",
      "37/37 [==============================] - 0s 3ms/step - loss: 73411520.0000 - val_loss: 73529152.0000\n",
      "Epoch 69/300\n",
      "37/37 [==============================] - 0s 3ms/step - loss: 73066096.0000 - val_loss: 73155936.0000\n",
      "Epoch 70/300\n",
      "37/37 [==============================] - 0s 3ms/step - loss: 72728840.0000 - val_loss: 72741024.0000\n",
      "Epoch 71/300\n",
      "37/37 [==============================] - 0s 3ms/step - loss: 72380616.0000 - val_loss: 72298832.0000\n",
      "Epoch 72/300\n"
     ]
    },
    {
     "name": "stdout",
     "output_type": "stream",
     "text": [
      "37/37 [==============================] - 0s 3ms/step - loss: 72023776.0000 - val_loss: 71904536.0000\n",
      "Epoch 73/300\n",
      "37/37 [==============================] - 0s 3ms/step - loss: 71673536.0000 - val_loss: 71496216.0000\n",
      "Epoch 74/300\n",
      "37/37 [==============================] - 0s 3ms/step - loss: 71316424.0000 - val_loss: 71082328.0000\n",
      "Epoch 75/300\n",
      "37/37 [==============================] - 0s 3ms/step - loss: 70976464.0000 - val_loss: 70728480.0000\n",
      "Epoch 76/300\n",
      "37/37 [==============================] - 0s 3ms/step - loss: 70614360.0000 - val_loss: 70253152.0000\n",
      "Epoch 77/300\n",
      "37/37 [==============================] - 0s 3ms/step - loss: 70251608.0000 - val_loss: 69827024.0000\n",
      "Epoch 78/300\n",
      "37/37 [==============================] - 0s 3ms/step - loss: 69893976.0000 - val_loss: 69399520.0000\n",
      "Epoch 79/300\n",
      "37/37 [==============================] - 0s 3ms/step - loss: 69523840.0000 - val_loss: 69016480.0000\n",
      "Epoch 80/300\n",
      "37/37 [==============================] - 0s 5ms/step - loss: 69173032.0000 - val_loss: 68603632.0000\n",
      "Epoch 81/300\n",
      "37/37 [==============================] - 0s 3ms/step - loss: 68792744.0000 - val_loss: 68125440.0000\n",
      "Epoch 82/300\n",
      "37/37 [==============================] - 0s 3ms/step - loss: 68414512.0000 - val_loss: 67754520.0000\n",
      "Epoch 83/300\n",
      "37/37 [==============================] - 0s 3ms/step - loss: 68041456.0000 - val_loss: 67330704.0000\n",
      "Epoch 84/300\n",
      "37/37 [==============================] - 0s 3ms/step - loss: 67663024.0000 - val_loss: 66903064.0000\n",
      "Epoch 85/300\n",
      "37/37 [==============================] - 0s 3ms/step - loss: 67283552.0000 - val_loss: 66410332.0000\n",
      "Epoch 86/300\n",
      "37/37 [==============================] - 0s 5ms/step - loss: 66900332.0000 - val_loss: 66010528.0000\n",
      "Epoch 87/300\n",
      "37/37 [==============================] - 0s 5ms/step - loss: 66504404.0000 - val_loss: 65534596.0000\n",
      "Epoch 88/300\n",
      "37/37 [==============================] - 0s 3ms/step - loss: 66110152.0000 - val_loss: 65065328.0000\n",
      "Epoch 89/300\n",
      "37/37 [==============================] - 0s 3ms/step - loss: 65715816.0000 - val_loss: 64639312.0000\n",
      "Epoch 90/300\n",
      "37/37 [==============================] - 0s 3ms/step - loss: 65319312.0000 - val_loss: 64162688.0000\n",
      "Epoch 91/300\n",
      "37/37 [==============================] - 0s 3ms/step - loss: 64912080.0000 - val_loss: 63725808.0000\n",
      "Epoch 92/300\n",
      "37/37 [==============================] - 0s 3ms/step - loss: 64522520.0000 - val_loss: 63253940.0000\n",
      "Epoch 93/300\n",
      "37/37 [==============================] - 0s 3ms/step - loss: 64104612.0000 - val_loss: 62813572.0000\n",
      "Epoch 94/300\n",
      "37/37 [==============================] - 0s 3ms/step - loss: 63667872.0000 - val_loss: 62350600.0000\n",
      "Epoch 95/300\n",
      "37/37 [==============================] - 0s 3ms/step - loss: 63242456.0000 - val_loss: 61844588.0000\n",
      "Epoch 96/300\n",
      "37/37 [==============================] - 0s 3ms/step - loss: 62819176.0000 - val_loss: 61323812.0000\n",
      "Epoch 97/300\n",
      "37/37 [==============================] - 0s 3ms/step - loss: 62389696.0000 - val_loss: 60884896.0000\n",
      "Epoch 98/300\n",
      "37/37 [==============================] - 0s 3ms/step - loss: 61946532.0000 - val_loss: 60415248.0000\n",
      "Epoch 99/300\n",
      "37/37 [==============================] - 0s 3ms/step - loss: 61503108.0000 - val_loss: 59894996.0000\n",
      "Epoch 100/300\n",
      "37/37 [==============================] - 0s 3ms/step - loss: 61050308.0000 - val_loss: 59354100.0000\n",
      "Epoch 101/300\n",
      "37/37 [==============================] - 0s 3ms/step - loss: 60590232.0000 - val_loss: 58828356.0000\n",
      "Epoch 102/300\n",
      "37/37 [==============================] - 0s 3ms/step - loss: 60117696.0000 - val_loss: 58379904.0000\n",
      "Epoch 103/300\n",
      "37/37 [==============================] - 0s 3ms/step - loss: 59654356.0000 - val_loss: 57860056.0000\n",
      "Epoch 104/300\n",
      "37/37 [==============================] - 0s 3ms/step - loss: 59172600.0000 - val_loss: 57273700.0000\n",
      "Epoch 105/300\n",
      "37/37 [==============================] - 0s 3ms/step - loss: 58682808.0000 - val_loss: 56830960.0000\n",
      "Epoch 106/300\n",
      "37/37 [==============================] - 0s 3ms/step - loss: 58214672.0000 - val_loss: 56193100.0000\n",
      "Epoch 107/300\n",
      "37/37 [==============================] - 0s 3ms/step - loss: 57698640.0000 - val_loss: 55613632.0000\n",
      "Epoch 108/300\n",
      "37/37 [==============================] - 0s 3ms/step - loss: 57195424.0000 - val_loss: 55080732.0000\n",
      "Epoch 109/300\n",
      "37/37 [==============================] - 0s 3ms/step - loss: 56676832.0000 - val_loss: 54559844.0000\n",
      "Epoch 110/300\n",
      "37/37 [==============================] - 0s 3ms/step - loss: 56168352.0000 - val_loss: 54111448.0000\n",
      "Epoch 111/300\n",
      "37/37 [==============================] - 0s 3ms/step - loss: 55620408.0000 - val_loss: 53425832.0000\n",
      "Epoch 112/300\n",
      "37/37 [==============================] - ETA: 0s - loss: 54459464.00 - 0s 3ms/step - loss: 55085448.0000 - val_loss: 52810312.0000\n",
      "Epoch 113/300\n",
      "37/37 [==============================] - 0s 3ms/step - loss: 54543924.0000 - val_loss: 52352340.0000\n",
      "Epoch 114/300\n",
      "37/37 [==============================] - 0s 3ms/step - loss: 53999824.0000 - val_loss: 51761616.0000\n",
      "Epoch 115/300\n",
      "37/37 [==============================] - 0s 3ms/step - loss: 53436440.0000 - val_loss: 51076212.0000\n",
      "Epoch 116/300\n",
      "37/37 [==============================] - 0s 3ms/step - loss: 52874204.0000 - val_loss: 50486984.0000\n",
      "Epoch 117/300\n",
      "37/37 [==============================] - 0s 3ms/step - loss: 52297620.0000 - val_loss: 50133224.0000\n",
      "Epoch 118/300\n",
      "37/37 [==============================] - 0s 3ms/step - loss: 51699668.0000 - val_loss: 49300128.0000\n",
      "Epoch 119/300\n",
      "37/37 [==============================] - 0s 3ms/step - loss: 51112072.0000 - val_loss: 48659312.0000\n",
      "Epoch 120/300\n",
      "37/37 [==============================] - 0s 3ms/step - loss: 50508912.0000 - val_loss: 48142480.0000\n",
      "Epoch 121/300\n",
      "37/37 [==============================] - 0s 3ms/step - loss: 49898320.0000 - val_loss: 47452852.0000\n",
      "Epoch 122/300\n",
      "37/37 [==============================] - 0s 3ms/step - loss: 49287024.0000 - val_loss: 46807764.0000\n",
      "Epoch 123/300\n",
      "37/37 [==============================] - 0s 3ms/step - loss: 48682820.0000 - val_loss: 46237432.0000\n",
      "Epoch 124/300\n",
      "37/37 [==============================] - 0s 3ms/step - loss: 48039872.0000 - val_loss: 45664640.0000\n",
      "Epoch 125/300\n",
      "37/37 [==============================] - 0s 3ms/step - loss: 47413424.0000 - val_loss: 44940932.0000\n",
      "Epoch 126/300\n",
      "37/37 [==============================] - 0s 3ms/step - loss: 46773156.0000 - val_loss: 44505104.0000\n",
      "Epoch 127/300\n",
      "37/37 [==============================] - 0s 3ms/step - loss: 46137864.0000 - val_loss: 43847620.0000\n",
      "Epoch 128/300\n",
      "37/37 [==============================] - 0s 3ms/step - loss: 45485052.0000 - val_loss: 43290564.0000\n",
      "Epoch 129/300\n",
      "37/37 [==============================] - ETA: 0s - loss: 45226532.00 - 0s 3ms/step - loss: 44830948.0000 - val_loss: 42514016.0000\n",
      "Epoch 130/300\n",
      "37/37 [==============================] - 0s 3ms/step - loss: 44189344.0000 - val_loss: 42050420.0000\n",
      "Epoch 131/300\n",
      "37/37 [==============================] - 0s 4ms/step - loss: 43532172.0000 - val_loss: 41459920.0000\n",
      "Epoch 132/300\n",
      "37/37 [==============================] - 0s 3ms/step - loss: 42865620.0000 - val_loss: 40920960.0000\n",
      "Epoch 133/300\n",
      "37/37 [==============================] - 0s 3ms/step - loss: 42212736.0000 - val_loss: 40348912.0000\n",
      "Epoch 134/300\n",
      "37/37 [==============================] - 0s 3ms/step - loss: 41555340.0000 - val_loss: 39770244.0000\n",
      "Epoch 135/300\n",
      "37/37 [==============================] - 0s 3ms/step - loss: 40891948.0000 - val_loss: 39147620.0000\n",
      "Epoch 136/300\n",
      "37/37 [==============================] - 0s 3ms/step - loss: 40252408.0000 - val_loss: 38750408.0000\n",
      "Epoch 137/300\n",
      "37/37 [==============================] - 0s 3ms/step - loss: 39629884.0000 - val_loss: 38105328.0000\n",
      "Epoch 138/300\n",
      "37/37 [==============================] - 0s 3ms/step - loss: 38999392.0000 - val_loss: 37806920.0000\n",
      "Epoch 139/300\n",
      "37/37 [==============================] - 0s 3ms/step - loss: 38409148.0000 - val_loss: 37418688.0000\n",
      "Epoch 140/300\n",
      "37/37 [==============================] - 0s 3ms/step - loss: 37817548.0000 - val_loss: 36905324.0000\n",
      "Epoch 141/300\n",
      "37/37 [==============================] - 0s 3ms/step - loss: 37228244.0000 - val_loss: 36263664.0000\n",
      "Epoch 142/300\n",
      "37/37 [==============================] - 0s 3ms/step - loss: 36659008.0000 - val_loss: 35815424.0000\n",
      "Epoch 143/300\n"
     ]
    },
    {
     "name": "stdout",
     "output_type": "stream",
     "text": [
      "37/37 [==============================] - 0s 3ms/step - loss: 36103748.0000 - val_loss: 35551532.0000\n",
      "Epoch 144/300\n",
      "37/37 [==============================] - 0s 3ms/step - loss: 35563124.0000 - val_loss: 35138896.0000\n",
      "Epoch 145/300\n",
      "37/37 [==============================] - 0s 3ms/step - loss: 35044212.0000 - val_loss: 34803476.0000\n",
      "Epoch 146/300\n",
      "37/37 [==============================] - 0s 3ms/step - loss: 34544812.0000 - val_loss: 34406856.0000\n",
      "Epoch 147/300\n",
      "37/37 [==============================] - 0s 3ms/step - loss: 34064572.0000 - val_loss: 34576264.0000\n",
      "Epoch 148/300\n",
      "37/37 [==============================] - 0s 3ms/step - loss: 33583064.0000 - val_loss: 33691760.0000\n",
      "Epoch 149/300\n",
      "37/37 [==============================] - 0s 3ms/step - loss: 33132028.0000 - val_loss: 33630696.0000\n",
      "Epoch 150/300\n",
      "37/37 [==============================] - 0s 3ms/step - loss: 32685690.0000 - val_loss: 33420962.0000\n",
      "Epoch 151/300\n",
      "37/37 [==============================] - 0s 3ms/step - loss: 32285556.0000 - val_loss: 32926116.0000\n",
      "Epoch 152/300\n",
      "37/37 [==============================] - 0s 3ms/step - loss: 31887478.0000 - val_loss: 33598116.0000\n",
      "Epoch 153/300\n",
      "37/37 [==============================] - 0s 3ms/step - loss: 31486630.0000 - val_loss: 32651178.0000\n",
      "Epoch 154/300\n",
      "37/37 [==============================] - 0s 3ms/step - loss: 31100196.0000 - val_loss: 32587788.0000\n",
      "Epoch 155/300\n",
      "37/37 [==============================] - 0s 3ms/step - loss: 30758680.0000 - val_loss: 32739552.0000\n",
      "Epoch 156/300\n",
      "37/37 [==============================] - 0s 3ms/step - loss: 30409170.0000 - val_loss: 32285902.0000\n",
      "Epoch 157/300\n",
      "37/37 [==============================] - 0s 3ms/step - loss: 30085730.0000 - val_loss: 31481002.0000\n",
      "Epoch 158/300\n",
      "37/37 [==============================] - 0s 3ms/step - loss: 29771626.0000 - val_loss: 32296780.0000\n",
      "Epoch 159/300\n",
      "37/37 [==============================] - 0s 3ms/step - loss: 29451258.0000 - val_loss: 31977876.0000\n",
      "Epoch 160/300\n",
      "37/37 [==============================] - 0s 3ms/step - loss: 29131948.0000 - val_loss: 31478410.0000\n",
      "Epoch 161/300\n",
      "37/37 [==============================] - 0s 3ms/step - loss: 28816900.0000 - val_loss: 31191914.0000\n",
      "Epoch 162/300\n",
      "37/37 [==============================] - 0s 3ms/step - loss: 28492004.0000 - val_loss: 31255388.0000\n",
      "Epoch 163/300\n",
      "37/37 [==============================] - 0s 3ms/step - loss: 28174050.0000 - val_loss: 30478652.0000\n",
      "Epoch 164/300\n",
      "37/37 [==============================] - 0s 3ms/step - loss: 27842190.0000 - val_loss: 30642262.0000\n",
      "Epoch 165/300\n",
      "37/37 [==============================] - 0s 3ms/step - loss: 27515388.0000 - val_loss: 30494224.0000\n",
      "Epoch 166/300\n",
      "37/37 [==============================] - 0s 3ms/step - loss: 27188364.0000 - val_loss: 30372318.0000\n",
      "Epoch 167/300\n",
      "37/37 [==============================] - 0s 3ms/step - loss: 26894866.0000 - val_loss: 30072764.0000\n",
      "Epoch 168/300\n",
      "37/37 [==============================] - 0s 3ms/step - loss: 26563438.0000 - val_loss: 29818002.0000\n",
      "Epoch 169/300\n",
      "37/37 [==============================] - 0s 3ms/step - loss: 26263280.0000 - val_loss: 29484122.0000\n",
      "Epoch 170/300\n",
      "37/37 [==============================] - 0s 3ms/step - loss: 25990720.0000 - val_loss: 29216430.0000\n",
      "Epoch 171/300\n",
      "37/37 [==============================] - 0s 3ms/step - loss: 25721440.0000 - val_loss: 29293000.0000\n",
      "Epoch 172/300\n",
      "37/37 [==============================] - 0s 3ms/step - loss: 25497834.0000 - val_loss: 28863760.0000\n",
      "Epoch 173/300\n",
      "37/37 [==============================] - 0s 3ms/step - loss: 25268532.0000 - val_loss: 28818512.0000\n",
      "Epoch 174/300\n",
      "37/37 [==============================] - 0s 3ms/step - loss: 25081450.0000 - val_loss: 28562966.0000\n",
      "Epoch 175/300\n",
      "37/37 [==============================] - 0s 3ms/step - loss: 24880026.0000 - val_loss: 28240224.0000\n",
      "Epoch 176/300\n",
      "37/37 [==============================] - 0s 3ms/step - loss: 24722272.0000 - val_loss: 28665328.0000\n",
      "Epoch 177/300\n",
      "37/37 [==============================] - 0s 3ms/step - loss: 24553276.0000 - val_loss: 28338152.0000\n",
      "Epoch 178/300\n",
      "37/37 [==============================] - 0s 3ms/step - loss: 24385422.0000 - val_loss: 28241534.0000\n",
      "Epoch 179/300\n",
      "37/37 [==============================] - 0s 3ms/step - loss: 24246070.0000 - val_loss: 27963280.0000\n",
      "Epoch 180/300\n",
      "37/37 [==============================] - 0s 3ms/step - loss: 24121196.0000 - val_loss: 28078426.0000\n",
      "Epoch 181/300\n",
      "37/37 [==============================] - 0s 3ms/step - loss: 23934260.0000 - val_loss: 27719210.0000\n",
      "Epoch 182/300\n",
      "37/37 [==============================] - 0s 3ms/step - loss: 23769446.0000 - val_loss: 27912596.0000\n",
      "Epoch 183/300\n",
      "37/37 [==============================] - 0s 3ms/step - loss: 23616250.0000 - val_loss: 27904222.0000\n",
      "Epoch 184/300\n",
      "37/37 [==============================] - 0s 3ms/step - loss: 23465406.0000 - val_loss: 27691678.0000\n",
      "Epoch 185/300\n",
      "37/37 [==============================] - 0s 3ms/step - loss: 23329214.0000 - val_loss: 27799904.0000\n",
      "Epoch 186/300\n",
      "37/37 [==============================] - 0s 3ms/step - loss: 23147140.0000 - val_loss: 26928234.0000\n",
      "Epoch 187/300\n",
      "37/37 [==============================] - 0s 3ms/step - loss: 23020162.0000 - val_loss: 27463096.0000\n",
      "Epoch 188/300\n",
      "37/37 [==============================] - 0s 3ms/step - loss: 22892006.0000 - val_loss: 26797316.0000\n",
      "Epoch 189/300\n",
      "37/37 [==============================] - 0s 3ms/step - loss: 22787472.0000 - val_loss: 27062782.0000\n",
      "Epoch 190/300\n",
      "37/37 [==============================] - 0s 3ms/step - loss: 22672308.0000 - val_loss: 26571786.0000\n",
      "Epoch 191/300\n",
      "37/37 [==============================] - 0s 3ms/step - loss: 22553144.0000 - val_loss: 27082558.0000\n",
      "Epoch 192/300\n",
      "37/37 [==============================] - 0s 3ms/step - loss: 22460314.0000 - val_loss: 26705966.0000\n",
      "Epoch 193/300\n",
      "37/37 [==============================] - 0s 3ms/step - loss: 22366504.0000 - val_loss: 26575562.0000\n",
      "Epoch 194/300\n",
      "37/37 [==============================] - 0s 3ms/step - loss: 22277268.0000 - val_loss: 26211160.0000\n",
      "Epoch 195/300\n",
      "37/37 [==============================] - 0s 3ms/step - loss: 22203454.0000 - val_loss: 26023424.0000\n",
      "Epoch 196/300\n",
      "37/37 [==============================] - 0s 3ms/step - loss: 22124596.0000 - val_loss: 26435742.0000\n",
      "Epoch 197/300\n",
      "37/37 [==============================] - 0s 3ms/step - loss: 22051726.0000 - val_loss: 26024416.0000\n",
      "Epoch 198/300\n",
      "37/37 [==============================] - 0s 3ms/step - loss: 21996858.0000 - val_loss: 26273614.0000\n",
      "Epoch 199/300\n",
      "37/37 [==============================] - 0s 3ms/step - loss: 21939730.0000 - val_loss: 26156140.0000\n",
      "Epoch 200/300\n",
      "37/37 [==============================] - 0s 3ms/step - loss: 21865328.0000 - val_loss: 25666222.0000\n",
      "Epoch 201/300\n",
      "37/37 [==============================] - 0s 3ms/step - loss: 21830454.0000 - val_loss: 25702020.0000\n",
      "Epoch 202/300\n",
      "37/37 [==============================] - 0s 3ms/step - loss: 21765522.0000 - val_loss: 25932398.0000\n",
      "Epoch 203/300\n",
      "37/37 [==============================] - 0s 3ms/step - loss: 21715852.0000 - val_loss: 25802198.0000\n",
      "Epoch 204/300\n",
      "37/37 [==============================] - 0s 3ms/step - loss: 21656558.0000 - val_loss: 25637022.0000\n",
      "Epoch 205/300\n",
      "37/37 [==============================] - 0s 3ms/step - loss: 21612864.0000 - val_loss: 26062392.0000\n",
      "Epoch 206/300\n",
      "37/37 [==============================] - 0s 3ms/step - loss: 21567460.0000 - val_loss: 26041966.0000\n",
      "Epoch 207/300\n",
      "37/37 [==============================] - 0s 3ms/step - loss: 21515516.0000 - val_loss: 25254128.0000\n",
      "Epoch 208/300\n",
      "37/37 [==============================] - 0s 4ms/step - loss: 21479506.0000 - val_loss: 25767122.0000\n",
      "Epoch 209/300\n",
      "37/37 [==============================] - ETA: 0s - loss: 21341678.00 - 0s 3ms/step - loss: 21420612.0000 - val_loss: 25901120.0000\n",
      "Epoch 210/300\n",
      "37/37 [==============================] - 0s 3ms/step - loss: 21382748.0000 - val_loss: 25308038.0000\n",
      "Epoch 211/300\n",
      "37/37 [==============================] - 0s 3ms/step - loss: 21350298.0000 - val_loss: 25814826.0000\n",
      "Epoch 212/300\n",
      "37/37 [==============================] - 0s 3ms/step - loss: 21306568.0000 - val_loss: 25968634.0000\n",
      "Epoch 213/300\n",
      "37/37 [==============================] - 0s 3ms/step - loss: 21257378.0000 - val_loss: 25433182.0000\n",
      "Epoch 214/300\n"
     ]
    },
    {
     "name": "stdout",
     "output_type": "stream",
     "text": [
      "37/37 [==============================] - 0s 3ms/step - loss: 21217696.0000 - val_loss: 25391234.0000\n",
      "Epoch 215/300\n",
      "37/37 [==============================] - 0s 3ms/step - loss: 21175788.0000 - val_loss: 25769800.0000\n",
      "Epoch 216/300\n",
      "37/37 [==============================] - 0s 3ms/step - loss: 21174252.0000 - val_loss: 25572996.0000\n",
      "Epoch 217/300\n",
      "37/37 [==============================] - 0s 3ms/step - loss: 21113464.0000 - val_loss: 25384090.0000\n",
      "Epoch 218/300\n",
      "37/37 [==============================] - 0s 3ms/step - loss: 21086814.0000 - val_loss: 25634338.0000\n",
      "Epoch 219/300\n",
      "37/37 [==============================] - 0s 3ms/step - loss: 21030022.0000 - val_loss: 24660054.0000\n",
      "Epoch 220/300\n",
      "37/37 [==============================] - 0s 3ms/step - loss: 21037006.0000 - val_loss: 24815672.0000\n",
      "Epoch 221/300\n",
      "37/37 [==============================] - 0s 3ms/step - loss: 21017068.0000 - val_loss: 24926988.0000\n",
      "Epoch 222/300\n",
      "37/37 [==============================] - 0s 3ms/step - loss: 20958738.0000 - val_loss: 25231482.0000\n",
      "Epoch 223/300\n",
      "37/37 [==============================] - 0s 3ms/step - loss: 20914084.0000 - val_loss: 25088514.0000\n",
      "Epoch 224/300\n",
      "37/37 [==============================] - 0s 3ms/step - loss: 20875604.0000 - val_loss: 25217610.0000\n",
      "Epoch 225/300\n",
      "37/37 [==============================] - 0s 3ms/step - loss: 20844948.0000 - val_loss: 25047144.0000\n",
      "Epoch 226/300\n",
      "37/37 [==============================] - 0s 3ms/step - loss: 20825496.0000 - val_loss: 25431754.0000\n",
      "Epoch 227/300\n",
      "37/37 [==============================] - 0s 3ms/step - loss: 20778690.0000 - val_loss: 25053496.0000\n",
      "Epoch 228/300\n",
      "37/37 [==============================] - 0s 3ms/step - loss: 20751476.0000 - val_loss: 24729924.0000\n",
      "Epoch 229/300\n",
      "37/37 [==============================] - 0s 3ms/step - loss: 20716238.0000 - val_loss: 24644268.0000\n",
      "Epoch 230/300\n",
      "37/37 [==============================] - 0s 3ms/step - loss: 20688858.0000 - val_loss: 25228214.0000\n",
      "Epoch 231/300\n",
      "37/37 [==============================] - 0s 3ms/step - loss: 20662190.0000 - val_loss: 24679750.0000\n",
      "Epoch 232/300\n",
      "37/37 [==============================] - 0s 3ms/step - loss: 20633788.0000 - val_loss: 24636596.0000\n",
      "Epoch 233/300\n",
      "37/37 [==============================] - 0s 3ms/step - loss: 20610078.0000 - val_loss: 24820650.0000\n",
      "Epoch 234/300\n",
      "37/37 [==============================] - 0s 3ms/step - loss: 20577756.0000 - val_loss: 25050560.0000\n",
      "Epoch 235/300\n",
      "37/37 [==============================] - 0s 3ms/step - loss: 20582270.0000 - val_loss: 24589568.0000\n",
      "Epoch 236/300\n",
      "37/37 [==============================] - 0s 3ms/step - loss: 20563390.0000 - val_loss: 24557088.0000\n",
      "Epoch 237/300\n",
      "37/37 [==============================] - 0s 3ms/step - loss: 20504698.0000 - val_loss: 24980898.0000\n",
      "Epoch 238/300\n",
      "37/37 [==============================] - 0s 3ms/step - loss: 20505804.0000 - val_loss: 24971678.0000\n",
      "Epoch 239/300\n",
      "37/37 [==============================] - 0s 3ms/step - loss: 20447004.0000 - val_loss: 24284866.0000\n",
      "Epoch 240/300\n",
      "37/37 [==============================] - 0s 3ms/step - loss: 20450324.0000 - val_loss: 24410984.0000\n",
      "Epoch 241/300\n",
      "37/37 [==============================] - 0s 3ms/step - loss: 20420706.0000 - val_loss: 24395292.0000\n",
      "Epoch 242/300\n",
      "37/37 [==============================] - 0s 3ms/step - loss: 20392896.0000 - val_loss: 24413650.0000\n",
      "Epoch 243/300\n",
      "37/37 [==============================] - 0s 3ms/step - loss: 20388200.0000 - val_loss: 24218412.0000\n",
      "Epoch 244/300\n",
      "37/37 [==============================] - 0s 3ms/step - loss: 20350852.0000 - val_loss: 24351972.0000\n",
      "Epoch 245/300\n",
      "37/37 [==============================] - 0s 3ms/step - loss: 20331800.0000 - val_loss: 24686052.0000\n",
      "Epoch 246/300\n",
      "37/37 [==============================] - 0s 3ms/step - loss: 20335250.0000 - val_loss: 24296162.0000\n",
      "Epoch 247/300\n",
      "37/37 [==============================] - 0s 3ms/step - loss: 20316072.0000 - val_loss: 24487306.0000\n",
      "Epoch 248/300\n",
      "37/37 [==============================] - 0s 4ms/step - loss: 20285646.0000 - val_loss: 24605810.0000\n",
      "Epoch 249/300\n",
      "37/37 [==============================] - 0s 3ms/step - loss: 20261438.0000 - val_loss: 24145204.0000\n",
      "Epoch 250/300\n",
      "37/37 [==============================] - 0s 3ms/step - loss: 20255988.0000 - val_loss: 24458784.0000\n",
      "Epoch 251/300\n",
      "37/37 [==============================] - 0s 3ms/step - loss: 20224584.0000 - val_loss: 24107228.0000\n",
      "Epoch 252/300\n",
      "37/37 [==============================] - 0s 3ms/step - loss: 20227930.0000 - val_loss: 24323600.0000\n",
      "Epoch 253/300\n",
      "37/37 [==============================] - 0s 3ms/step - loss: 20208558.0000 - val_loss: 24609962.0000\n",
      "Epoch 254/300\n",
      "37/37 [==============================] - 0s 3ms/step - loss: 20185858.0000 - val_loss: 24427452.0000\n",
      "Epoch 255/300\n",
      "37/37 [==============================] - 0s 3ms/step - loss: 20175020.0000 - val_loss: 24264860.0000\n",
      "Epoch 256/300\n",
      "37/37 [==============================] - 0s 3ms/step - loss: 20161138.0000 - val_loss: 24057078.0000\n",
      "Epoch 257/300\n",
      "37/37 [==============================] - 0s 3ms/step - loss: 20145044.0000 - val_loss: 24232332.0000\n",
      "Epoch 258/300\n",
      "37/37 [==============================] - 0s 4ms/step - loss: 20130544.0000 - val_loss: 24232436.0000\n",
      "Epoch 259/300\n",
      "37/37 [==============================] - 0s 3ms/step - loss: 20118606.0000 - val_loss: 24763938.0000\n",
      "Epoch 260/300\n",
      "37/37 [==============================] - 0s 3ms/step - loss: 20109270.0000 - val_loss: 23907792.0000\n",
      "Epoch 261/300\n",
      "37/37 [==============================] - 0s 4ms/step - loss: 20075938.0000 - val_loss: 24411150.0000\n",
      "Epoch 262/300\n",
      "37/37 [==============================] - 0s 3ms/step - loss: 20072780.0000 - val_loss: 23854930.0000\n",
      "Epoch 263/300\n",
      "37/37 [==============================] - 0s 3ms/step - loss: 20084554.0000 - val_loss: 24066958.0000\n",
      "Epoch 264/300\n",
      "37/37 [==============================] - 0s 3ms/step - loss: 20049848.0000 - val_loss: 24285790.0000\n",
      "Epoch 265/300\n",
      "37/37 [==============================] - 0s 3ms/step - loss: 20026810.0000 - val_loss: 24301382.0000\n",
      "Epoch 266/300\n",
      "37/37 [==============================] - 0s 4ms/step - loss: 20021894.0000 - val_loss: 23849840.0000\n",
      "Epoch 267/300\n",
      "37/37 [==============================] - 0s 3ms/step - loss: 20018432.0000 - val_loss: 23960102.0000\n",
      "Epoch 268/300\n",
      "37/37 [==============================] - 0s 3ms/step - loss: 20014492.0000 - val_loss: 24018992.0000\n",
      "Epoch 269/300\n",
      "37/37 [==============================] - 0s 3ms/step - loss: 19979748.0000 - val_loss: 23758708.0000\n",
      "Epoch 270/300\n",
      "37/37 [==============================] - 0s 3ms/step - loss: 19968380.0000 - val_loss: 24166860.0000\n",
      "Epoch 271/300\n",
      "37/37 [==============================] - 0s 3ms/step - loss: 19949730.0000 - val_loss: 24009260.0000\n",
      "Epoch 272/300\n",
      "37/37 [==============================] - 0s 3ms/step - loss: 19927648.0000 - val_loss: 23788428.0000\n",
      "Epoch 273/300\n",
      "37/37 [==============================] - 0s 3ms/step - loss: 19919176.0000 - val_loss: 23753460.0000\n",
      "Epoch 274/300\n",
      "37/37 [==============================] - 0s 3ms/step - loss: 19922036.0000 - val_loss: 23604640.0000\n",
      "Epoch 275/300\n",
      "37/37 [==============================] - 0s 3ms/step - loss: 19917630.0000 - val_loss: 23695644.0000\n",
      "Epoch 276/300\n",
      "37/37 [==============================] - 0s 3ms/step - loss: 19894426.0000 - val_loss: 23823052.0000\n",
      "Epoch 277/300\n",
      "37/37 [==============================] - 0s 3ms/step - loss: 19858512.0000 - val_loss: 24180808.0000\n",
      "Epoch 278/300\n",
      "37/37 [==============================] - 0s 3ms/step - loss: 19852750.0000 - val_loss: 23761228.0000\n",
      "Epoch 279/300\n",
      "37/37 [==============================] - 0s 3ms/step - loss: 19845832.0000 - val_loss: 24126542.0000\n",
      "Epoch 280/300\n",
      "37/37 [==============================] - 0s 3ms/step - loss: 19818018.0000 - val_loss: 23913214.0000\n",
      "Epoch 281/300\n",
      "37/37 [==============================] - 0s 3ms/step - loss: 19792942.0000 - val_loss: 24310682.0000\n",
      "Epoch 282/300\n",
      "37/37 [==============================] - 0s 3ms/step - loss: 19794006.0000 - val_loss: 23947216.0000\n",
      "Epoch 283/300\n",
      "37/37 [==============================] - 0s 3ms/step - loss: 19768226.0000 - val_loss: 23922486.0000\n",
      "Epoch 284/300\n",
      "37/37 [==============================] - 0s 3ms/step - loss: 19770874.0000 - val_loss: 23776372.0000\n",
      "Epoch 285/300\n"
     ]
    },
    {
     "name": "stdout",
     "output_type": "stream",
     "text": [
      "37/37 [==============================] - 0s 3ms/step - loss: 19747244.0000 - val_loss: 24225186.0000\n",
      "Epoch 286/300\n",
      "37/37 [==============================] - 0s 3ms/step - loss: 19733224.0000 - val_loss: 23597228.0000\n",
      "Epoch 287/300\n",
      "37/37 [==============================] - 0s 3ms/step - loss: 19726768.0000 - val_loss: 23736892.0000\n",
      "Epoch 288/300\n",
      "37/37 [==============================] - 0s 3ms/step - loss: 19706554.0000 - val_loss: 23682576.0000\n",
      "Epoch 289/300\n",
      "37/37 [==============================] - 0s 3ms/step - loss: 19710470.0000 - val_loss: 23835218.0000\n",
      "Epoch 290/300\n",
      "37/37 [==============================] - 0s 3ms/step - loss: 19685792.0000 - val_loss: 23680070.0000\n",
      "Epoch 291/300\n",
      "37/37 [==============================] - 0s 3ms/step - loss: 19671042.0000 - val_loss: 23887500.0000\n",
      "Epoch 292/300\n",
      "37/37 [==============================] - 0s 3ms/step - loss: 19680356.0000 - val_loss: 23865510.0000\n",
      "Epoch 293/300\n",
      "37/37 [==============================] - 0s 4ms/step - loss: 19655532.0000 - val_loss: 23963516.0000\n",
      "Epoch 294/300\n",
      "37/37 [==============================] - 0s 3ms/step - loss: 19644970.0000 - val_loss: 23577280.0000\n",
      "Epoch 295/300\n",
      "37/37 [==============================] - 0s 3ms/step - loss: 19617040.0000 - val_loss: 23943706.0000\n",
      "Epoch 296/300\n",
      "37/37 [==============================] - 0s 3ms/step - loss: 19607136.0000 - val_loss: 23559600.0000\n",
      "Epoch 297/300\n",
      "37/37 [==============================] - 0s 3ms/step - loss: 19601068.0000 - val_loss: 23953052.0000\n",
      "Epoch 298/300\n",
      "37/37 [==============================] - 0s 3ms/step - loss: 19592820.0000 - val_loss: 24015568.0000\n",
      "Epoch 299/300\n",
      "37/37 [==============================] - 0s 3ms/step - loss: 19568758.0000 - val_loss: 23511810.0000\n",
      "Epoch 300/300\n",
      "37/37 [==============================] - 0s 3ms/step - loss: 19565078.0000 - val_loss: 23606394.0000\n"
     ]
    },
    {
     "data": {
      "text/plain": [
       "<tensorflow.python.keras.callbacks.History at 0x229713e3c10>"
      ]
     },
     "execution_count": 47,
     "metadata": {},
     "output_type": "execute_result"
    }
   ],
   "source": [
    "model.fit(x=x_train,y=y_train,validation_data=(x_test,y_test),batch_size=250,epochs=300)#validation=doğrulama datası gibi-batch_size\n"
   ]
  },
  {
   "cell_type": "code",
   "execution_count": 48,
   "id": "1b29db27",
   "metadata": {},
   "outputs": [],
   "source": [
    "kayıpveri=pd.DataFrame(model.history.history)"
   ]
  },
  {
   "cell_type": "code",
   "execution_count": 49,
   "id": "f70e8b0b",
   "metadata": {},
   "outputs": [
    {
     "data": {
      "text/html": [
       "<div>\n",
       "<style scoped>\n",
       "    .dataframe tbody tr th:only-of-type {\n",
       "        vertical-align: middle;\n",
       "    }\n",
       "\n",
       "    .dataframe tbody tr th {\n",
       "        vertical-align: top;\n",
       "    }\n",
       "\n",
       "    .dataframe thead th {\n",
       "        text-align: right;\n",
       "    }\n",
       "</style>\n",
       "<table border=\"1\" class=\"dataframe\">\n",
       "  <thead>\n",
       "    <tr style=\"text-align: right;\">\n",
       "      <th></th>\n",
       "      <th>loss</th>\n",
       "      <th>val_loss</th>\n",
       "    </tr>\n",
       "  </thead>\n",
       "  <tbody>\n",
       "    <tr>\n",
       "      <th>0</th>\n",
       "      <td>672146880.0</td>\n",
       "      <td>688107392.0</td>\n",
       "    </tr>\n",
       "    <tr>\n",
       "      <th>1</th>\n",
       "      <td>672134336.0</td>\n",
       "      <td>688089536.0</td>\n",
       "    </tr>\n",
       "    <tr>\n",
       "      <th>2</th>\n",
       "      <td>672107840.0</td>\n",
       "      <td>688048960.0</td>\n",
       "    </tr>\n",
       "    <tr>\n",
       "      <th>3</th>\n",
       "      <td>672044096.0</td>\n",
       "      <td>687947520.0</td>\n",
       "    </tr>\n",
       "    <tr>\n",
       "      <th>4</th>\n",
       "      <td>671881408.0</td>\n",
       "      <td>687688384.0</td>\n",
       "    </tr>\n",
       "    <tr>\n",
       "      <th>...</th>\n",
       "      <td>...</td>\n",
       "      <td>...</td>\n",
       "    </tr>\n",
       "    <tr>\n",
       "      <th>295</th>\n",
       "      <td>19607136.0</td>\n",
       "      <td>23559600.0</td>\n",
       "    </tr>\n",
       "    <tr>\n",
       "      <th>296</th>\n",
       "      <td>19601068.0</td>\n",
       "      <td>23953052.0</td>\n",
       "    </tr>\n",
       "    <tr>\n",
       "      <th>297</th>\n",
       "      <td>19592820.0</td>\n",
       "      <td>24015568.0</td>\n",
       "    </tr>\n",
       "    <tr>\n",
       "      <th>298</th>\n",
       "      <td>19568758.0</td>\n",
       "      <td>23511810.0</td>\n",
       "    </tr>\n",
       "    <tr>\n",
       "      <th>299</th>\n",
       "      <td>19565078.0</td>\n",
       "      <td>23606394.0</td>\n",
       "    </tr>\n",
       "  </tbody>\n",
       "</table>\n",
       "<p>300 rows × 2 columns</p>\n",
       "</div>"
      ],
      "text/plain": [
       "            loss     val_loss\n",
       "0    672146880.0  688107392.0\n",
       "1    672134336.0  688089536.0\n",
       "2    672107840.0  688048960.0\n",
       "3    672044096.0  687947520.0\n",
       "4    671881408.0  687688384.0\n",
       "..           ...          ...\n",
       "295   19607136.0   23559600.0\n",
       "296   19601068.0   23953052.0\n",
       "297   19592820.0   24015568.0\n",
       "298   19568758.0   23511810.0\n",
       "299   19565078.0   23606394.0\n",
       "\n",
       "[300 rows x 2 columns]"
      ]
     },
     "execution_count": 49,
     "metadata": {},
     "output_type": "execute_result"
    }
   ],
   "source": [
    "kayıpveri"
   ]
  },
  {
   "cell_type": "code",
   "execution_count": 50,
   "id": "805d7c37",
   "metadata": {},
   "outputs": [
    {
     "data": {
      "text/plain": [
       "<AxesSubplot:>"
      ]
     },
     "execution_count": 50,
     "metadata": {},
     "output_type": "execute_result"
    },
    {
     "data": {
      "image/png": "[encoded data removed]",
      "text/plain": [
       "<Figure size 432x288 with 1 Axes>"
      ]
     },
     "metadata": {
      "needs_background": "light"
     },
     "output_type": "display_data"
    }
   ],
   "source": [
    "kayıpveri.plot()\n",
    "#kayıp ve doğrulama kaybı benzer değilse over_fiting olabilir\n",
    "#veri modelini baştan yap veya epochs'ı azalt"
   ]
  },
  {
   "cell_type": "code",
   "execution_count": 51,
   "id": "03c9a670",
   "metadata": {},
   "outputs": [],
   "source": [
    "#tahminler ve bu tahminler için kıyaslama yapmamız gerek\n",
    "from sklearn.metrics import mean_squared_error, mean_absolute_error"
   ]
  },
  {
   "cell_type": "code",
   "execution_count": 52,
   "id": "84300723",
   "metadata": {},
   "outputs": [
    {
     "data": {
      "text/plain": [
       "3425.1566670500747"
      ]
     },
     "execution_count": 52,
     "metadata": {},
     "output_type": "execute_result"
    }
   ],
   "source": [
    "tahmindizisi=model.predict(x_test)#\n",
    "mean_absolute_error(y_test,tahmindizisi)\n",
    "#3425.156 pournd ana fiyattan sapmış \n",
    "# %13lük bir fark var\n",
    "#bu fark kabul edilir ise sorun yok\n",
    "#kabul edilemezse verimizi daha fazla temizliyebiliriz,test_size veya split_size değiştirebiliriz,ipocks arttırılabilir neron sayımızı veya katman sayımızı değiştirebiliriz\n"
   ]
  },
  {
   "cell_type": "code",
   "execution_count": 54,
   "id": "2b2c34ad",
   "metadata": {},
   "outputs": [
    {
     "data": {
      "text/plain": [
       "[<matplotlib.lines.Line2D at 0x2297056f340>]"
      ]
     },
     "execution_count": 54,
     "metadata": {},
     "output_type": "execute_result"
    },
    {
     "data": {
      "image/png": "[encoded data removed]",
      "text/plain": [
       "<Figure size 432x288 with 1 Axes>"
      ]
     },
     "metadata": {
      "needs_background": "light"
     },
     "output_type": "display_data"
    }
   ],
   "source": [
    "plt.scatter(y_test,tahmindizisi)\n",
    "plt.plot(y_test,y_test,\"g-*\")"
   ]
  },
  {
   "cell_type": "code",
   "execution_count": 55,
   "id": "c1effdd9",
   "metadata": {},
   "outputs": [
    {
     "data": {
      "text/plain": [
       "year           2019.0\n",
       "price         65000.0\n",
       "mileage        3398.0\n",
       "tax             145.0\n",
       "mpg              27.2\n",
       "engineSize        4.0\n",
       "Name: 4727, dtype: float64"
      ]
     },
     "execution_count": 55,
     "metadata": {},
     "output_type": "execute_result"
    }
   ],
   "source": [
    "dataFrame.iloc[3]"
   ]
  },
  {
   "cell_type": "code",
   "execution_count": 60,
   "id": "97a83037",
   "metadata": {},
   "outputs": [],
   "source": [
    "yeni_arabaseries=dataFrame.drop(\"price\",axis=1).iloc[3]#pandas.serias\n"
   ]
  },
  {
   "cell_type": "code",
   "execution_count": 62,
   "id": "91f069b2",
   "metadata": {},
   "outputs": [],
   "source": [
    "yeni_arabaseries=scaler.transform(yeni_arabaseries.values.reshape(-1,5))"
   ]
  },
  {
   "cell_type": "code",
   "execution_count": 63,
   "id": "3ba7c353",
   "metadata": {},
   "outputs": [
    {
     "data": {
      "text/plain": [
       "array([[58877.516]], dtype=float32)"
      ]
     },
     "execution_count": 63,
     "metadata": {},
     "output_type": "execute_result"
    }
   ],
   "source": [
    "model.predict(yeni_arabaseries)\n",
    "#asıl değeri 65.000 ,tahmini değer=58.877,5"
   ]
  },
  {
   "cell_type": "code",
   "execution_count": null,
   "id": "604146aa",
   "metadata": {},
   "outputs": [],
   "source": []
  }
 ],
 "metadata": {
  "kernelspec": {
   "display_name": "Python 3 (ipykernel)",
   "language": "python",
   "name": "python3"
  },
  "language_info": {
   "codemirror_mode": {
    "name": "ipython",
    "version": 3
   },
   "file_extension": ".py",
   "mimetype": "text/x-python",
   "name": "python",
   "nbconvert_exporter": "python",
   "pygments_lexer": "ipython3",
   "version": "3.8.12"
  }
 },
 "nbformat": 4,
 "nbformat_minor": 5
}
