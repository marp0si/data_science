{
 "cells": [
  {
   "cell_type": "code",
   "execution_count": 25,
   "id": "a29b81d1",
   "metadata": {},
   "outputs": [],
   "source": [
    "import pandas as pd\n",
    "import numpy as np"
   ]
  },
  {
   "cell_type": "markdown",
   "id": "dc2f2d0f",
   "metadata": {},
   "source": [
    "series/seriler (hem liste-dict-numpy_dizisi ile )\n",
    "ps.Series(data,index)"
   ]
  },
  {
   "cell_type": "code",
   "execution_count": 26,
   "id": "49552efe",
   "metadata": {},
   "outputs": [
    {
     "name": "stdout",
     "output_type": "stream",
     "text": [
      "veri1    1\n",
      "veri2    2\n",
      "veri3    3\n",
      "dtype: int64\n"
     ]
    }
   ],
   "source": [
    "dict1={\"veri1\":1,\"veri2\":2,\"veri3\":3} \n",
    "print(pd.Series(dict1))"
   ]
  },
  {
   "cell_type": "code",
   "execution_count": 27,
   "id": "7c9b9434",
   "metadata": {},
   "outputs": [
    {
     "name": "stdout",
     "output_type": "stream",
     "text": [
      "veri1    1\n",
      "veri2    2\n",
      "veri3    3\n",
      "dtype: int64\n",
      "1    veri1\n",
      "2    veri2\n",
      "3    veri3\n",
      "dtype: object\n"
     ]
    }
   ],
   "source": [
    "dict1=[\"veri1\",\"veri2\",\"veri3\"]\n",
    "dict2=[1,2,3]\n",
    "print(pd.Series(dict2,dict1))\n",
    "print(pd.Series(dict1,dict2))"
   ]
  },
  {
   "cell_type": "code",
   "execution_count": 28,
   "id": "9fc9fff7",
   "metadata": {},
   "outputs": [
    {
     "name": "stdout",
     "output_type": "stream",
     "text": [
      "Atlas    20\n",
      "Sinan    10\n",
      "Mert      8\n",
      "dtype: int64,\n",
      " Atlas    10\n",
      "Sinan    20\n",
      "Mert     22\n",
      "dtype: int64\n"
     ]
    }
   ],
   "source": [
    "yarısmaSonucu1=pd.Series([20,10,8],[\"Atlas\",\"Sinan\",\"Mert\"])\n",
    "yarısmaSonucu2=pd.Series([10,20,22],[\"Atlas\",\"Sinan\",\"Mert\"])\n",
    "print(f\"{yarısmaSonucu1},\\n {yarısmaSonucu2}\")"
   ]
  },
  {
   "cell_type": "code",
   "execution_count": 29,
   "id": "71f170e8",
   "metadata": {},
   "outputs": [
    {
     "name": "stdout",
     "output_type": "stream",
     "text": [
      "Atlas    30\n",
      "Sinan    30\n",
      "Mert     30\n",
      "dtype: int64\n"
     ]
    }
   ],
   "source": [
    "yarısmaSonuc=yarısmaSonucu1+yarısmaSonucu2\n",
    "print(yarısmaSonuc)"
   ]
  },
  {
   "cell_type": "code",
   "execution_count": 30,
   "id": "b8ca83e5",
   "metadata": {},
   "outputs": [
    {
     "name": "stdout",
     "output_type": "stream",
     "text": [
      "a    80\n",
      "b    80\n",
      "c    80\n",
      "d    80\n",
      "dtype: int64\n"
     ]
    }
   ],
   "source": [
    "farklıseri1=pd.Series([20,30,40,50],[\"a\",\"b\",\"c\",\"d\"])\n",
    "farklıseri2=pd.Series([30,40,50,60],[\"d\",\"c\",\"b\",\"a\"])\n",
    "farklıserisonuc=farklıseri1+farklıseri2\n",
    "print(farklıserisonuc)"
   ]
  },
  {
   "cell_type": "code",
   "execution_count": 31,
   "id": "a4d43a5c",
   "metadata": {},
   "outputs": [
    {
     "name": "stdout",
     "output_type": "stream",
     "text": [
      "a    80.0\n",
      "b     NaN\n",
      "c    80.0\n",
      "d     NaN\n",
      "f     NaN\n",
      "g     NaN\n",
      "dtype: float64\n"
     ]
    }
   ],
   "source": [
    "farklıseri1=pd.Series([20,30,40,50],[\"a\",\"b\",\"c\",\"d\"])\n",
    "farklıseri2=pd.Series([60,40,50,60],[\"a\",\"c\",\"g\",\"f\"])\n",
    "farklıserisonuc=farklıseri1+farklıseri2\n",
    "print(farklıserisonuc)"
   ]
  },
  {
   "cell_type": "markdown",
   "id": "c73ee8e9",
   "metadata": {},
   "source": [
    "##DATAFramePandas\n",
    "serilerin yanyana gelmesi ile oluşan bir yapı"
   ]
  },
  {
   "cell_type": "code",
   "execution_count": 32,
   "id": "4440dde1",
   "metadata": {},
   "outputs": [
    {
     "name": "stdout",
     "output_type": "stream",
     "text": [
      "          0         1         2\n",
      "0  0.528466 -1.205621 -0.233643\n",
      "1  0.525813 -0.462805 -1.639101\n",
      "2  0.729274  1.149251 -0.302349\n",
      "          sütun1    sütun2    sütun3\n",
      "satır1  0.528466 -1.205621 -0.233643\n",
      "satır2  0.525813 -0.462805 -1.639101\n",
      "satır3  0.729274  1.149251 -0.302349\n"
     ]
    }
   ],
   "source": [
    "data=np.random.randn(3,3)\n",
    "dataFrame=pd.DataFrame(data)#type pandas.core.series.Series\n",
    "dataFrame1=pd.DataFrame(data,index=[\"satır1\",\"satır2\",\"satır3\"],columns=[\"sütun1\",\"sütun2\",\"sütun3\"])\n",
    "print(dataFrame)\n",
    "print(dataFrame1)"
   ]
  },
  {
   "cell_type": "code",
   "execution_count": 33,
   "id": "c7458aca",
   "metadata": {},
   "outputs": [
    {
     "data": {
      "text/plain": [
       "sütun1    0.528466\n",
       "sütun2   -1.205621\n",
       "sütun3   -0.233643\n",
       "Name: satır1, dtype: float64"
      ]
     },
     "execution_count": 33,
     "metadata": {},
     "output_type": "execute_result"
    }
   ],
   "source": [
    "dataFrame1[\"sütun1\"]\n",
    "dataFrame1[[\"sütun1\",\"sütun2\"]]\n",
    "dataFrame1.loc[\"satır1\"]#dataFrame1.iloc[1]"
   ]
  },
  {
   "cell_type": "code",
   "execution_count": 34,
   "id": "7b53bee7",
   "metadata": {},
   "outputs": [
    {
     "data": {
      "text/plain": [
       "0.5258127629642645"
      ]
     },
     "execution_count": 34,
     "metadata": {},
     "output_type": "execute_result"
    }
   ],
   "source": [
    "dataFrame1.iloc[1,2]\n",
    "dataFrame[0][1]"
   ]
  },
  {
   "cell_type": "code",
   "execution_count": 35,
   "id": "1ad07cac",
   "metadata": {},
   "outputs": [
    {
     "data": {
      "text/html": [
       "<div>\n",
       "<style scoped>\n",
       "    .dataframe tbody tr th:only-of-type {\n",
       "        vertical-align: middle;\n",
       "    }\n",
       "\n",
       "    .dataframe tbody tr th {\n",
       "        vertical-align: top;\n",
       "    }\n",
       "\n",
       "    .dataframe thead th {\n",
       "        text-align: right;\n",
       "    }\n",
       "</style>\n",
       "<table border=\"1\" class=\"dataframe\">\n",
       "  <thead>\n",
       "    <tr style=\"text-align: right;\">\n",
       "      <th></th>\n",
       "      <th>sütun2</th>\n",
       "      <th>sütun3</th>\n",
       "      <th>sütun4</th>\n",
       "    </tr>\n",
       "  </thead>\n",
       "  <tbody>\n",
       "    <tr>\n",
       "      <th>satır1</th>\n",
       "      <td>-1.205621</td>\n",
       "      <td>-0.233643</td>\n",
       "      <td>-0.677156</td>\n",
       "    </tr>\n",
       "    <tr>\n",
       "      <th>satır2</th>\n",
       "      <td>-0.462805</td>\n",
       "      <td>-1.639101</td>\n",
       "      <td>0.063007</td>\n",
       "    </tr>\n",
       "    <tr>\n",
       "      <th>satır3</th>\n",
       "      <td>1.149251</td>\n",
       "      <td>-0.302349</td>\n",
       "      <td>1.878525</td>\n",
       "    </tr>\n",
       "  </tbody>\n",
       "</table>\n",
       "</div>"
      ],
      "text/plain": [
       "          sütun2    sütun3    sütun4\n",
       "satır1 -1.205621 -0.233643 -0.677156\n",
       "satır2 -0.462805 -1.639101  0.063007\n",
       "satır3  1.149251 -0.302349  1.878525"
      ]
     },
     "execution_count": 35,
     "metadata": {},
     "output_type": "execute_result"
    }
   ],
   "source": [
    "dataFrame1[\"sütun4\"]=dataFrame1[\"sütun1\"]+dataFrame1[\"sütun2\"]\n",
    "dataFrame1[\"sütun4\"]\n",
    "dataFrame1.drop(\"sütun1\",axis=1, inplace=False)#sütun siler axis=1 sütun 0 ise satır\n"
   ]
  },
  {
   "cell_type": "code",
   "execution_count": 36,
   "id": "ac47af96",
   "metadata": {},
   "outputs": [],
   "source": [
    "dataFrame1# gerçekten silmiyor fonsiyon olarak yani\n",
    "dataFrame1.drop(\"sütun1\",axis=1,inplace=True)"
   ]
  },
  {
   "cell_type": "code",
   "execution_count": 37,
   "id": "1d3ea1bb",
   "metadata": {},
   "outputs": [
    {
     "data": {
      "text/plain": [
       "satır1    0.3\n",
       "satır2   -0.1\n",
       "satır3    0.5\n",
       "Name: sütun1, dtype: float64"
      ]
     },
     "execution_count": 37,
     "metadata": {},
     "output_type": "execute_result"
    }
   ],
   "source": [
    "dataFrame1[\"sütun1\"]=[0.3,-0.1,0.5]\n",
    "dataFrame1[\"sütun1\"]"
   ]
  },
  {
   "cell_type": "code",
   "execution_count": 38,
   "id": "bd78f717",
   "metadata": {},
   "outputs": [
    {
     "data": {
      "text/html": [
       "<div>\n",
       "<style scoped>\n",
       "    .dataframe tbody tr th:only-of-type {\n",
       "        vertical-align: middle;\n",
       "    }\n",
       "\n",
       "    .dataframe tbody tr th {\n",
       "        vertical-align: top;\n",
       "    }\n",
       "\n",
       "    .dataframe thead th {\n",
       "        text-align: right;\n",
       "    }\n",
       "</style>\n",
       "<table border=\"1\" class=\"dataframe\">\n",
       "  <thead>\n",
       "    <tr style=\"text-align: right;\">\n",
       "      <th></th>\n",
       "      <th>sütun2</th>\n",
       "      <th>sütun3</th>\n",
       "      <th>sütun4</th>\n",
       "      <th>sütun1</th>\n",
       "    </tr>\n",
       "  </thead>\n",
       "  <tbody>\n",
       "    <tr>\n",
       "      <th>satır1</th>\n",
       "      <td>True</td>\n",
       "      <td>True</td>\n",
       "      <td>True</td>\n",
       "      <td>False</td>\n",
       "    </tr>\n",
       "    <tr>\n",
       "      <th>satır2</th>\n",
       "      <td>True</td>\n",
       "      <td>True</td>\n",
       "      <td>False</td>\n",
       "      <td>True</td>\n",
       "    </tr>\n",
       "    <tr>\n",
       "      <th>satır3</th>\n",
       "      <td>False</td>\n",
       "      <td>True</td>\n",
       "      <td>False</td>\n",
       "      <td>False</td>\n",
       "    </tr>\n",
       "  </tbody>\n",
       "</table>\n",
       "</div>"
      ],
      "text/plain": [
       "        sütun2  sütun3  sütun4  sütun1\n",
       "satır1    True    True    True   False\n",
       "satır2    True    True   False    True\n",
       "satır3   False    True   False   False"
      ]
     },
     "execution_count": 38,
     "metadata": {},
     "output_type": "execute_result"
    }
   ],
   "source": [
    "dataFrame1\n",
    "bloolenFrame=dataFrame1<0\n",
    "dataFrame1<0"
   ]
  },
  {
   "cell_type": "code",
   "execution_count": 39,
   "id": "33f36f50",
   "metadata": {},
   "outputs": [
    {
     "data": {
      "text/html": [
       "<div>\n",
       "<style scoped>\n",
       "    .dataframe tbody tr th:only-of-type {\n",
       "        vertical-align: middle;\n",
       "    }\n",
       "\n",
       "    .dataframe tbody tr th {\n",
       "        vertical-align: top;\n",
       "    }\n",
       "\n",
       "    .dataframe thead th {\n",
       "        text-align: right;\n",
       "    }\n",
       "</style>\n",
       "<table border=\"1\" class=\"dataframe\">\n",
       "  <thead>\n",
       "    <tr style=\"text-align: right;\">\n",
       "      <th></th>\n",
       "      <th>sütun2</th>\n",
       "      <th>sütun3</th>\n",
       "      <th>sütun4</th>\n",
       "      <th>sütun1</th>\n",
       "    </tr>\n",
       "  </thead>\n",
       "  <tbody>\n",
       "    <tr>\n",
       "      <th>satır1</th>\n",
       "      <td>-1.205621</td>\n",
       "      <td>-0.233643</td>\n",
       "      <td>-0.677156</td>\n",
       "      <td>NaN</td>\n",
       "    </tr>\n",
       "    <tr>\n",
       "      <th>satır2</th>\n",
       "      <td>-0.462805</td>\n",
       "      <td>-1.639101</td>\n",
       "      <td>NaN</td>\n",
       "      <td>-0.1</td>\n",
       "    </tr>\n",
       "    <tr>\n",
       "      <th>satır3</th>\n",
       "      <td>NaN</td>\n",
       "      <td>-0.302349</td>\n",
       "      <td>NaN</td>\n",
       "      <td>NaN</td>\n",
       "    </tr>\n",
       "  </tbody>\n",
       "</table>\n",
       "</div>"
      ],
      "text/plain": [
       "          sütun2    sütun3    sütun4  sütun1\n",
       "satır1 -1.205621 -0.233643 -0.677156     NaN\n",
       "satır2 -0.462805 -1.639101       NaN    -0.1\n",
       "satır3       NaN -0.302349       NaN     NaN"
      ]
     },
     "execution_count": 39,
     "metadata": {},
     "output_type": "execute_result"
    }
   ],
   "source": [
    "dataFrame1[bloolenFrame]"
   ]
  },
  {
   "cell_type": "code",
   "execution_count": 40,
   "id": "af3351c7",
   "metadata": {},
   "outputs": [
    {
     "data": {
      "text/html": [
       "<div>\n",
       "<style scoped>\n",
       "    .dataframe tbody tr th:only-of-type {\n",
       "        vertical-align: middle;\n",
       "    }\n",
       "\n",
       "    .dataframe tbody tr th {\n",
       "        vertical-align: top;\n",
       "    }\n",
       "\n",
       "    .dataframe thead th {\n",
       "        text-align: right;\n",
       "    }\n",
       "</style>\n",
       "<table border=\"1\" class=\"dataframe\">\n",
       "  <thead>\n",
       "    <tr style=\"text-align: right;\">\n",
       "      <th></th>\n",
       "      <th>sütun2</th>\n",
       "      <th>sütun3</th>\n",
       "      <th>sütun4</th>\n",
       "      <th>sütun1</th>\n",
       "    </tr>\n",
       "  </thead>\n",
       "  <tbody>\n",
       "    <tr>\n",
       "      <th>satır1</th>\n",
       "      <td>-1.205621</td>\n",
       "      <td>-0.233643</td>\n",
       "      <td>-0.677156</td>\n",
       "      <td>0.3</td>\n",
       "    </tr>\n",
       "    <tr>\n",
       "      <th>satır3</th>\n",
       "      <td>1.149251</td>\n",
       "      <td>-0.302349</td>\n",
       "      <td>1.878525</td>\n",
       "      <td>0.5</td>\n",
       "    </tr>\n",
       "  </tbody>\n",
       "</table>\n",
       "</div>"
      ],
      "text/plain": [
       "          sütun2    sütun3    sütun4  sütun1\n",
       "satır1 -1.205621 -0.233643 -0.677156     0.3\n",
       "satır3  1.149251 -0.302349  1.878525     0.5"
      ]
     },
     "execution_count": 40,
     "metadata": {},
     "output_type": "execute_result"
    }
   ],
   "source": [
    "dataFrame1[dataFrame1[\"sütun1\"]>0]"
   ]
  },
  {
   "cell_type": "code",
   "execution_count": null,
   "id": "dc530c06",
   "metadata": {},
   "outputs": [],
   "source": []
  },
  {
   "cell_type": "markdown",
   "id": "5719ac99",
   "metadata": {},
   "source": [
    "index değiştirme"
   ]
  },
  {
   "cell_type": "code",
   "execution_count": 41,
   "id": "3f5e7114",
   "metadata": {},
   "outputs": [
    {
     "data": {
      "text/html": [
       "<div>\n",
       "<style scoped>\n",
       "    .dataframe tbody tr th:only-of-type {\n",
       "        vertical-align: middle;\n",
       "    }\n",
       "\n",
       "    .dataframe tbody tr th {\n",
       "        vertical-align: top;\n",
       "    }\n",
       "\n",
       "    .dataframe thead th {\n",
       "        text-align: right;\n",
       "    }\n",
       "</style>\n",
       "<table border=\"1\" class=\"dataframe\">\n",
       "  <thead>\n",
       "    <tr style=\"text-align: right;\">\n",
       "      <th></th>\n",
       "      <th>index</th>\n",
       "      <th>sütun2</th>\n",
       "      <th>sütun3</th>\n",
       "      <th>sütun4</th>\n",
       "      <th>sütun1</th>\n",
       "    </tr>\n",
       "  </thead>\n",
       "  <tbody>\n",
       "    <tr>\n",
       "      <th>0</th>\n",
       "      <td>satır1</td>\n",
       "      <td>-1.205621</td>\n",
       "      <td>-0.233643</td>\n",
       "      <td>-0.677156</td>\n",
       "      <td>0.3</td>\n",
       "    </tr>\n",
       "    <tr>\n",
       "      <th>1</th>\n",
       "      <td>satır2</td>\n",
       "      <td>-0.462805</td>\n",
       "      <td>-1.639101</td>\n",
       "      <td>0.063007</td>\n",
       "      <td>-0.1</td>\n",
       "    </tr>\n",
       "    <tr>\n",
       "      <th>2</th>\n",
       "      <td>satır3</td>\n",
       "      <td>1.149251</td>\n",
       "      <td>-0.302349</td>\n",
       "      <td>1.878525</td>\n",
       "      <td>0.5</td>\n",
       "    </tr>\n",
       "  </tbody>\n",
       "</table>\n",
       "</div>"
      ],
      "text/plain": [
       "    index    sütun2    sütun3    sütun4  sütun1\n",
       "0  satır1 -1.205621 -0.233643 -0.677156     0.3\n",
       "1  satır2 -0.462805 -1.639101  0.063007    -0.1\n",
       "2  satır3  1.149251 -0.302349  1.878525     0.5"
      ]
     },
     "execution_count": 41,
     "metadata": {},
     "output_type": "execute_result"
    }
   ],
   "source": [
    "yeniDataFrame=dataFrame1\n",
    "yeniDataFrame=yeniDataFrame.reset_index()\n",
    "yeniDataFrame"
   ]
  },
  {
   "cell_type": "code",
   "execution_count": 42,
   "id": "cf5e9e12",
   "metadata": {},
   "outputs": [
    {
     "data": {
      "text/html": [
       "<div>\n",
       "<style scoped>\n",
       "    .dataframe tbody tr th:only-of-type {\n",
       "        vertical-align: middle;\n",
       "    }\n",
       "\n",
       "    .dataframe tbody tr th {\n",
       "        vertical-align: top;\n",
       "    }\n",
       "\n",
       "    .dataframe thead th {\n",
       "        text-align: right;\n",
       "    }\n",
       "</style>\n",
       "<table border=\"1\" class=\"dataframe\">\n",
       "  <thead>\n",
       "    <tr style=\"text-align: right;\">\n",
       "      <th></th>\n",
       "      <th>index</th>\n",
       "      <th>sütun2</th>\n",
       "      <th>sütun3</th>\n",
       "      <th>sütun4</th>\n",
       "      <th>sütun1</th>\n",
       "    </tr>\n",
       "    <tr>\n",
       "      <th>yeni indexler</th>\n",
       "      <th></th>\n",
       "      <th></th>\n",
       "      <th></th>\n",
       "      <th></th>\n",
       "      <th></th>\n",
       "    </tr>\n",
       "  </thead>\n",
       "  <tbody>\n",
       "    <tr>\n",
       "      <th>ali</th>\n",
       "      <td>satır1</td>\n",
       "      <td>-1.205621</td>\n",
       "      <td>-0.233643</td>\n",
       "      <td>-0.677156</td>\n",
       "      <td>0.3</td>\n",
       "    </tr>\n",
       "    <tr>\n",
       "      <th>zey</th>\n",
       "      <td>satır2</td>\n",
       "      <td>-0.462805</td>\n",
       "      <td>-1.639101</td>\n",
       "      <td>0.063007</td>\n",
       "      <td>-0.1</td>\n",
       "    </tr>\n",
       "    <tr>\n",
       "      <th>ati</th>\n",
       "      <td>satır3</td>\n",
       "      <td>1.149251</td>\n",
       "      <td>-0.302349</td>\n",
       "      <td>1.878525</td>\n",
       "      <td>0.5</td>\n",
       "    </tr>\n",
       "  </tbody>\n",
       "</table>\n",
       "</div>"
      ],
      "text/plain": [
       "                index    sütun2    sütun3    sütun4  sütun1\n",
       "yeni indexler                                              \n",
       "ali            satır1 -1.205621 -0.233643 -0.677156     0.3\n",
       "zey            satır2 -0.462805 -1.639101  0.063007    -0.1\n",
       "ati            satır3  1.149251 -0.302349  1.878525     0.5"
      ]
     },
     "execution_count": 42,
     "metadata": {},
     "output_type": "execute_result"
    }
   ],
   "source": [
    "yeniindexlist=[\"ali\",\"zey\",\"ati\"]\n",
    "yeniDataFrame[\"yeni indexler\"]=yeniindexlist\n",
    "yeniDataFrame.set_index(\"yeni indexler\")\n",
    "## orjinali değişmedi\n",
    "yeniDataFrame.set_index(\"yeni indexler\",inplace=True)\n",
    "yeniDataFrame"
   ]
  },
  {
   "cell_type": "code",
   "execution_count": 43,
   "id": "18e8d714",
   "metadata": {},
   "outputs": [],
   "source": [
    "#multi index"
   ]
  },
  {
   "cell_type": "code",
   "execution_count": 44,
   "id": "0d6fd090",
   "metadata": {},
   "outputs": [
    {
     "data": {
      "text/plain": [
       "[('sim', 'homer'),\n",
       " ('sim', 'marge'),\n",
       " ('sim', 'bart'),\n",
       " ('south park', 'cartman'),\n",
       " ('south park', 'kenny'),\n",
       " ('south park', 'kyle')]"
      ]
     },
     "execution_count": 44,
     "metadata": {},
     "output_type": "execute_result"
    }
   ],
   "source": [
    "ilk_indexler=[\"sim\",\"sim\",\"sim\",\"south park\",\"south park\",\"south park\"]\n",
    "ic_indexler=[\"homer\",\"marge\",\"bart\",\"cartman\",\"kenny\",\"kyle\"]\n",
    "birleşmiş_index=list(zip(ilk_indexler,ic_indexler))\n",
    "birleşmiş_index"
   ]
  },
  {
   "cell_type": "code",
   "execution_count": 47,
   "id": "99fba7d7",
   "metadata": {},
   "outputs": [
    {
     "data": {
      "text/plain": [
       "MultiIndex([(       'sim',   'homer'),\n",
       "            (       'sim',   'marge'),\n",
       "            (       'sim',    'bart'),\n",
       "            ('south park', 'cartman'),\n",
       "            ('south park',   'kenny'),\n",
       "            ('south park',    'kyle')],\n",
       "           )"
      ]
     },
     "execution_count": 47,
     "metadata": {},
     "output_type": "execute_result"
    }
   ],
   "source": [
    "birleşmiş_index=pd.MultiIndex.from_tuples(birleşmiş_index)\n",
    "birleşmiş_index# pandastan türüyen multi index"
   ]
  },
  {
   "cell_type": "code",
   "execution_count": 49,
   "id": "a45ca10a",
   "metadata": {},
   "outputs": [
    {
     "data": {
      "text/html": [
       "<div>\n",
       "<style scoped>\n",
       "    .dataframe tbody tr th:only-of-type {\n",
       "        vertical-align: middle;\n",
       "    }\n",
       "\n",
       "    .dataframe tbody tr th {\n",
       "        vertical-align: top;\n",
       "    }\n",
       "\n",
       "    .dataframe thead th {\n",
       "        text-align: right;\n",
       "    }\n",
       "</style>\n",
       "<table border=\"1\" class=\"dataframe\">\n",
       "  <thead>\n",
       "    <tr style=\"text-align: right;\">\n",
       "      <th></th>\n",
       "      <th></th>\n",
       "      <th>a</th>\n",
       "      <th>b</th>\n",
       "    </tr>\n",
       "  </thead>\n",
       "  <tbody>\n",
       "    <tr>\n",
       "      <th rowspan=\"3\" valign=\"top\">sim</th>\n",
       "      <th>homer</th>\n",
       "      <td>40</td>\n",
       "      <td>a</td>\n",
       "    </tr>\n",
       "    <tr>\n",
       "      <th>marge</th>\n",
       "      <td>30</td>\n",
       "      <td>b</td>\n",
       "    </tr>\n",
       "    <tr>\n",
       "      <th>bart</th>\n",
       "      <td>21</td>\n",
       "      <td>c</td>\n",
       "    </tr>\n",
       "    <tr>\n",
       "      <th rowspan=\"3\" valign=\"top\">south park</th>\n",
       "      <th>cartman</th>\n",
       "      <td>10</td>\n",
       "      <td>d</td>\n",
       "    </tr>\n",
       "    <tr>\n",
       "      <th>kenny</th>\n",
       "      <td>11</td>\n",
       "      <td>e</td>\n",
       "    </tr>\n",
       "    <tr>\n",
       "      <th>kyle</th>\n",
       "      <td>9</td>\n",
       "      <td>f</td>\n",
       "    </tr>\n",
       "  </tbody>\n",
       "</table>\n",
       "</div>"
      ],
      "text/plain": [
       "                     a  b\n",
       "sim        homer    40  a\n",
       "           marge    30  b\n",
       "           bart     21  c\n",
       "south park cartman  10  d\n",
       "           kenny    11  e\n",
       "           kyle      9  f"
      ]
     },
     "execution_count": 49,
     "metadata": {},
     "output_type": "execute_result"
    }
   ],
   "source": [
    "benimcizgidizilist=[[40,\"a\"],[30,\"b\"],[21,\"c\"],[10,\"d\"],[11,\"e\"],[9,\"f\"]]\n",
    "npcizgidizilist=np.array(benimcizgidizilist)\n",
    "cizgidiziFrame=pd.DataFrame(npcizgidizilist,index=birleşmiş_index,columns=[\"a\",\"b\"])\n",
    "cizgidiziFrame"
   ]
  },
  {
   "cell_type": "code",
   "execution_count": 50,
   "id": "d2155ad3",
   "metadata": {},
   "outputs": [
    {
     "data": {
      "text/plain": [
       "a    40\n",
       "b     a\n",
       "Name: homer, dtype: object"
      ]
     },
     "execution_count": 50,
     "metadata": {},
     "output_type": "execute_result"
    }
   ],
   "source": [
    "cizgidiziFrame.loc[\"sim\"].loc[\"homer\"]"
   ]
  },
  {
   "cell_type": "code",
   "execution_count": 51,
   "id": "6fccd661",
   "metadata": {},
   "outputs": [
    {
     "data": {
      "text/html": [
       "<div>\n",
       "<style scoped>\n",
       "    .dataframe tbody tr th:only-of-type {\n",
       "        vertical-align: middle;\n",
       "    }\n",
       "\n",
       "    .dataframe tbody tr th {\n",
       "        vertical-align: top;\n",
       "    }\n",
       "\n",
       "    .dataframe thead th {\n",
       "        text-align: right;\n",
       "    }\n",
       "</style>\n",
       "<table border=\"1\" class=\"dataframe\">\n",
       "  <thead>\n",
       "    <tr style=\"text-align: right;\">\n",
       "      <th></th>\n",
       "      <th></th>\n",
       "      <th>a</th>\n",
       "      <th>b</th>\n",
       "    </tr>\n",
       "    <tr>\n",
       "      <th>diziadı</th>\n",
       "      <th>karakterler</th>\n",
       "      <th></th>\n",
       "      <th></th>\n",
       "    </tr>\n",
       "  </thead>\n",
       "  <tbody>\n",
       "    <tr>\n",
       "      <th rowspan=\"3\" valign=\"top\">sim</th>\n",
       "      <th>homer</th>\n",
       "      <td>40</td>\n",
       "      <td>a</td>\n",
       "    </tr>\n",
       "    <tr>\n",
       "      <th>marge</th>\n",
       "      <td>30</td>\n",
       "      <td>b</td>\n",
       "    </tr>\n",
       "    <tr>\n",
       "      <th>bart</th>\n",
       "      <td>21</td>\n",
       "      <td>c</td>\n",
       "    </tr>\n",
       "    <tr>\n",
       "      <th rowspan=\"3\" valign=\"top\">south park</th>\n",
       "      <th>cartman</th>\n",
       "      <td>10</td>\n",
       "      <td>d</td>\n",
       "    </tr>\n",
       "    <tr>\n",
       "      <th>kenny</th>\n",
       "      <td>11</td>\n",
       "      <td>e</td>\n",
       "    </tr>\n",
       "    <tr>\n",
       "      <th>kyle</th>\n",
       "      <td>9</td>\n",
       "      <td>f</td>\n",
       "    </tr>\n",
       "  </tbody>\n",
       "</table>\n",
       "</div>"
      ],
      "text/plain": [
       "                         a  b\n",
       "diziadı    karakterler       \n",
       "sim        homer        40  a\n",
       "           marge        30  b\n",
       "           bart         21  c\n",
       "south park cartman      10  d\n",
       "           kenny        11  e\n",
       "           kyle          9  f"
      ]
     },
     "execution_count": 51,
     "metadata": {},
     "output_type": "execute_result"
    }
   ],
   "source": [
    "cizgidiziFrame.index.names=[\"diziadı\",\"karakterler\"]\n",
    "cizgidiziFrame"
   ]
  },
  {
   "cell_type": "code",
   "execution_count": null,
   "id": "8867d9f9",
   "metadata": {},
   "outputs": [],
   "source": []
  }
 ],
 "metadata": {
  "kernelspec": {
   "display_name": "Python 3 (ipykernel)",
   "language": "python",
   "name": "python3"
  },
  "language_info": {
   "codemirror_mode": {
    "name": "ipython",
    "version": 3
   },
   "file_extension": ".py",
   "mimetype": "text/x-python",
   "name": "python",
   "nbconvert_exporter": "python",
   "pygments_lexer": "ipython3",
   "version": "3.8.12"
  }
 },
 "nbformat": 4,
 "nbformat_minor": 5
}
