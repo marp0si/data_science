{
 "cells": [
  {
   "cell_type": "code",
   "execution_count": 1,
   "id": "b2def000",
   "metadata": {},
   "outputs": [],
   "source": [
    "import pandas as pd"
   ]
  },
  {
   "cell_type": "code",
   "execution_count": 9,
   "id": "6d349065",
   "metadata": {},
   "outputs": [
    {
     "data": {
      "text/html": [
       "<div>\n",
       "<style scoped>\n",
       "    .dataframe tbody tr th:only-of-type {\n",
       "        vertical-align: middle;\n",
       "    }\n",
       "\n",
       "    .dataframe tbody tr th {\n",
       "        vertical-align: top;\n",
       "    }\n",
       "\n",
       "    .dataframe thead th {\n",
       "        text-align: right;\n",
       "    }\n",
       "</style>\n",
       "<table border=\"1\" class=\"dataframe\">\n",
       "  <thead>\n",
       "    <tr style=\"text-align: right;\">\n",
       "      <th></th>\n",
       "      <th>Unnamed: 0</th>\n",
       "      <th>sütun1</th>\n",
       "      <th>sütun2</th>\n",
       "      <th>sütun3</th>\n",
       "      <th>sütun4</th>\n",
       "      <th>sütun5</th>\n",
       "    </tr>\n",
       "  </thead>\n",
       "  <tbody>\n",
       "    <tr>\n",
       "      <th>0</th>\n",
       "      <td>satır1</td>\n",
       "      <td>veri1</td>\n",
       "      <td>NaN</td>\n",
       "      <td>veri3</td>\n",
       "      <td>veri4</td>\n",
       "      <td>veri5</td>\n",
       "    </tr>\n",
       "    <tr>\n",
       "      <th>1</th>\n",
       "      <td>satır2</td>\n",
       "      <td>veri6</td>\n",
       "      <td>veri7</td>\n",
       "      <td>veri8</td>\n",
       "      <td>NaN</td>\n",
       "      <td>veri10</td>\n",
       "    </tr>\n",
       "    <tr>\n",
       "      <th>2</th>\n",
       "      <td>satır3</td>\n",
       "      <td>veri11</td>\n",
       "      <td>veri12</td>\n",
       "      <td>veri13</td>\n",
       "      <td>veri14</td>\n",
       "      <td>NaN</td>\n",
       "    </tr>\n",
       "    <tr>\n",
       "      <th>3</th>\n",
       "      <td>satır4</td>\n",
       "      <td>NaN</td>\n",
       "      <td>veri17</td>\n",
       "      <td>veri18</td>\n",
       "      <td>veri19</td>\n",
       "      <td>veri20</td>\n",
       "    </tr>\n",
       "  </tbody>\n",
       "</table>\n",
       "</div>"
      ],
      "text/plain": [
       "  Unnamed: 0  sütun1  sütun2  sütun3  sütun4  sütun5\n",
       "0     satır1   veri1     NaN   veri3   veri4   veri5\n",
       "1     satır2   veri6   veri7   veri8     NaN  veri10\n",
       "2     satır3  veri11  veri12  veri13  veri14     NaN\n",
       "3     satır4     NaN  veri17  veri18  veri19  veri20"
      ]
     },
     "execution_count": 9,
     "metadata": {},
     "output_type": "execute_result"
    }
   ],
   "source": [
    "data_frame=pd.read_excel(\"pandas_icin_excel.xlsx\")\n",
    "data_frame"
   ]
  },
  {
   "cell_type": "code",
   "execution_count": 14,
   "id": "cd91373c",
   "metadata": {},
   "outputs": [],
   "source": [
    "doludata_frame=data_frame.fillna(\"data\")\n",
    "doludata_frame\n",
    "doludata_frame.to_excel(\"pandas_icin_excel1.xlsx\")"
   ]
  },
  {
   "cell_type": "code",
   "execution_count": 15,
   "id": "825a6f3c",
   "metadata": {},
   "outputs": [],
   "source": [
    "## eğer excel dosyası csv ise read_csv - to_csv"
   ]
  },
  {
   "cell_type": "code",
   "execution_count": null,
   "id": "4ac43f7e",
   "metadata": {},
   "outputs": [],
   "source": []
  }
 ],
 "metadata": {
  "kernelspec": {
   "display_name": "Python 3 (ipykernel)",
   "language": "python",
   "name": "python3"
  },
  "language_info": {
   "codemirror_mode": {
    "name": "ipython",
    "version": 3
   },
   "file_extension": ".py",
   "mimetype": "text/x-python",
   "name": "python",
   "nbconvert_exporter": "python",
   "pygments_lexer": "ipython3",
   "version": "3.8.12"
  }
 },
 "nbformat": 4,
 "nbformat_minor": 5
}
