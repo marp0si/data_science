{
 "cells": [
  {
   "cell_type": "code",
   "execution_count": 1,
   "id": "43624d1b",
   "metadata": {},
   "outputs": [],
   "source": [
    "import numpy as np\n",
    "import pandas as pd"
   ]
  },
  {
   "cell_type": "code",
   "execution_count": 2,
   "id": "acd275e5",
   "metadata": {},
   "outputs": [
    {
     "data": {
      "text/html": [
       "<div>\n",
       "<style scoped>\n",
       "    .dataframe tbody tr th:only-of-type {\n",
       "        vertical-align: middle;\n",
       "    }\n",
       "\n",
       "    .dataframe tbody tr th {\n",
       "        vertical-align: top;\n",
       "    }\n",
       "\n",
       "    .dataframe thead th {\n",
       "        text-align: right;\n",
       "    }\n",
       "</style>\n",
       "<table border=\"1\" class=\"dataframe\">\n",
       "  <thead>\n",
       "    <tr style=\"text-align: right;\">\n",
       "      <th></th>\n",
       "      <th></th>\n",
       "      <th>a</th>\n",
       "      <th>b</th>\n",
       "    </tr>\n",
       "    <tr>\n",
       "      <th>diziadı</th>\n",
       "      <th>karakterler</th>\n",
       "      <th></th>\n",
       "      <th></th>\n",
       "    </tr>\n",
       "  </thead>\n",
       "  <tbody>\n",
       "    <tr>\n",
       "      <th rowspan=\"3\" valign=\"top\">sim</th>\n",
       "      <th>homer</th>\n",
       "      <td>40</td>\n",
       "      <td>a</td>\n",
       "    </tr>\n",
       "    <tr>\n",
       "      <th>marge</th>\n",
       "      <td>30</td>\n",
       "      <td>b</td>\n",
       "    </tr>\n",
       "    <tr>\n",
       "      <th>bart</th>\n",
       "      <td>21</td>\n",
       "      <td>c</td>\n",
       "    </tr>\n",
       "    <tr>\n",
       "      <th rowspan=\"3\" valign=\"top\">south park</th>\n",
       "      <th>cartman</th>\n",
       "      <td>10</td>\n",
       "      <td>d</td>\n",
       "    </tr>\n",
       "    <tr>\n",
       "      <th>kenny</th>\n",
       "      <td>11</td>\n",
       "      <td>e</td>\n",
       "    </tr>\n",
       "    <tr>\n",
       "      <th>kyle</th>\n",
       "      <td>9</td>\n",
       "      <td>f</td>\n",
       "    </tr>\n",
       "  </tbody>\n",
       "</table>\n",
       "</div>"
      ],
      "text/plain": [
       "                         a  b\n",
       "diziadı    karakterler       \n",
       "sim        homer        40  a\n",
       "           marge        30  b\n",
       "           bart         21  c\n",
       "south park cartman      10  d\n",
       "           kenny        11  e\n",
       "           kyle          9  f"
      ]
     },
     "execution_count": 2,
     "metadata": {},
     "output_type": "execute_result"
    }
   ],
   "source": [
    "ilk_indexler=[\"sim\",\"sim\",\"sim\",\"south park\",\"south park\",\"south park\"]\n",
    "ic_indexler=[\"homer\",\"marge\",\"bart\",\"cartman\",\"kenny\",\"kyle\"]\n",
    "birleşmiş_index=list(zip(ilk_indexler,ic_indexler))\n",
    "birleşmiş_index\n",
    "birleşmiş_index=pd.MultiIndex.from_tuples(birleşmiş_index)\n",
    "birleşmiş_index# pandastan türüyen multi index\n",
    "benimcizgidizilist=[[40,\"a\"],[30,\"b\"],[21,\"c\"],[10,\"d\"],[11,\"e\"],[9,\"f\"]]\n",
    "npcizgidizilist=np.array(benimcizgidizilist)\n",
    "cizgidiziFrame=pd.DataFrame(npcizgidizilist,index=birleşmiş_index,columns=[\"a\",\"b\"])\n",
    "cizgidiziFrame\n",
    "cizgidiziFrame.index.names=[\"diziadı\",\"karakterler\"]\n",
    "cizgidiziFrame"
   ]
  },
  {
   "cell_type": "code",
   "execution_count": null,
   "id": "6ee201e3",
   "metadata": {},
   "outputs": [],
   "source": []
  }
 ],
 "metadata": {
  "kernelspec": {
   "display_name": "Python 3 (ipykernel)",
   "language": "python",
   "name": "python3"
  },
  "language_info": {
   "codemirror_mode": {
    "name": "ipython",
    "version": 3
   },
   "file_extension": ".py",
   "mimetype": "text/x-python",
   "name": "python",
   "nbconvert_exporter": "python",
   "pygments_lexer": "ipython3",
   "version": "3.8.12"
  }
 },
 "nbformat": 4,
 "nbformat_minor": 5
}
