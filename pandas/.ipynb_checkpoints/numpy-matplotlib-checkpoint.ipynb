{
 "cells": [
  {
   "cell_type": "markdown",
   "id": "d824eef6",
   "metadata": {},
   "source": [
    "## numpy-matplotlib- pandas"
   ]
  },
  {
   "cell_type": "code",
   "execution_count": 1,
   "id": "71faeaea",
   "metadata": {},
   "outputs": [
    {
     "ename": "ModuleNotFoundError",
     "evalue": "No module named 'matplotlib'",
     "output_type": "error",
     "traceback": [
      "\u001b[1;31m---------------------------------------------------------------------------\u001b[0m",
      "\u001b[1;31mModuleNotFoundError\u001b[0m                       Traceback (most recent call last)",
      "Cell \u001b[1;32mIn [1], line 2\u001b[0m\n\u001b[0;32m      1\u001b[0m \u001b[38;5;28;01mimport\u001b[39;00m \u001b[38;5;21;01mnumpy\u001b[39;00m \u001b[38;5;28;01mas\u001b[39;00m \u001b[38;5;21;01mnp\u001b[39;00m\n\u001b[1;32m----> 2\u001b[0m \u001b[38;5;28;01mimport\u001b[39;00m \u001b[38;5;21;01mmatplotlib\u001b[39;00m\u001b[38;5;21;01m.\u001b[39;00m\u001b[38;5;21;01mpyplot\u001b[39;00m \u001b[38;5;28;01mas\u001b[39;00m \u001b[38;5;21;01mmatplot\u001b[39;00m\n\u001b[0;32m      3\u001b[0m \u001b[38;5;28;01mimport\u001b[39;00m \u001b[38;5;21;01mpandas\u001b[39;00m\n",
      "\u001b[1;31mModuleNotFoundError\u001b[0m: No module named 'matplotlib'"
     ]
    }
   ],
   "source": [
    "import numpy as np\n",
    "import matplotlib.pyplot as matplot\n",
    "import pandas "
   ]
  },
  {
   "cell_type": "code",
   "execution_count": null,
   "id": "3aadf47a",
   "metadata": {},
   "outputs": [],
   "source": [
    "maaslist=np.random.normal(4000,500,1000)\n",
    "print(np.mean(maaslist))"
   ]
  },
  {
   "cell_type": "code",
   "execution_count": null,
   "id": "a6bdab88",
   "metadata": {},
   "outputs": [],
   "source": [
    "matplot.hist(maaslist,30)\n",
    "matplot.show()"
   ]
  },
  {
   "cell_type": "markdown",
   "id": "e425546b",
   "metadata": {},
   "source": [
    "## numpy array(matrisler)"
   ]
  },
  {
   "cell_type": "code",
   "execution_count": null,
   "id": "d3028c35",
   "metadata": {},
   "outputs": [],
   "source": [
    "list1=[20,30,40,50]\n",
    "np.array(list1)\n",
    "print(list1)"
   ]
  },
  {
   "cell_type": "code",
   "execution_count": null,
   "id": "13492763",
   "metadata": {},
   "outputs": [],
   "source": [
    "matris1=[[10,20,30],[11,21,31],[12,22,32]]\n",
    "print(np.array(matris1))"
   ]
  },
  {
   "cell_type": "code",
   "execution_count": null,
   "id": "5b3a7eb2",
   "metadata": {},
   "outputs": [],
   "source": [
    "ARANGE-zeros(0 oluşturur)-ones(1 oluşturur)\n",
    "np.arange()"
   ]
  },
  {
   "cell_type": "code",
   "execution_count": null,
   "id": "f34227f3",
   "metadata": {},
   "outputs": [],
   "source": [
    "np.arange(0,21,2)"
   ]
  },
  {
   "cell_type": "code",
   "execution_count": null,
   "id": "4f091f73",
   "metadata": {},
   "outputs": [],
   "source": [
    "np.zeros(5)"
   ]
  },
  {
   "cell_type": "code",
   "execution_count": null,
   "id": "402a9c4b",
   "metadata": {},
   "outputs": [],
   "source": [
    "np.ones((4,4))"
   ]
  },
  {
   "cell_type": "markdown",
   "id": "91472ec3",
   "metadata": {},
   "source": [
    "linspace(araları eşit sayıları kullanarak dizi oluşturur.)\n",
    "eye(birim matris oluşturur)"
   ]
  },
  {
   "cell_type": "code",
   "execution_count": null,
   "id": "bbf9e3fa",
   "metadata": {},
   "outputs": [],
   "source": [
    "np.linspace(0,75,5)"
   ]
  },
  {
   "cell_type": "code",
   "execution_count": null,
   "id": "7278883a",
   "metadata": {},
   "outputs": [],
   "source": [
    "np.eye(7)"
   ]
  },
  {
   "cell_type": "markdown",
   "id": "fd81e3de",
   "metadata": {},
   "source": [
    "random"
   ]
  },
  {
   "cell_type": "code",
   "execution_count": null,
   "id": "e83bcb12",
   "metadata": {},
   "outputs": [],
   "source": [
    "np.random.randn(2)## numpy dizisi döner"
   ]
  },
  {
   "cell_type": "code",
   "execution_count": null,
   "id": "5b69951d",
   "metadata": {},
   "outputs": [],
   "source": [
    "np.random.randn(3,3)##2 boyutu"
   ]
  },
  {
   "cell_type": "code",
   "execution_count": null,
   "id": "ceb16bc2",
   "metadata": {},
   "outputs": [],
   "source": [
    "##random.randint #tam sayı  low >= high\n",
    "low=0\n",
    "high=200\n",
    "count=4\n",
    "np.random.randint(low,high,count)"
   ]
  },
  {
   "cell_type": "markdown",
   "id": "95cf3f7d",
   "metadata": {},
   "source": [
    "dizi metotları\n",
    "-np.random.randint(0,100,20)\n",
    ".reshape(satırS,sütunS)##\n",
    "max()\n",
    "min()\n",
    "argmax() #max hangi indexte\n",
    "argmin() #min hangi indexte\n",
    "shape :kaç satır kaç sütun=> özellik"
   ]
  },
  {
   "cell_type": "code",
   "execution_count": null,
   "id": "d8a6bf66",
   "metadata": {},
   "outputs": [],
   "source": [
    "benim_dizim1=np.random.randint(0,100,20)\n",
    "benim_dizim1.reshape(5,4)#20 elaman olduğu için 5*4 yaptım\n",
    "benim_dizim1.max()\n",
    "benim_dizim1.min()\n",
    "benim_dizim1.argmax()\n",
    "benim_dizim1.argmin()\n",
    "reshape_benim_dizim=benim_dizim1.reshape(5,4)\n"
   ]
  },
  {
   "cell_type": "code",
   "execution_count": null,
   "id": "eb5d0c93",
   "metadata": {},
   "outputs": [],
   "source": [
    "print(reshape_benim_dizim)\n",
    "benim_dizim1"
   ]
  },
  {
   "cell_type": "markdown",
   "id": "c178bc05",
   "metadata": {},
   "source": [
    "slice gibi bişey \n",
    "copy()"
   ]
  },
  {
   "cell_type": "code",
   "execution_count": null,
   "id": "b7391757",
   "metadata": {},
   "outputs": [],
   "source": [
    "benim_dizim=np.random.randint(0,30,10)\n",
    "benim_dizim"
   ]
  },
  {
   "cell_type": "code",
   "execution_count": null,
   "id": "4a0ca939",
   "metadata": {},
   "outputs": [],
   "source": [
    "benim_dizim[2:7]=31\n",
    "benim_dizim"
   ]
  },
  {
   "cell_type": "code",
   "execution_count": null,
   "id": "a7bbc260",
   "metadata": {},
   "outputs": [],
   "source": [
    "slicing_dizim=benim_dizim[2:7]\n",
    "benim_dizim[:]=32\n",
    "print(slicing_dizim)\n",
    "benim_dizim\n",
    "#orjinali değişti"
   ]
  },
  {
   "cell_type": "code",
   "execution_count": null,
   "id": "e01c014d",
   "metadata": {},
   "outputs": [],
   "source": [
    "dizi1=np.random.randint(0,30,10)\n",
    "dizi2=dizi1.copy()\n",
    "dizi2[2:7]=31\n",
    "print(dizi1)\n",
    "dizi2"
   ]
  },
  {
   "cell_type": "markdown",
   "id": "12164c93",
   "metadata": {},
   "source": [
    "2 boyutlu diziler(matrisler) ile çalışmak"
   ]
  },
  {
   "cell_type": "code",
   "execution_count": null,
   "id": "b649f8b2",
   "metadata": {},
   "outputs": [],
   "source": [
    "matris1=np.random.randn(3,3)\n",
    "matris2=np.random.randn(3,3)\n",
    "print(matris1)\n",
    "print(matris2)"
   ]
  },
  {
   "cell_type": "code",
   "execution_count": null,
   "id": "573d1023",
   "metadata": {},
   "outputs": [],
   "source": [
    "matris1[0][1]\n",
    "matris1[0,1]\n",
    "#ikisi de aynı şeyi yapıyo"
   ]
  },
  {
   "cell_type": "code",
   "execution_count": null,
   "id": "b63d494f",
   "metadata": {},
   "outputs": [],
   "source": [
    "#matriste slime\n",
    "print(matris1)\n",
    "matris1[1:,2]#1. ve 2. satırın 2.sütunlarını getirttik"
   ]
  },
  {
   "cell_type": "code",
   "execution_count": null,
   "id": "ec75f221",
   "metadata": {},
   "outputs": [],
   "source": [
    "yeni_matris=[]\n",
    "yeni_liste=[0,1,2,3,4,5,6,7,8,9,10,11,12,13,14,15,16,17,18,19,20,21,22,23,24]\n",
    "yeni_matris=np.array(yeni_liste)\n",
    "yeni_matris=yeni_matris.reshape(5,5)\n",
    "yeni_matris"
   ]
  },
  {
   "cell_type": "code",
   "execution_count": null,
   "id": "c93d2fe9",
   "metadata": {},
   "outputs": [],
   "source": [
    "## garip bir özellik\n",
    "yeni_matris[[2,4,0]]"
   ]
  },
  {
   "cell_type": "markdown",
   "id": "dabdf5e8",
   "metadata": {},
   "source": [
    "# operasyonlar"
   ]
  },
  {
   "cell_type": "code",
   "execution_count": null,
   "id": "63aeeb1a",
   "metadata": {},
   "outputs": [],
   "source": [
    "yeni_dizi=np.random.randint(0,80,20)\n",
    "print(yeni_dizi)\n",
    "#20 ve 10 arası\n",
    "ara_dizi=yeni_dizi<20\n",
    "yeni_dizi[ara_dizi]"
   ]
  },
  {
   "cell_type": "code",
   "execution_count": null,
   "id": "58e6e629",
   "metadata": {},
   "outputs": [],
   "source": []
  },
  {
   "cell_type": "code",
   "execution_count": null,
   "id": "4d526c8d",
   "metadata": {},
   "outputs": [],
   "source": []
  }
 ],
 "metadata": {
  "kernelspec": {
   "display_name": "Python 3 (ipykernel)",
   "language": "python",
   "name": "python3"
  },
  "language_info": {
   "codemirror_mode": {
    "name": "ipython",
    "version": 3
   },
   "file_extension": ".py",
   "mimetype": "text/x-python",
   "name": "python",
   "nbconvert_exporter": "python",
   "pygments_lexer": "ipython3",
   "version": "3.9.15"
  }
 },
 "nbformat": 4,
 "nbformat_minor": 5
}
