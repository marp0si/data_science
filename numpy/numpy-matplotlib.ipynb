{
 "cells": [
  {
   "cell_type": "markdown",
   "id": "d824eef6",
   "metadata": {},
   "source": [
    "## numpy-matplotlib"
   ]
  },
  {
   "cell_type": "code",
   "execution_count": 2,
   "id": "71faeaea",
   "metadata": {},
   "outputs": [],
   "source": [
    "import numpy as np\n",
    "import matplotlib.pyplot as matplot\n",
    "import pandas "
   ]
  },
  {
   "cell_type": "code",
   "execution_count": 7,
   "id": "3aadf47a",
   "metadata": {},
   "outputs": [
    {
     "name": "stdout",
     "output_type": "stream",
     "text": [
      "4008.1928531641393\n"
     ]
    }
   ],
   "source": [
    "maaslist=np.random.normal(4000,500,1000)\n",
    "print(np.mean(maaslist))"
   ]
  },
  {
   "cell_type": "code",
   "execution_count": 18,
   "id": "a6bdab88",
   "metadata": {},
   "outputs": [
    {
     "data": {
      "image/png": "[encoded data removed]",
      "text/plain": [
       "<Figure size 432x288 with 1 Axes>"
      ]
     },
     "metadata": {
      "needs_background": "light"
     },
     "output_type": "display_data"
    }
   ],
   "source": [
    "matplot.hist(maaslist,30)\n",
    "matplot.show()"
   ]
  },
  {
   "cell_type": "markdown",
   "id": "e425546b",
   "metadata": {},
   "source": [
    "## numpy array(matrisler)"
   ]
  },
  {
   "cell_type": "code",
   "execution_count": 22,
   "id": "d3028c35",
   "metadata": {},
   "outputs": [
    {
     "name": "stdout",
     "output_type": "stream",
     "text": [
      "[20, 30, 40, 50]\n"
     ]
    }
   ],
   "source": [
    "list1=[20,30,40,50]\n",
    "np.array(list1)\n",
    "print(list1)"
   ]
  },
  {
   "cell_type": "code",
   "execution_count": 25,
   "id": "13492763",
   "metadata": {},
   "outputs": [
    {
     "name": "stdout",
     "output_type": "stream",
     "text": [
      "[[10 20 30]\n",
      " [11 21 31]\n",
      " [12 22 32]]\n"
     ]
    }
   ],
   "source": [
    "matris1=[[10,20,30],[11,21,31],[12,22,32]]\n",
    "print(np.array(matris1))"
   ]
  },
  {
   "cell_type": "code",
   "execution_count": null,
   "id": "5b3a7eb2",
   "metadata": {},
   "outputs": [],
   "source": [
    "ARANGE-zeros(0 oluşturur)-ones(1 oluşturur)\n",
    "np.arange()"
   ]
  },
  {
   "cell_type": "code",
   "execution_count": 40,
   "id": "f34227f3",
   "metadata": {},
   "outputs": [
    {
     "data": {
      "text/plain": [
       "array([ 0,  2,  4,  6,  8, 10, 12, 14, 16, 18, 20])"
      ]
     },
     "execution_count": 40,
     "metadata": {},
     "output_type": "execute_result"
    }
   ],
   "source": [
    "np.arange(0,21,2)"
   ]
  },
  {
   "cell_type": "code",
   "execution_count": 30,
   "id": "4f091f73",
   "metadata": {},
   "outputs": [
    {
     "data": {
      "text/plain": [
       "array([0., 0., 0., 0., 0.])"
      ]
     },
     "execution_count": 30,
     "metadata": {},
     "output_type": "execute_result"
    }
   ],
   "source": [
    "np.zeros(5)"
   ]
  },
  {
   "cell_type": "code",
   "execution_count": 33,
   "id": "402a9c4b",
   "metadata": {},
   "outputs": [
    {
     "data": {
      "text/plain": [
       "array([[1., 1., 1., 1.],\n",
       "       [1., 1., 1., 1.],\n",
       "       [1., 1., 1., 1.],\n",
       "       [1., 1., 1., 1.]])"
      ]
     },
     "execution_count": 33,
     "metadata": {},
     "output_type": "execute_result"
    }
   ],
   "source": [
    "np.ones((4,4))"
   ]
  },
  {
   "cell_type": "markdown",
   "id": "91472ec3",
   "metadata": {},
   "source": [
    "linspace(araları eşit sayıları kullanarak dizi oluşturur.)\n",
    "eye(birim matris oluşturur)"
   ]
  },
  {
   "cell_type": "code",
   "execution_count": 38,
   "id": "bbf9e3fa",
   "metadata": {},
   "outputs": [
    {
     "data": {
      "text/plain": [
       "array([ 0.  , 18.75, 37.5 , 56.25, 75.  ])"
      ]
     },
     "execution_count": 38,
     "metadata": {},
     "output_type": "execute_result"
    }
   ],
   "source": [
    "np.linspace(0,75,5)"
   ]
  },
  {
   "cell_type": "code",
   "execution_count": 39,
   "id": "7278883a",
   "metadata": {},
   "outputs": [
    {
     "data": {
      "text/plain": [
       "array([[1., 0., 0., 0., 0., 0., 0.],\n",
       "       [0., 1., 0., 0., 0., 0., 0.],\n",
       "       [0., 0., 1., 0., 0., 0., 0.],\n",
       "       [0., 0., 0., 1., 0., 0., 0.],\n",
       "       [0., 0., 0., 0., 1., 0., 0.],\n",
       "       [0., 0., 0., 0., 0., 1., 0.],\n",
       "       [0., 0., 0., 0., 0., 0., 1.]])"
      ]
     },
     "execution_count": 39,
     "metadata": {},
     "output_type": "execute_result"
    }
   ],
   "source": [
    "np.eye(7)"
   ]
  },
  {
   "cell_type": "markdown",
   "id": "f798929d",
   "metadata": {},
   "source": [
    "random"
   ]
  },
  {
   "cell_type": "code",
   "execution_count": 3,
   "id": "e83bcb12",
   "metadata": {},
   "outputs": [
    {
     "data": {
      "text/plain": [
       "array([-1.36889911, -0.84933303])"
      ]
     },
     "execution_count": 3,
     "metadata": {},
     "output_type": "execute_result"
    }
   ],
   "source": [
    "np.random.randn(2)## numpy dizisi döner"
   ]
  },
  {
   "cell_type": "code",
   "execution_count": 4,
   "id": "1f16e0bb",
   "metadata": {},
   "outputs": [
    {
     "data": {
      "text/plain": [
       "array([[-0.42165796, -0.78418895, -0.51328123],\n",
       "       [-1.30074954, -0.36486129,  0.66759764],\n",
       "       [-0.64596291,  0.66020329, -1.41935506]])"
      ]
     },
     "execution_count": 4,
     "metadata": {},
     "output_type": "execute_result"
    }
   ],
   "source": [
    "np.random.randn(3,3)##2 boyutu"
   ]
  },
  {
   "cell_type": "code",
   "execution_count": 12,
   "id": "328d5681",
   "metadata": {},
   "outputs": [
    {
     "data": {
      "text/plain": [
       "array([ 72,  54, 125, 136])"
      ]
     },
     "execution_count": 12,
     "metadata": {},
     "output_type": "execute_result"
    }
   ],
   "source": [
    "##random.randint #tam sayı  low >= high\n",
    "low=0\n",
    "high=200\n",
    "count=4\n",
    "np.random.randint(low,high,count)"
   ]
  },
  {
   "cell_type": "markdown",
   "id": "9a5f4094",
   "metadata": {},
   "source": [
    "dizi metotları\n",
    "-np.random.randint(0,100,20)\n",
    ".reshape(satırS,sütunS)##\n",
    "max()\n",
    "min()\n",
    "argmax() #max hangi indexte\n",
    "argmin() #min hangi indexte\n",
    "shape :kaç satır kaç sütun=> özellik"
   ]
  },
  {
   "cell_type": "code",
   "execution_count": 3,
   "id": "55659fba",
   "metadata": {},
   "outputs": [
    {
     "name": "stdout",
     "output_type": "stream",
     "text": [
      "98\n"
     ]
    }
   ],
   "source": [
    "benim_dizim1=np.random.randint(0,100,20)\n",
    "benim_dizim1.reshape(5,4)#20 elaman olduğu için 5*4 yaptım\n",
    "print(benim_dizim1.max())\n",
    "benim_dizim1.min()\n",
    "benim_dizim1.argmax()\n",
    "benim_dizim1.argmin()\n",
    "reshape_benim_dizim=benim_dizim1.reshape(5,4)\n"
   ]
  },
  {
   "cell_type": "code",
   "execution_count": 35,
   "id": "dda14ed3",
   "metadata": {},
   "outputs": [
    {
     "name": "stdout",
     "output_type": "stream",
     "text": [
      "[[92 13 88 96]\n",
      " [25 39 99 32]\n",
      " [86 69 48 16]\n",
      " [56  5 76 82]\n",
      " [92 26 28 51]]\n"
     ]
    },
    {
     "data": {
      "text/plain": [
       "array([92, 13, 88, 96, 25, 39, 99, 32, 86, 69, 48, 16, 56,  5, 76, 82, 92,\n",
       "       26, 28, 51])"
      ]
     },
     "execution_count": 35,
     "metadata": {},
     "output_type": "execute_result"
    }
   ],
   "source": [
    "print(reshape_benim_dizim)\n",
    "benim_dizim1"
   ]
  },
  {
   "cell_type": "markdown",
   "id": "5536797f",
   "metadata": {},
   "source": [
    "slice gibi bişey \n",
    "copy()"
   ]
  },
  {
   "cell_type": "code",
   "execution_count": 39,
   "id": "1f0d48f8",
   "metadata": {},
   "outputs": [
    {
     "data": {
      "text/plain": [
       "array([23,  8,  7, 13,  8, 22, 17,  1, 26,  5])"
      ]
     },
     "execution_count": 39,
     "metadata": {},
     "output_type": "execute_result"
    }
   ],
   "source": [
    "benim_dizim=np.random.randint(0,30,10)\n",
    "benim_dizim"
   ]
  },
  {
   "cell_type": "code",
   "execution_count": 44,
   "id": "3d5ae2a1",
   "metadata": {},
   "outputs": [
    {
     "data": {
      "text/plain": [
       "array([23,  8, 31, 31, 31, 31, 31,  1, 26,  5])"
      ]
     },
     "execution_count": 44,
     "metadata": {},
     "output_type": "execute_result"
    }
   ],
   "source": [
    "benim_dizim[2:7]=31\n",
    "benim_dizim"
   ]
  },
  {
   "cell_type": "code",
   "execution_count": 45,
   "id": "84c70abf",
   "metadata": {},
   "outputs": [
    {
     "name": "stdout",
     "output_type": "stream",
     "text": [
      "[32 32 32 32 32]\n"
     ]
    },
    {
     "data": {
      "text/plain": [
       "array([32, 32, 32, 32, 32, 32, 32, 32, 32, 32])"
      ]
     },
     "execution_count": 45,
     "metadata": {},
     "output_type": "execute_result"
    }
   ],
   "source": [
    "slicing_dizim=benim_dizim[2:7]\n",
    "benim_dizim[:]=32\n",
    "print(slicing_dizim)\n",
    "benim_dizim\n",
    "#orjinali değişti"
   ]
  },
  {
   "cell_type": "code",
   "execution_count": 48,
   "id": "54d4d5e6",
   "metadata": {},
   "outputs": [
    {
     "name": "stdout",
     "output_type": "stream",
     "text": [
      "[22 19 27 10  2  8 14 25 11  2]\n"
     ]
    },
    {
     "data": {
      "text/plain": [
       "array([22, 19, 31, 31, 31, 31, 31, 25, 11,  2])"
      ]
     },
     "execution_count": 48,
     "metadata": {},
     "output_type": "execute_result"
    }
   ],
   "source": [
    "dizi1=np.random.randint(0,30,10)\n",
    "dizi2=dizi1.copy()\n",
    "dizi2[2:7]=31\n",
    "print(dizi1)\n",
    "dizi2"
   ]
  },
  {
   "cell_type": "markdown",
   "id": "5a848265",
   "metadata": {},
   "source": [
    "2 boyutlu diziler(matrisler) ile çalışmak"
   ]
  },
  {
   "cell_type": "code",
   "execution_count": 52,
   "id": "a059df16",
   "metadata": {},
   "outputs": [
    {
     "name": "stdout",
     "output_type": "stream",
     "text": [
      "[[ 0.6912846  -0.19222671  1.35000184]\n",
      " [-0.77399034 -0.54099918  0.87390538]\n",
      " [ 0.46787838 -0.74357953 -0.19493684]]\n",
      "[[-1.54917968  1.6278248  -0.39223279]\n",
      " [ 0.36326505  1.20191198 -0.77732154]\n",
      " [ 0.33813452  0.41735516  0.39724817]]\n"
     ]
    }
   ],
   "source": [
    "matris1=np.random.randn(3,3)\n",
    "matris2=np.random.randn(3,3)\n",
    "print(matris1)\n",
    "print(matris2)"
   ]
  },
  {
   "cell_type": "code",
   "execution_count": 54,
   "id": "54b34954",
   "metadata": {},
   "outputs": [
    {
     "data": {
      "text/plain": [
       "-0.19222671030427071"
      ]
     },
     "execution_count": 54,
     "metadata": {},
     "output_type": "execute_result"
    }
   ],
   "source": [
    "matris1[0][1]\n",
    "matris1[0,1]\n",
    "#ikisi de aynı şeyi yapıyo"
   ]
  },
  {
   "cell_type": "code",
   "execution_count": 74,
   "id": "0761a18f",
   "metadata": {},
   "outputs": [
    {
     "name": "stdout",
     "output_type": "stream",
     "text": [
      "[[ 0.6912846  -0.19222671  1.35000184]\n",
      " [-0.77399034 -0.54099918  0.87390538]\n",
      " [ 0.46787838 -0.74357953 -0.19493684]]\n"
     ]
    },
    {
     "data": {
      "text/plain": [
       "array([ 0.87390538, -0.19493684])"
      ]
     },
     "execution_count": 74,
     "metadata": {},
     "output_type": "execute_result"
    }
   ],
   "source": [
    "#matriste slime\n",
    "print(matris1)\n",
    "matris1[1:,2]#1. ve 2. satırın 2.sütunlarını getirttik"
   ]
  },
  {
   "cell_type": "code",
   "execution_count": 92,
   "id": "a2a80c46",
   "metadata": {},
   "outputs": [
    {
     "data": {
      "text/plain": [
       "array([[ 0,  1,  2,  3,  4],\n",
       "       [ 5,  6,  7,  8,  9],\n",
       "       [10, 11, 12, 13, 14],\n",
       "       [15, 16, 17, 18, 19],\n",
       "       [20, 21, 22, 23, 24]])"
      ]
     },
     "execution_count": 92,
     "metadata": {},
     "output_type": "execute_result"
    }
   ],
   "source": [
    "yeni_matris=[]\n",
    "yeni_liste=[0,1,2,3,4,5,6,7,8,9,10,11,12,13,14,15,16,17,18,19,20,21,22,23,24]\n",
    "yeni_matris=np.array(yeni_liste)\n",
    "yeni_matris=yeni_matris.reshape(5,5)\n",
    "yeni_matris"
   ]
  },
  {
   "cell_type": "code",
   "execution_count": 93,
   "id": "4e929e72",
   "metadata": {},
   "outputs": [
    {
     "data": {
      "text/plain": [
       "array([[10, 11, 12, 13, 14],\n",
       "       [20, 21, 22, 23, 24],\n",
       "       [ 0,  1,  2,  3,  4]])"
      ]
     },
     "execution_count": 93,
     "metadata": {},
     "output_type": "execute_result"
    }
   ],
   "source": [
    "## garip bir özellik\n",
    "yeni_matris[[2,4,0]]"
   ]
  },
  {
   "cell_type": "markdown",
   "id": "cc7537c0",
   "metadata": {},
   "source": [
    "# operasyonlar"
   ]
  },
  {
   "cell_type": "code",
   "execution_count": 107,
   "id": "bf794ef4",
   "metadata": {},
   "outputs": [
    {
     "name": "stdout",
     "output_type": "stream",
     "text": [
      "[73 32 64 39 41 14 75 18 75 34  8 62 14 75 75 17 23 14 71  4]\n"
     ]
    },
    {
     "data": {
      "text/plain": [
       "array([14, 18,  8, 14, 17, 14,  4])"
      ]
     },
     "execution_count": 107,
     "metadata": {},
     "output_type": "execute_result"
    }
   ],
   "source": [
    "yeni_dizi=np.random.randint(0,80,20)\n",
    "print(yeni_dizi)\n",
    "#20 ve 10 arası\n",
    "ara_dizi=yeni_dizi<20\n",
    "yeni_dizi[ara_dizi]"
   ]
  },
  {
   "cell_type": "code",
   "execution_count": null,
   "id": "b0676bc4",
   "metadata": {},
   "outputs": [],
   "source": []
  },
  {
   "cell_type": "code",
   "execution_count": null,
   "id": "45f5470a",
   "metadata": {},
   "outputs": [],
   "source": []
  }
 ],
 "metadata": {
  "kernelspec": {
   "display_name": "Python 3 (ipykernel)",
   "language": "python",
   "name": "python3"
  },
  "language_info": {
   "codemirror_mode": {
    "name": "ipython",
    "version": 3
   },
   "file_extension": ".py",
   "mimetype": "text/x-python",
   "name": "python",
   "nbconvert_exporter": "python",
   "pygments_lexer": "ipython3",
   "version": "3.8.12"
  }
 },
 "nbformat": 4,
 "nbformat_minor": 5
}
