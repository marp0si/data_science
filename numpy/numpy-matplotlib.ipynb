{
 "cells": [
  {
   "cell_type": "markdown",
   "id": "d824eef6",
   "metadata": {},
   "source": [
    "## numpy-matplotlib"
   ]
  },
  {
   "cell_type": "code",
   "execution_count": 1,
   "id": "71faeaea",
   "metadata": {},
   "outputs": [],
   "source": [
    "import numpy as np\n",
    "import matplotlib.pyplot as matplot\n",
    "import pandas "
   ]
  },
  {
   "cell_type": "code",
   "execution_count": 27,
   "id": "3aadf47a",
   "metadata": {},
   "outputs": [
    {
     "name": "stdout",
     "output_type": "stream",
     "text": [
      "3998.5687172033918\n"
     ]
    }
   ],
   "source": [
    "maaslist=np.random.normal(4000,500,1000)\n",
    "print(np.mean(maaslist))"
   ]
  },
  {
   "cell_type": "code",
   "execution_count": 53,
   "id": "a6bdab88",
   "metadata": {},
   "outputs": [
    {
     "data": {
      "image/png": "[encoded data removed]",
      "text/plain": [
       "<Figure size 640x480 with 1 Axes>"
      ]
     },
     "metadata": {},
     "output_type": "display_data"
    }
   ],
   "source": [
    "matplot.hist(maaslist,60)\n",
    "matplot.show()"
   ]
  },
  {
   "cell_type": "markdown",
   "id": "e425546b",
   "metadata": {},
   "source": [
    "## numpy array(matrisler)"
   ]
  },
  {
   "cell_type": "code",
   "execution_count": 29,
   "id": "d3028c35",
   "metadata": {},
   "outputs": [
    {
     "name": "stdout",
     "output_type": "stream",
     "text": [
      "[20, 30, 40, 50]\n"
     ]
    }
   ],
   "source": [
    "list1=[20,30,40,50]\n",
    "np.array(list1)\n",
    "print(list1)"
   ]
  },
  {
   "cell_type": "code",
   "execution_count": 30,
   "id": "13492763",
   "metadata": {},
   "outputs": [
    {
     "name": "stdout",
     "output_type": "stream",
     "text": [
      "[[10 20 30]\n",
      " [11 21 31]\n",
      " [12 22 32]]\n"
     ]
    }
   ],
   "source": [
    "matris1=[[10,20,30],[11,21,31],[12,22,32]]\n",
    "print(np.array(matris1))"
   ]
  },
  {
   "cell_type": "markdown",
   "id": "2a844f4d",
   "metadata": {},
   "source": [
    "ARANGE-zeros(0 oluşturur)-ones(1 oluşturur)\n",
    "np.arange()"
   ]
  },
  {
   "cell_type": "code",
   "execution_count": 31,
   "id": "f34227f3",
   "metadata": {},
   "outputs": [
    {
     "data": {
      "text/plain": [
       "array([ 0,  2,  4,  6,  8, 10, 12, 14, 16, 18, 20])"
      ]
     },
     "execution_count": 31,
     "metadata": {},
     "output_type": "execute_result"
    }
   ],
   "source": [
    "np.arange(0,21,2)"
   ]
  },
  {
   "cell_type": "code",
   "execution_count": 32,
   "id": "4f091f73",
   "metadata": {},
   "outputs": [
    {
     "data": {
      "text/plain": [
       "array([0., 0., 0., 0., 0.])"
      ]
     },
     "execution_count": 32,
     "metadata": {},
     "output_type": "execute_result"
    }
   ],
   "source": [
    "np.zeros(5)"
   ]
  },
  {
   "cell_type": "code",
   "execution_count": 33,
   "id": "402a9c4b",
   "metadata": {},
   "outputs": [
    {
     "data": {
      "text/plain": [
       "array([[1., 1., 1., 1.],\n",
       "       [1., 1., 1., 1.],\n",
       "       [1., 1., 1., 1.],\n",
       "       [1., 1., 1., 1.]])"
      ]
     },
     "execution_count": 33,
     "metadata": {},
     "output_type": "execute_result"
    }
   ],
   "source": [
    "np.ones((4,4))"
   ]
  },
  {
   "cell_type": "markdown",
   "id": "91472ec3",
   "metadata": {},
   "source": [
    "linspace(araları eşit sayıları kullanarak dizi oluşturur.)\n",
    "eye(birim matris oluşturur)"
   ]
  },
  {
   "cell_type": "code",
   "execution_count": 34,
   "id": "bbf9e3fa",
   "metadata": {},
   "outputs": [
    {
     "data": {
      "text/plain": [
       "array([ 0.  , 18.75, 37.5 , 56.25, 75.  ])"
      ]
     },
     "execution_count": 34,
     "metadata": {},
     "output_type": "execute_result"
    }
   ],
   "source": [
    "np.linspace(0,75,5)"
   ]
  },
  {
   "cell_type": "code",
   "execution_count": 35,
   "id": "7278883a",
   "metadata": {},
   "outputs": [
    {
     "data": {
      "text/plain": [
       "array([[1., 0., 0., 0., 0., 0., 0.],\n",
       "       [0., 1., 0., 0., 0., 0., 0.],\n",
       "       [0., 0., 1., 0., 0., 0., 0.],\n",
       "       [0., 0., 0., 1., 0., 0., 0.],\n",
       "       [0., 0., 0., 0., 1., 0., 0.],\n",
       "       [0., 0., 0., 0., 0., 1., 0.],\n",
       "       [0., 0., 0., 0., 0., 0., 1.]])"
      ]
     },
     "execution_count": 35,
     "metadata": {},
     "output_type": "execute_result"
    }
   ],
   "source": [
    "np.eye(7)"
   ]
  },
  {
   "cell_type": "markdown",
   "id": "f798929d",
   "metadata": {},
   "source": [
    "random"
   ]
  },
  {
   "cell_type": "code",
   "execution_count": 36,
   "id": "e83bcb12",
   "metadata": {},
   "outputs": [
    {
     "data": {
      "text/plain": [
       "array([-0.14174044, -0.60264426])"
      ]
     },
     "execution_count": 36,
     "metadata": {},
     "output_type": "execute_result"
    }
   ],
   "source": [
    "np.random.randn(2)## numpy dizisi döner"
   ]
  },
  {
   "cell_type": "code",
   "execution_count": 37,
   "id": "1f16e0bb",
   "metadata": {},
   "outputs": [
    {
     "data": {
      "text/plain": [
       "array([[ 0.2938392 ,  0.32251795, -1.08176283],\n",
       "       [ 1.24052865, -1.12512877,  1.58148468],\n",
       "       [ 1.13369042, -1.08448844, -0.89516114]])"
      ]
     },
     "execution_count": 37,
     "metadata": {},
     "output_type": "execute_result"
    }
   ],
   "source": [
    "np.random.randn(3,3)##2 boyutu"
   ]
  },
  {
   "cell_type": "code",
   "execution_count": 38,
   "id": "328d5681",
   "metadata": {},
   "outputs": [
    {
     "data": {
      "text/plain": [
       "array([ 67, 110,  18, 159])"
      ]
     },
     "execution_count": 38,
     "metadata": {},
     "output_type": "execute_result"
    }
   ],
   "source": [
    "##random.randint #tam sayı  low >= high\n",
    "low=0\n",
    "high=200\n",
    "count=4\n",
    "np.random.randint(low,high,count)"
   ]
  },
  {
   "cell_type": "markdown",
   "id": "9a5f4094",
   "metadata": {},
   "source": [
    "dizi metotları\n",
    "-np.random.randint(0,100,20)\n",
    ".reshape(satırS,sütunS)##\n",
    "max()\n",
    "min()\n",
    "argmax() #max hangi indexte\n",
    "argmin() #min hangi indexte\n",
    "shape :kaç satır kaç sütun=> özellik"
   ]
  },
  {
   "cell_type": "code",
   "execution_count": 39,
   "id": "55659fba",
   "metadata": {},
   "outputs": [
    {
     "name": "stdout",
     "output_type": "stream",
     "text": [
      "99\n",
      "0\n",
      "1\n",
      "18\n"
     ]
    },
    {
     "data": {
      "text/plain": [
       "array([[29, 99, 35, 68],\n",
       "       [70, 97, 10, 92],\n",
       "       [59, 88, 78, 20],\n",
       "       [41, 10, 16, 78],\n",
       "       [ 9, 68,  0, 92]])"
      ]
     },
     "execution_count": 39,
     "metadata": {},
     "output_type": "execute_result"
    }
   ],
   "source": [
    "benim_dizim1=np.random.randint(0,100,20)\n",
    "benim_dizim1.reshape(5,4)#20 elaman olduğu için 5*4 yaptım\n",
    "print(benim_dizim1.max())\n",
    "print(benim_dizim1.min())\n",
    "print(benim_dizim1.argmax())\n",
    "print(benim_dizim1.argmin())\n",
    "reshape_benim_dizim=benim_dizim1.reshape(5,4)\n",
    "benim_dizim1\n",
    "reshape_benim_dizim"
   ]
  },
  {
   "cell_type": "code",
   "execution_count": 40,
   "id": "dda14ed3",
   "metadata": {},
   "outputs": [
    {
     "name": "stdout",
     "output_type": "stream",
     "text": [
      "[[29 99 35 68]\n",
      " [70 97 10 92]\n",
      " [59 88 78 20]\n",
      " [41 10 16 78]\n",
      " [ 9 68  0 92]]\n"
     ]
    },
    {
     "data": {
      "text/plain": [
       "array([29, 99, 35, 68, 70, 97, 10, 92, 59, 88, 78, 20, 41, 10, 16, 78,  9,\n",
       "       68,  0, 92])"
      ]
     },
     "execution_count": 40,
     "metadata": {},
     "output_type": "execute_result"
    }
   ],
   "source": [
    "print(reshape_benim_dizim)\n",
    "benim_dizim1"
   ]
  },
  {
   "cell_type": "markdown",
   "id": "5536797f",
   "metadata": {},
   "source": [
    "slice gibi bişey \n",
    "copy()"
   ]
  },
  {
   "cell_type": "code",
   "execution_count": 41,
   "id": "1f0d48f8",
   "metadata": {},
   "outputs": [
    {
     "data": {
      "text/plain": [
       "array([27, 21,  1, 13, 26, 11,  9, 15,  4, 15])"
      ]
     },
     "execution_count": 41,
     "metadata": {},
     "output_type": "execute_result"
    }
   ],
   "source": [
    "benim_dizim=np.random.randint(0,30,10)\n",
    "benim_dizim"
   ]
  },
  {
   "cell_type": "code",
   "execution_count": 42,
   "id": "3d5ae2a1",
   "metadata": {},
   "outputs": [
    {
     "data": {
      "text/plain": [
       "array([27, 21, 31, 31, 31, 31, 31, 15,  4, 15])"
      ]
     },
     "execution_count": 42,
     "metadata": {},
     "output_type": "execute_result"
    }
   ],
   "source": [
    "benim_dizim[2:7]=31\n",
    "benim_dizim"
   ]
  },
  {
   "cell_type": "code",
   "execution_count": 43,
   "id": "84c70abf",
   "metadata": {},
   "outputs": [
    {
     "name": "stdout",
     "output_type": "stream",
     "text": [
      "[32 32 32 32 32]\n"
     ]
    },
    {
     "data": {
      "text/plain": [
       "array([32, 32, 32, 32, 32, 32, 32, 32, 32, 32])"
      ]
     },
     "execution_count": 43,
     "metadata": {},
     "output_type": "execute_result"
    }
   ],
   "source": [
    "slicing_dizim=benim_dizim[2:7]\n",
    "benim_dizim[:]=32\n",
    "print(slicing_dizim)\n",
    "benim_dizim\n",
    "#orjinali değişti"
   ]
  },
  {
   "cell_type": "code",
   "execution_count": 44,
   "id": "54d4d5e6",
   "metadata": {},
   "outputs": [
    {
     "name": "stdout",
     "output_type": "stream",
     "text": [
      "[ 3  5 16 18 25  9 27 23 12  1]\n"
     ]
    },
    {
     "data": {
      "text/plain": [
       "array([ 3,  5, 31, 31, 31, 31, 31, 23, 12,  1])"
      ]
     },
     "execution_count": 44,
     "metadata": {},
     "output_type": "execute_result"
    }
   ],
   "source": [
    "dizi1=np.random.randint(0,30,10)\n",
    "dizi2=dizi1.copy()\n",
    "dizi2[2:7]=31\n",
    "print(dizi1)\n",
    "dizi2"
   ]
  },
  {
   "cell_type": "markdown",
   "id": "5a848265",
   "metadata": {},
   "source": [
    "2 boyutlu diziler(matrisler) ile çalışmak"
   ]
  },
  {
   "cell_type": "code",
   "execution_count": 45,
   "id": "a059df16",
   "metadata": {},
   "outputs": [
    {
     "name": "stdout",
     "output_type": "stream",
     "text": [
      "[[ 0.30344582 -0.20694224  0.56745871]\n",
      " [-0.83176478 -0.88920086  0.55662734]\n",
      " [-0.49896277  1.18795275 -1.47911007]]\n",
      "[[-1.05539578 -0.13788611 -0.40180953]\n",
      " [ 1.33973864 -0.13007754 -1.83726954]\n",
      " [ 1.66576064 -0.23828311 -2.01722994]]\n"
     ]
    }
   ],
   "source": [
    "matris1=np.random.randn(3,3)\n",
    "matris2=np.random.randn(3,3)\n",
    "print(matris1)\n",
    "print(matris2)"
   ]
  },
  {
   "cell_type": "code",
   "execution_count": 46,
   "id": "54b34954",
   "metadata": {},
   "outputs": [
    {
     "data": {
      "text/plain": [
       "-0.20694224013624032"
      ]
     },
     "execution_count": 46,
     "metadata": {},
     "output_type": "execute_result"
    }
   ],
   "source": [
    "matris1[0][1]\n",
    "matris1[0,1]\n",
    "#ikisi de aynı şeyi yapıyo"
   ]
  },
  {
   "cell_type": "code",
   "execution_count": 47,
   "id": "0761a18f",
   "metadata": {},
   "outputs": [
    {
     "name": "stdout",
     "output_type": "stream",
     "text": [
      "[[ 0.30344582 -0.20694224  0.56745871]\n",
      " [-0.83176478 -0.88920086  0.55662734]\n",
      " [-0.49896277  1.18795275 -1.47911007]]\n"
     ]
    },
    {
     "data": {
      "text/plain": [
       "array([ 0.55662734, -1.47911007])"
      ]
     },
     "execution_count": 47,
     "metadata": {},
     "output_type": "execute_result"
    }
   ],
   "source": [
    "#matriste slime\n",
    "print(matris1)\n",
    "matris1[1:,2]#1. ve 2. satırın 2.sütunlarını getirttik"
   ]
  },
  {
   "cell_type": "code",
   "execution_count": 48,
   "id": "a2a80c46",
   "metadata": {},
   "outputs": [
    {
     "data": {
      "text/plain": [
       "array([[ 0,  1,  2,  3,  4],\n",
       "       [ 5,  6,  7,  8,  9],\n",
       "       [10, 11, 12, 13, 14],\n",
       "       [15, 16, 17, 18, 19],\n",
       "       [20, 21, 22, 23, 24]])"
      ]
     },
     "execution_count": 48,
     "metadata": {},
     "output_type": "execute_result"
    }
   ],
   "source": [
    "yeni_matris=[]\n",
    "yeni_liste=[0,1,2,3,4,5,6,7,8,9,10,11,12,13,14,15,16,17,18,19,20,21,22,23,24]\n",
    "yeni_matris=np.array(yeni_liste)\n",
    "yeni_matris=yeni_matris.reshape(5,5)\n",
    "yeni_matris"
   ]
  },
  {
   "cell_type": "code",
   "execution_count": 49,
   "id": "4e929e72",
   "metadata": {},
   "outputs": [
    {
     "data": {
      "text/plain": [
       "array([[10, 11, 12, 13, 14],\n",
       "       [20, 21, 22, 23, 24],\n",
       "       [ 0,  1,  2,  3,  4]])"
      ]
     },
     "execution_count": 49,
     "metadata": {},
     "output_type": "execute_result"
    }
   ],
   "source": [
    "## garip bir özellik\n",
    "yeni_matris[[2,4,0]]"
   ]
  },
  {
   "cell_type": "markdown",
   "id": "cc7537c0",
   "metadata": {},
   "source": [
    "# operasyonlar"
   ]
  },
  {
   "cell_type": "code",
   "execution_count": 50,
   "id": "bf794ef4",
   "metadata": {},
   "outputs": [
    {
     "name": "stdout",
     "output_type": "stream",
     "text": [
      "[29 11 34 49 76 47 11 48 10 74 78 25 14 52 44 23 22  8 43 47]\n"
     ]
    },
    {
     "data": {
      "text/plain": [
       "array([11, 11, 10, 14,  8])"
      ]
     },
     "execution_count": 50,
     "metadata": {},
     "output_type": "execute_result"
    }
   ],
   "source": [
    "yeni_dizi=np.random.randint(0,80,20)\n",
    "print(yeni_dizi)\n",
    "#20 ve 10 arası\n",
    "ara_dizi=yeni_dizi<20\n",
    "yeni_dizi[ara_dizi]"
   ]
  },
  {
   "cell_type": "code",
   "execution_count": 51,
   "id": "b0676bc4",
   "metadata": {},
   "outputs": [
    {
     "name": "stdout",
     "output_type": "stream",
     "text": [
      "[0, 1, 2, 3, 4, 5, 6, 7, 8, 9, 10, 11, 12, 13, 14, 15, 16, 17, 18, 19, 20, 21, 22, 23, 24, 25, 26, 27, 28, 29]\n",
      "[[ 0  1  2  3  4  5]\n",
      " [ 6  7  8  9 10 11]\n",
      " [12 13 14 15 16 17]\n",
      " [18 19 20 21 22 23]\n",
      " [24 25 26 27 28 29]]\n"
     ]
    }
   ],
   "source": [
    "i=[a for a in range(30)]\n",
    "print(i)\n",
    "i=np.array(i)\n",
    "i=i.reshape(5,6)\n",
    "print(i)"
   ]
  },
  {
   "cell_type": "code",
   "execution_count": null,
   "id": "45f5470a",
   "metadata": {},
   "outputs": [],
   "source": []
  }
 ],
 "metadata": {
  "kernelspec": {
   "display_name": "Python 3 (ipykernel)",
   "language": "python",
   "name": "python3"
  },
  "language_info": {
   "codemirror_mode": {
    "name": "ipython",
    "version": 3
   },
   "file_extension": ".py",
   "mimetype": "text/x-python",
   "name": "python",
   "nbconvert_exporter": "python",
   "pygments_lexer": "ipython3",
   "version": "3.10.11"
  }
 },
 "nbformat": 4,
 "nbformat_minor": 5
}
