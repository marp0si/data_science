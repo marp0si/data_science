{
 "cells": [
  {
   "cell_type": "markdown",
   "id": "d824eef6",
   "metadata": {},
   "source": [
    "## numpy-matplotlib"
   ]
  },
  {
   "cell_type": "code",
   "execution_count": 2,
   "id": "71faeaea",
   "metadata": {},
   "outputs": [],
   "source": [
    "import numpy as np\n",
    "import matplotlib.pyplot as matplot\n",
    "import pandas "
   ]
  },
  {
   "cell_type": "code",
   "execution_count": 3,
   "id": "3aadf47a",
   "metadata": {},
   "outputs": [
    {
     "name": "stdout",
     "output_type": "stream",
     "text": [
      "4034.6994051348183\n"
     ]
    }
   ],
   "source": [
    "maaslist=np.random.normal(4000,500,1000)\n",
    "print(np.mean(maaslist))"
   ]
  },
  {
   "cell_type": "code",
   "execution_count": 4,
   "id": "a6bdab88",
   "metadata": {},
   "outputs": [
    {
     "data": {
      "image/png": "[encoded data removed]",
      "text/plain": [
       "<Figure size 432x288 with 1 Axes>"
      ]
     },
     "metadata": {
      "needs_background": "light"
     },
     "output_type": "display_data"
    }
   ],
   "source": [
    "matplot.hist(maaslist,30)\n",
    "matplot.show()"
   ]
  },
  {
   "cell_type": "markdown",
   "id": "e425546b",
   "metadata": {},
   "source": [
    "## numpy array(matrisler)"
   ]
  },
  {
   "cell_type": "code",
   "execution_count": 5,
   "id": "d3028c35",
   "metadata": {},
   "outputs": [
    {
     "name": "stdout",
     "output_type": "stream",
     "text": [
      "[20, 30, 40, 50]\n"
     ]
    }
   ],
   "source": [
    "list1=[20,30,40,50]\n",
    "np.array(list1)\n",
    "print(list1)"
   ]
  },
  {
   "cell_type": "code",
   "execution_count": 6,
   "id": "13492763",
   "metadata": {},
   "outputs": [
    {
     "name": "stdout",
     "output_type": "stream",
     "text": [
      "[[10 20 30]\n",
      " [11 21 31]\n",
      " [12 22 32]]\n"
     ]
    }
   ],
   "source": [
    "matris1=[[10,20,30],[11,21,31],[12,22,32]]\n",
    "print(np.array(matris1))"
   ]
  },
  {
   "cell_type": "markdown",
   "id": "f78b71c9",
   "metadata": {},
   "source": [
    "ARANGE-zeros(0 oluşturur)-ones(1 oluşturur)\n",
    "np.arange()"
   ]
  },
  {
   "cell_type": "code",
   "execution_count": 8,
   "id": "f34227f3",
   "metadata": {},
   "outputs": [
    {
     "data": {
      "text/plain": [
       "array([ 0,  2,  4,  6,  8, 10, 12, 14, 16, 18, 20])"
      ]
     },
     "execution_count": 8,
     "metadata": {},
     "output_type": "execute_result"
    }
   ],
   "source": [
    "np.arange(0,21,2)"
   ]
  },
  {
   "cell_type": "code",
   "execution_count": 9,
   "id": "4f091f73",
   "metadata": {},
   "outputs": [
    {
     "data": {
      "text/plain": [
       "array([0., 0., 0., 0., 0.])"
      ]
     },
     "execution_count": 9,
     "metadata": {},
     "output_type": "execute_result"
    }
   ],
   "source": [
    "np.zeros(5)"
   ]
  },
  {
   "cell_type": "code",
   "execution_count": 10,
   "id": "402a9c4b",
   "metadata": {},
   "outputs": [
    {
     "data": {
      "text/plain": [
       "array([[1., 1., 1., 1.],\n",
       "       [1., 1., 1., 1.],\n",
       "       [1., 1., 1., 1.],\n",
       "       [1., 1., 1., 1.]])"
      ]
     },
     "execution_count": 10,
     "metadata": {},
     "output_type": "execute_result"
    }
   ],
   "source": [
    "np.ones((4,4))"
   ]
  },
  {
   "cell_type": "markdown",
   "id": "91472ec3",
   "metadata": {},
   "source": [
    "linspace(araları eşit sayıları kullanarak dizi oluşturur.)\n",
    "eye(birim matris oluşturur)"
   ]
  },
  {
   "cell_type": "code",
   "execution_count": 11,
   "id": "bbf9e3fa",
   "metadata": {},
   "outputs": [
    {
     "data": {
      "text/plain": [
       "array([ 0.  , 18.75, 37.5 , 56.25, 75.  ])"
      ]
     },
     "execution_count": 11,
     "metadata": {},
     "output_type": "execute_result"
    }
   ],
   "source": [
    "np.linspace(0,75,5)"
   ]
  },
  {
   "cell_type": "code",
   "execution_count": 12,
   "id": "7278883a",
   "metadata": {},
   "outputs": [
    {
     "data": {
      "text/plain": [
       "array([[1., 0., 0., 0., 0., 0., 0.],\n",
       "       [0., 1., 0., 0., 0., 0., 0.],\n",
       "       [0., 0., 1., 0., 0., 0., 0.],\n",
       "       [0., 0., 0., 1., 0., 0., 0.],\n",
       "       [0., 0., 0., 0., 1., 0., 0.],\n",
       "       [0., 0., 0., 0., 0., 1., 0.],\n",
       "       [0., 0., 0., 0., 0., 0., 1.]])"
      ]
     },
     "execution_count": 12,
     "metadata": {},
     "output_type": "execute_result"
    }
   ],
   "source": [
    "np.eye(7)"
   ]
  },
  {
   "cell_type": "markdown",
   "id": "f798929d",
   "metadata": {},
   "source": [
    "random"
   ]
  },
  {
   "cell_type": "code",
   "execution_count": 13,
   "id": "e83bcb12",
   "metadata": {},
   "outputs": [
    {
     "data": {
      "text/plain": [
       "array([2.11995572, 0.66177688])"
      ]
     },
     "execution_count": 13,
     "metadata": {},
     "output_type": "execute_result"
    }
   ],
   "source": [
    "np.random.randn(2)## numpy dizisi döner"
   ]
  },
  {
   "cell_type": "code",
   "execution_count": 14,
   "id": "1f16e0bb",
   "metadata": {},
   "outputs": [
    {
     "data": {
      "text/plain": [
       "array([[ 0.98814271, -0.49895478,  1.58812503],\n",
       "       [-0.90272347, -0.36562394,  0.32314089],\n",
       "       [ 1.14738834, -0.35465223, -0.52808158]])"
      ]
     },
     "execution_count": 14,
     "metadata": {},
     "output_type": "execute_result"
    }
   ],
   "source": [
    "np.random.randn(3,3)##2 boyutu"
   ]
  },
  {
   "cell_type": "code",
   "execution_count": 15,
   "id": "328d5681",
   "metadata": {},
   "outputs": [
    {
     "data": {
      "text/plain": [
       "array([ 91, 107,   3, 171])"
      ]
     },
     "execution_count": 15,
     "metadata": {},
     "output_type": "execute_result"
    }
   ],
   "source": [
    "##random.randint #tam sayı  low >= high\n",
    "low=0\n",
    "high=200\n",
    "count=4\n",
    "np.random.randint(low,high,count)"
   ]
  },
  {
   "cell_type": "markdown",
   "id": "9a5f4094",
   "metadata": {},
   "source": [
    "dizi metotları\n",
    "-np.random.randint(0,100,20)\n",
    ".reshape(satırS,sütunS)##\n",
    "max()\n",
    "min()\n",
    "argmax() #max hangi indexte\n",
    "argmin() #min hangi indexte\n",
    "shape :kaç satır kaç sütun=> özellik"
   ]
  },
  {
   "cell_type": "code",
   "execution_count": 16,
   "id": "55659fba",
   "metadata": {},
   "outputs": [
    {
     "name": "stdout",
     "output_type": "stream",
     "text": [
      "97\n"
     ]
    }
   ],
   "source": [
    "benim_dizim1=np.random.randint(0,100,20)\n",
    "benim_dizim1.reshape(5,4)#20 elaman olduğu için 5*4 yaptım\n",
    "print(benim_dizim1.max())\n",
    "benim_dizim1.min()\n",
    "benim_dizim1.argmax()\n",
    "benim_dizim1.argmin()\n",
    "reshape_benim_dizim=benim_dizim1.reshape(5,4)\n"
   ]
  },
  {
   "cell_type": "code",
   "execution_count": 17,
   "id": "dda14ed3",
   "metadata": {},
   "outputs": [
    {
     "name": "stdout",
     "output_type": "stream",
     "text": [
      "[[78  7 62 90]\n",
      " [69 37 24 82]\n",
      " [51 95 22 73]\n",
      " [ 1 37  5 10]\n",
      " [54 75 84 97]]\n"
     ]
    },
    {
     "data": {
      "text/plain": [
       "array([78,  7, 62, 90, 69, 37, 24, 82, 51, 95, 22, 73,  1, 37,  5, 10, 54,\n",
       "       75, 84, 97])"
      ]
     },
     "execution_count": 17,
     "metadata": {},
     "output_type": "execute_result"
    }
   ],
   "source": [
    "print(reshape_benim_dizim)\n",
    "benim_dizim1"
   ]
  },
  {
   "cell_type": "markdown",
   "id": "5536797f",
   "metadata": {},
   "source": [
    "slice gibi bişey \n",
    "copy()"
   ]
  },
  {
   "cell_type": "code",
   "execution_count": 18,
   "id": "1f0d48f8",
   "metadata": {},
   "outputs": [
    {
     "data": {
      "text/plain": [
       "array([ 4, 24,  0, 20, 16,  9, 28, 19,  2,  7])"
      ]
     },
     "execution_count": 18,
     "metadata": {},
     "output_type": "execute_result"
    }
   ],
   "source": [
    "benim_dizim=np.random.randint(0,30,10)\n",
    "benim_dizim"
   ]
  },
  {
   "cell_type": "code",
   "execution_count": 19,
   "id": "3d5ae2a1",
   "metadata": {},
   "outputs": [
    {
     "data": {
      "text/plain": [
       "array([ 4, 24, 31, 31, 31, 31, 31, 19,  2,  7])"
      ]
     },
     "execution_count": 19,
     "metadata": {},
     "output_type": "execute_result"
    }
   ],
   "source": [
    "benim_dizim[2:7]=31\n",
    "benim_dizim"
   ]
  },
  {
   "cell_type": "code",
   "execution_count": 20,
   "id": "84c70abf",
   "metadata": {},
   "outputs": [
    {
     "name": "stdout",
     "output_type": "stream",
     "text": [
      "[32 32 32 32 32]\n"
     ]
    },
    {
     "data": {
      "text/plain": [
       "array([32, 32, 32, 32, 32, 32, 32, 32, 32, 32])"
      ]
     },
     "execution_count": 20,
     "metadata": {},
     "output_type": "execute_result"
    }
   ],
   "source": [
    "slicing_dizim=benim_dizim[2:7]\n",
    "benim_dizim[:]=32\n",
    "print(slicing_dizim)\n",
    "benim_dizim\n",
    "#orjinali değişti"
   ]
  },
  {
   "cell_type": "code",
   "execution_count": 21,
   "id": "54d4d5e6",
   "metadata": {},
   "outputs": [
    {
     "name": "stdout",
     "output_type": "stream",
     "text": [
      "[ 9 16 12  4 13  7 14 16  3  5]\n"
     ]
    },
    {
     "data": {
      "text/plain": [
       "array([ 9, 16, 31, 31, 31, 31, 31, 16,  3,  5])"
      ]
     },
     "execution_count": 21,
     "metadata": {},
     "output_type": "execute_result"
    }
   ],
   "source": [
    "dizi1=np.random.randint(0,30,10)\n",
    "dizi2=dizi1.copy()\n",
    "dizi2[2:7]=31\n",
    "print(dizi1)\n",
    "dizi2"
   ]
  },
  {
   "cell_type": "markdown",
   "id": "5a848265",
   "metadata": {},
   "source": [
    "2 boyutlu diziler(matrisler) ile çalışmak"
   ]
  },
  {
   "cell_type": "code",
   "execution_count": 22,
   "id": "a059df16",
   "metadata": {},
   "outputs": [
    {
     "name": "stdout",
     "output_type": "stream",
     "text": [
      "[[-0.68756794  0.52811495  2.11609085]\n",
      " [ 2.02709846 -1.53469161 -0.89077062]\n",
      " [-0.5007388   0.26030963  0.04135514]]\n",
      "[[ 1.30487365  0.85634546  1.17747624]\n",
      " [-1.74140802  1.16719507 -0.79221398]\n",
      " [-0.66317581 -0.85801714 -0.67510007]]\n"
     ]
    }
   ],
   "source": [
    "matris1=np.random.randn(3,3)\n",
    "matris2=np.random.randn(3,3)\n",
    "print(matris1)\n",
    "print(matris2)"
   ]
  },
  {
   "cell_type": "code",
   "execution_count": 23,
   "id": "54b34954",
   "metadata": {},
   "outputs": [
    {
     "data": {
      "text/plain": [
       "0.5281149462047813"
      ]
     },
     "execution_count": 23,
     "metadata": {},
     "output_type": "execute_result"
    }
   ],
   "source": [
    "matris1[0][1]\n",
    "matris1[0,1]\n",
    "#ikisi de aynı şeyi yapıyo"
   ]
  },
  {
   "cell_type": "code",
   "execution_count": 24,
   "id": "0761a18f",
   "metadata": {},
   "outputs": [
    {
     "name": "stdout",
     "output_type": "stream",
     "text": [
      "[[-0.68756794  0.52811495  2.11609085]\n",
      " [ 2.02709846 -1.53469161 -0.89077062]\n",
      " [-0.5007388   0.26030963  0.04135514]]\n"
     ]
    },
    {
     "data": {
      "text/plain": [
       "array([-0.89077062,  0.04135514])"
      ]
     },
     "execution_count": 24,
     "metadata": {},
     "output_type": "execute_result"
    }
   ],
   "source": [
    "#matriste slime\n",
    "print(matris1)\n",
    "matris1[1:,2]#1. ve 2. satırın 2.sütunlarını getirttik"
   ]
  },
  {
   "cell_type": "code",
   "execution_count": 25,
   "id": "a2a80c46",
   "metadata": {},
   "outputs": [
    {
     "data": {
      "text/plain": [
       "array([[ 0,  1,  2,  3,  4],\n",
       "       [ 5,  6,  7,  8,  9],\n",
       "       [10, 11, 12, 13, 14],\n",
       "       [15, 16, 17, 18, 19],\n",
       "       [20, 21, 22, 23, 24]])"
      ]
     },
     "execution_count": 25,
     "metadata": {},
     "output_type": "execute_result"
    }
   ],
   "source": [
    "yeni_matris=[]\n",
    "yeni_liste=[0,1,2,3,4,5,6,7,8,9,10,11,12,13,14,15,16,17,18,19,20,21,22,23,24]\n",
    "yeni_matris=np.array(yeni_liste)\n",
    "yeni_matris=yeni_matris.reshape(5,5)\n",
    "yeni_matris"
   ]
  },
  {
   "cell_type": "code",
   "execution_count": 26,
   "id": "4e929e72",
   "metadata": {},
   "outputs": [
    {
     "data": {
      "text/plain": [
       "array([[10, 11, 12, 13, 14],\n",
       "       [20, 21, 22, 23, 24],\n",
       "       [ 0,  1,  2,  3,  4]])"
      ]
     },
     "execution_count": 26,
     "metadata": {},
     "output_type": "execute_result"
    }
   ],
   "source": [
    "## garip bir özellik\n",
    "yeni_matris[[2,4,0]]"
   ]
  },
  {
   "cell_type": "markdown",
   "id": "cc7537c0",
   "metadata": {},
   "source": [
    "# operasyonlar"
   ]
  },
  {
   "cell_type": "code",
   "execution_count": 27,
   "id": "bf794ef4",
   "metadata": {},
   "outputs": [
    {
     "name": "stdout",
     "output_type": "stream",
     "text": [
      "[25 28 20 57 39 12  4 10  7 13 54 73 59 34 26 19  3 77 60 11]\n"
     ]
    },
    {
     "data": {
      "text/plain": [
       "array([12,  4, 10,  7, 13, 19,  3, 11])"
      ]
     },
     "execution_count": 27,
     "metadata": {},
     "output_type": "execute_result"
    }
   ],
   "source": [
    "yeni_dizi=np.random.randint(0,80,20)\n",
    "print(yeni_dizi)\n",
    "#20 ve 10 arası\n",
    "ara_dizi=yeni_dizi<20\n",
    "yeni_dizi[ara_dizi]"
   ]
  },
  {
   "cell_type": "code",
   "execution_count": null,
   "id": "b0676bc4",
   "metadata": {},
   "outputs": [],
   "source": []
  },
  {
   "cell_type": "code",
   "execution_count": null,
   "id": "45f5470a",
   "metadata": {},
   "outputs": [],
   "source": []
  }
 ],
 "metadata": {
  "kernelspec": {
   "display_name": "Python 3 (ipykernel)",
   "language": "python",
   "name": "python3"
  },
  "language_info": {
   "codemirror_mode": {
    "name": "ipython",
    "version": 3
   },
   "file_extension": ".py",
   "mimetype": "text/x-python",
   "name": "python",
   "nbconvert_exporter": "python",
   "pygments_lexer": "ipython3",
   "version": "3.8.12"
  }
 },
 "nbformat": 4,
 "nbformat_minor": 5
}
