{
 "cells": [
  {
   "cell_type": "code",
   "execution_count": 1,
   "id": "f191e0ac",
   "metadata": {},
   "outputs": [],
   "source": [
    "import tensorflow as tf\n",
    "import numpy as np\n",
    "import seaborn as sbn\n",
    "import matplotlib.pyplot as plt\n",
    "import pandas as pd\n"
   ]
  },
  {
   "cell_type": "code",
   "execution_count": 2,
   "id": "01a71585",
   "metadata": {},
   "outputs": [],
   "source": [
    "df=pd.read_csv(\"NYC.csv\")"
   ]
  },
  {
   "cell_type": "code",
   "execution_count": 3,
   "id": "54bf2556",
   "metadata": {},
   "outputs": [
    {
     "data": {
      "text/plain": [
       "1458644"
      ]
     },
     "execution_count": 3,
     "metadata": {},
     "output_type": "execute_result"
    }
   ],
   "source": [
    "len(df)#1458644"
   ]
  },
  {
   "cell_type": "code",
   "execution_count": 4,
   "id": "4490a1a6",
   "metadata": {},
   "outputs": [],
   "source": [
    "df1=df.drop(\"dropoff_datetime\",axis=1)\n",
    "df1=df1.drop(\"pickup_datetime\",axis=1)\n",
    "df1=df1.drop(\"store_and_fwd_flag\",axis=1)\n",
    "df1=df1.drop(\"trip_duration\",axis=1)"
   ]
  },
  {
   "cell_type": "code",
   "execution_count": 5,
   "id": "871d851a",
   "metadata": {},
   "outputs": [],
   "source": [
    "df1=df1.drop(\"id\",axis=1)"
   ]
  },
  {
   "cell_type": "code",
   "execution_count": 6,
   "id": "eaa440be",
   "metadata": {},
   "outputs": [],
   "source": [
    "\n",
    "#y=ax+b\n",
    "y=df[\"trip_duration\"].values\n",
    "x=df1.values"
   ]
  },
  {
   "cell_type": "code",
   "execution_count": null,
   "id": "6b51587c",
   "metadata": {},
   "outputs": [],
   "source": []
  },
  {
   "cell_type": "code",
   "execution_count": null,
   "id": "88638b8e",
   "metadata": {},
   "outputs": [],
   "source": []
  },
  {
   "cell_type": "code",
   "execution_count": null,
   "id": "807abdda",
   "metadata": {},
   "outputs": [],
   "source": []
  },
  {
   "cell_type": "code",
   "execution_count": 7,
   "id": "a121a7bf",
   "metadata": {},
   "outputs": [],
   "source": [
    "from sklearn.model_selection import train_test_split"
   ]
  },
  {
   "cell_type": "code",
   "execution_count": null,
   "id": "d2aef53f",
   "metadata": {},
   "outputs": [],
   "source": []
  },
  {
   "cell_type": "code",
   "execution_count": 8,
   "id": "b3b496fe",
   "metadata": {},
   "outputs": [],
   "source": [
    "x_train, x_test, y_train, y_test = train_test_split(x,y,test_size=0.3,random_state=15)"
   ]
  },
  {
   "cell_type": "code",
   "execution_count": 9,
   "id": "bc3e0a39",
   "metadata": {},
   "outputs": [
    {
     "data": {
      "text/plain": [
       "(437594,)"
      ]
     },
     "execution_count": 9,
     "metadata": {},
     "output_type": "execute_result"
    }
   ],
   "source": [
    "x_train.shape\n",
    "x_test.shape\n",
    "y_train.shape\n",
    "y_test.shape"
   ]
  },
  {
   "cell_type": "code",
   "execution_count": 10,
   "id": "1c25b807",
   "metadata": {},
   "outputs": [
    {
     "data": {
      "text/plain": [
       "MinMaxScaler()"
      ]
     },
     "execution_count": 10,
     "metadata": {},
     "output_type": "execute_result"
    }
   ],
   "source": [
    "from sklearn.preprocessing import MinMaxScaler\n",
    "scaler = MinMaxScaler()\n",
    "scaler.fit(x_train)"
   ]
  },
  {
   "cell_type": "code",
   "execution_count": 12,
   "id": "7310b10e",
   "metadata": {},
   "outputs": [],
   "source": [
    "from tensorflow.keras.models import Sequential\n",
    "from tensorflow.keras.layers import Dense"
   ]
  },
  {
   "cell_type": "code",
   "execution_count": 13,
   "id": "40d85d26",
   "metadata": {},
   "outputs": [],
   "source": [
    "model=Sequential()\n",
    "model.add(Dense(20,activation=\"relu\"))\n",
    "model.add(Dense(15,activation=\"relu\"))\n",
    "model.add(Dense(10,activation=\"relu\"))\n",
    "#çıktı için fazladan 1 tane neron ekle\n",
    "model.add(Dense(1))\n",
    "\n"
   ]
  },
  {
   "cell_type": "code",
   "execution_count": 14,
   "id": "94f8210c",
   "metadata": {
    "scrolled": true
   },
   "outputs": [],
   "source": [
    "model.compile(optimizer=\"rmsprop\",loss=\"mse\")"
   ]
  },
  {
   "cell_type": "code",
   "execution_count": null,
   "id": "6ffd1f74",
   "metadata": {
    "scrolled": false
   },
   "outputs": [
    {
     "name": "stdout",
     "output_type": "stream",
     "text": [
      "Epoch 1/100\n",
      "31908/31908 [==============================] - 61s 2ms/step - loss: 22412872.0000A: 1s - - ETA\n",
      "Epoch 2/100\n",
      "31908/31908 [==============================] - 54s 2ms/step - loss: 22407488.0000\n",
      "Epoch 3/100\n",
      "31908/31908 [==============================] - 57s 2ms/step - loss: 22406136.0000\n",
      "Epoch 4/100\n",
      "31908/31908 [==============================] - 47s 1ms/step - loss: 22406466.0000\n",
      "Epoch 5/100\n",
      "31908/31908 [==============================] - 48s 1ms/step - loss: 22404918.0000\n",
      "Epoch 6/100\n",
      "31908/31908 [==============================] - 47s 1ms/step - loss: 22405208.0000 0s - loss: 224\n",
      "Epoch 7/100\n",
      "31908/31908 [==============================] - 49s 2ms/step - loss: 22404050.0000\n",
      "Epoch 8/100\n",
      "31908/31908 [==============================] - 53s 2ms/step - loss: 22404296.0000\n",
      "Epoch 9/100\n",
      "31908/31908 [==============================] - 46s 1ms/step - loss: 22405256.0000\n",
      "Epoch 10/100\n",
      "31908/31908 [==============================] - 47s 1ms/step - loss: 22403572.0000\n",
      "Epoch 11/100\n",
      "31908/31908 [==============================] - 46s 1ms/step - loss: 22403800.0000\n",
      "Epoch 12/100\n",
      "31908/31908 [==============================] - 46s 1ms/step - loss: 22404108.0000\n",
      "Epoch 13/100\n",
      "31908/31908 [==============================] - 45s 1ms/step - loss: 22403628.0000\n",
      "Epoch 14/100\n",
      "31908/31908 [==============================] - 47s 1ms/step - loss: 22403746.0000\n",
      "Epoch 15/100\n",
      "31908/31908 [==============================] - 47s 1ms/step - loss: 22403758.0000\n",
      "Epoch 16/100\n",
      "31908/31908 [==============================] - 47s 1ms/step - loss: 22403584.0000 0s - los\n",
      "Epoch 17/100\n",
      "31908/31908 [==============================] - 47s 1ms/step - loss: 22403438.0000\n",
      "Epoch 18/100\n",
      "31908/31908 [==============================] - 49s 2ms/step - loss: 22403602.0000 0s - loss: - ETA: 0s - loss:\n",
      "Epoch 19/100\n",
      "31908/31908 [==============================] - 46s 1ms/step - loss: 22404146.0000 1s - - ETA: \n",
      "Epoch 20/100\n",
      "31908/31908 [==============================] - 47s 1ms/step - loss: 22403810.0000\n",
      "Epoch 21/100\n",
      "31908/31908 [==============================] - 48s 2ms/step - loss: 22404292.0000 5s\n",
      "Epoch 22/100\n",
      "31908/31908 [==============================] - 40s 1ms/step - loss: 22404246.0000\n",
      "Epoch 23/100\n",
      "31908/31908 [==============================] - 41s 1ms/step - loss: 22403610.0000\n",
      "Epoch 24/100\n",
      "31908/31908 [==============================] - 43s 1ms/step - loss: 22403714.0000\n",
      "Epoch 25/100\n",
      "31908/31908 [==============================] - 41s 1ms/step - loss: 22403150.0000 0s - loss:\n",
      "Epoch 26/100\n",
      "31908/31908 [==============================] - 41s 1ms/step - loss: 22403520.0000\n",
      "Epoch 27/100\n",
      "31908/31908 [==============================] - 41s 1ms/step - loss: 22403460.0000\n",
      "Epoch 28/100\n",
      "31908/31908 [==============================] - 42s 1ms/step - loss: 22403702.0000\n",
      "Epoch 29/100\n",
      "31908/31908 [==============================] - 40s 1ms/step - loss: 22402594.0000\n",
      "Epoch 30/100\n",
      "31908/31908 [==============================] - 41s 1ms/step - loss: 22404094.0000\n",
      "Epoch 31/100\n",
      "31908/31908 [==============================] - 41s 1ms/step - loss: 22403694.0000\n",
      "Epoch 32/100\n",
      "31908/31908 [==============================] - 42s 1ms/step - loss: 22403662.0000\n",
      "Epoch 33/100\n",
      "31908/31908 [==============================] - 41s 1ms/step - loss: 22404202.0000\n",
      "Epoch 34/100\n",
      "31908/31908 [==============================] - 41s 1ms/step - loss: 22403706.0000 0s - loss:\n",
      "Epoch 35/100\n",
      " 8272/31908 [======>.......................] - ETA: 30s - loss: 25672272.0000"
     ]
    }
   ],
   "source": [
    "model.fit(x_train,y_train,epochs=100)"
   ]
  },
  {
   "cell_type": "code",
   "execution_count": null,
   "id": "34744529",
   "metadata": {},
   "outputs": [],
   "source": [
    "loss=model.history.history[\"loss\"]\n",
    "sbn.lineplot(x=range(len(loss)),y=loss)\n"
   ]
  },
  {
   "cell_type": "code",
   "execution_count": null,
   "id": "937ec726",
   "metadata": {},
   "outputs": [],
   "source": []
  }
 ],
 "metadata": {
  "kernelspec": {
   "display_name": "Python 3 (ipykernel)",
   "language": "python",
   "name": "python3"
  },
  "language_info": {
   "codemirror_mode": {
    "name": "ipython",
    "version": 3
   },
   "file_extension": ".py",
   "mimetype": "text/x-python",
   "name": "python",
   "nbconvert_exporter": "python",
   "pygments_lexer": "ipython3",
   "version": "3.8.12"
  }
 },
 "nbformat": 4,
 "nbformat_minor": 5
}
