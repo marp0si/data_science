{
 "cells": [
  {
   "cell_type": "code",
   "execution_count": null,
   "id": "f191e0ac",
   "metadata": {},
   "outputs": [],
   "source": [
    "import tensorflow as tf\n",
    "import numpy as np\n",
    "import seaborn as sbn\n",
    "import matplotlib.pyplot as plt\n",
    "import pandas as pd\n"
   ]
  },
  {
   "cell_type": "code",
   "execution_count": null,
   "id": "01a71585",
   "metadata": {},
   "outputs": [],
   "source": [
    "df=pd.read_csv(\"NYC.csv\")"
   ]
  },
  {
   "cell_type": "code",
   "execution_count": null,
   "id": "da27c90c",
   "metadata": {},
   "outputs": [],
   "source": [
    "df"
   ]
  },
  {
   "cell_type": "code",
   "execution_count": null,
   "id": "54bf2556",
   "metadata": {},
   "outputs": [],
   "source": [
    "len(df)#1458644"
   ]
  },
  {
   "cell_type": "code",
   "execution_count": null,
   "id": "4490a1a6",
   "metadata": {},
   "outputs": [],
   "source": [
    "df1=df.drop(\"dropoff_datetime\",axis=1)\n",
    "df1=df1.drop(\"pickup_datetime\",axis=1)\n",
    "df1=df1.drop(\"store_and_fwd_flag\",axis=1)\n",
    "df1=df1.drop(\"trip_duration\",axis=1)"
   ]
  },
  {
   "cell_type": "code",
   "execution_count": null,
   "id": "871d851a",
   "metadata": {},
   "outputs": [],
   "source": [
    "df1=df1.drop(\"id\",axis=1)"
   ]
  },
  {
   "cell_type": "code",
   "execution_count": null,
   "id": "eaa440be",
   "metadata": {},
   "outputs": [],
   "source": [
    "df1=df1.drop(\"vendor_id\",axis=1)\n",
    "df1=df1.drop(\"passenger_count\",axis=1)\n",
    "#y=ax+b\n",
    "y=df[\"trip_duration\"].values\n",
    "x=df1.values"
   ]
  },
  {
   "cell_type": "code",
   "execution_count": null,
   "id": "6b51587c",
   "metadata": {},
   "outputs": [],
   "source": [
    "df1[\"longitude\"]=df1[\"dropoff_longitude\"]-df1[\"pickup_longitude\"]\n",
    "df1[\"latitude\"]=df1[\"dropoff_latitude\"]-df1[\"pickup_latitude\"]"
   ]
  },
  {
   "cell_type": "code",
   "execution_count": null,
   "id": "88638b8e",
   "metadata": {},
   "outputs": [],
   "source": [
    "df1=df1.drop(\"pickup_longitude\",axis=1)\n",
    "df1=df1.drop(\"pickup_latitude\",axis=1)\n",
    "df1=df1.drop(\"dropoff_latitude\",axis=1)\n",
    "df1=df1.drop(\"dropoff_longitude\",axis=1)"
   ]
  },
  {
   "cell_type": "code",
   "execution_count": null,
   "id": "807abdda",
   "metadata": {},
   "outputs": [],
   "source": [
    "df=pd.concat([pd.DataFrame(y,columns=[\"trip_duration\"]),df1],axis=1)"
   ]
  },
  {
   "cell_type": "code",
   "execution_count": null,
   "id": "7df5c70f",
   "metadata": {},
   "outputs": [],
   "source": [
    "df"
   ]
  },
  {
   "cell_type": "code",
   "execution_count": null,
   "id": "51d75403",
   "metadata": {},
   "outputs": [],
   "source": [
    "#y=ax+b\n",
    "y=df[\"trip_duration\"].values\n",
    "df1=df.drop(\"trip_duration\",axis=1)\n",
    "x=df1.values"
   ]
  },
  {
   "cell_type": "code",
   "execution_count": null,
   "id": "a121a7bf",
   "metadata": {},
   "outputs": [],
   "source": []
  },
  {
   "cell_type": "code",
   "execution_count": null,
   "id": "68edbd50",
   "metadata": {},
   "outputs": [],
   "source": []
  },
  {
   "cell_type": "code",
   "execution_count": null,
   "id": "d2aef53f",
   "metadata": {},
   "outputs": [],
   "source": [
    "from sklearn.model_selection import train_test_split"
   ]
  },
  {
   "cell_type": "code",
   "execution_count": null,
   "id": "b3b496fe",
   "metadata": {},
   "outputs": [],
   "source": [
    "x_train, x_test, y_train, y_test = train_test_split(x,y,test_size=0.3,random_state=15)"
   ]
  },
  {
   "cell_type": "code",
   "execution_count": null,
   "id": "bc3e0a39",
   "metadata": {},
   "outputs": [],
   "source": [
    "x_train.shape\n",
    "x_test.shape\n",
    "y_train.shape\n",
    "y_test.shape"
   ]
  },
  {
   "cell_type": "code",
   "execution_count": null,
   "id": "46777df5",
   "metadata": {},
   "outputs": [],
   "source": [
    "mean = x_train.mean(axis=0)\n",
    "x_train -= mean\n",
    "std = x_train.std(axis=0)\n",
    "x_train /= std\n",
    "x_test -= mean\n",
    "x_test /= std\n",
    "x_test=x_test[:4375]\n",
    "x_train=x_train[:10210]\n",
    "y_test=y_test[:4375]\n",
    "y_train=y_train[:10210]\n",
    "print(df[\"longitude\"])"
   ]
  },
  {
   "cell_type": "code",
   "execution_count": null,
   "id": "1c25b807",
   "metadata": {},
   "outputs": [],
   "source": [
    "from sklearn.preprocessing import MinMaxScaler\n",
    "scaler = MinMaxScaler()\n",
    "scaler.fit(x_train)"
   ]
  },
  {
   "cell_type": "code",
   "execution_count": null,
   "id": "7310b10e",
   "metadata": {},
   "outputs": [],
   "source": [
    "from tensorflow.keras.models import Sequential\n",
    "from tensorflow.keras.layers import Dense\n",
    "from tensorflow.keras.layers import Dense,Activation,Dropout\n",
    "from tensorflow.keras.callbacks import EarlyStopping"
   ]
  },
  {
   "cell_type": "code",
   "execution_count": null,
   "id": "21de5f53",
   "metadata": {},
   "outputs": [],
   "source": [
    "from tensorflow.keras.losses import BinaryCrossentropy\n",
    "from tensorflow.keras.optimizers import Adam"
   ]
  },
  {
   "cell_type": "code",
   "execution_count": null,
   "id": "40d85d26",
   "metadata": {},
   "outputs": [],
   "source": [
    "model=Sequential()\n",
    "model.add(Dense(24,activation=\"relu\"))\n",
    "#model.add(Dropout(0.6))\n",
    "model.add(Dense(12,activation=\"relu\"))\n",
    "#model.add(Dropout(0.6))\n",
    "model.add(Dense(8,activation=\"relu\"))\n",
    "#model.add(Dropout(0.6))\n",
    "#çıktı için fazladan 1 tane neron ekle\n",
    "model.add(Dense(1))\n",
    "\n"
   ]
  },
  {
   "cell_type": "code",
   "execution_count": null,
   "id": "94f8210c",
   "metadata": {
    "scrolled": true
   },
   "outputs": [],
   "source": [
    "model.compile(optimizer=\"adam\",loss=\"mse\")"
   ]
  },
  {
   "cell_type": "code",
   "execution_count": null,
   "id": "63e9bb93",
   "metadata": {},
   "outputs": [],
   "source": [
    "earlystopping=EarlyStopping(monitor=\"val_loss\",mode=\"min\",verbose=1,patience=25)"
   ]
  },
  {
   "cell_type": "code",
   "execution_count": null,
   "id": "6ffd1f74",
   "metadata": {
    "scrolled": true
   },
   "outputs": [],
   "source": [
    "model.fit(x=x_train,y=y_train,epochs=100,validation_data=(x_test,y_test),verbose=1,callbacks=[earlystopping])"
   ]
  },
  {
   "cell_type": "code",
   "execution_count": null,
   "id": "34744529",
   "metadata": {},
   "outputs": [],
   "source": [
    "modelloss=pd.DataFrame(model.history.history)\n",
    "modelloss.plot()"
   ]
  },
  {
   "cell_type": "code",
   "execution_count": null,
   "id": "937ec726",
   "metadata": {
    "scrolled": true
   },
   "outputs": [],
   "source": [
    "aaaa=model.predict(x_test[:])"
   ]
  },
  {
   "cell_type": "code",
   "execution_count": null,
   "id": "b49d597c",
   "metadata": {},
   "outputs": [],
   "source": [
    "aaaa[\"trip_duration\"==0]"
   ]
  },
  {
   "cell_type": "code",
   "execution_count": null,
   "id": "25d28ee7",
   "metadata": {},
   "outputs": [],
   "source": [
    "aaaa"
   ]
  },
  {
   "cell_type": "code",
   "execution_count": null,
   "id": "15faceb4",
   "metadata": {},
   "outputs": [],
   "source": [
    "y_test"
   ]
  },
  {
   "cell_type": "code",
   "execution_count": null,
   "id": "23c73b2b",
   "metadata": {},
   "outputs": [],
   "source": []
  },
  {
   "cell_type": "code",
   "execution_count": null,
   "id": "2159907f",
   "metadata": {},
   "outputs": [],
   "source": []
  }
 ],
 "metadata": {
  "kernelspec": {
   "display_name": "Python 3 (ipykernel)",
   "language": "python",
   "name": "python3"
  },
  "language_info": {
   "codemirror_mode": {
    "name": "ipython",
    "version": 3
   },
   "file_extension": ".py",
   "mimetype": "text/x-python",
   "name": "python",
   "nbconvert_exporter": "python",
   "pygments_lexer": "ipython3",
   "version": "3.8.12"
  }
 },
 "nbformat": 4,
 "nbformat_minor": 5
}
