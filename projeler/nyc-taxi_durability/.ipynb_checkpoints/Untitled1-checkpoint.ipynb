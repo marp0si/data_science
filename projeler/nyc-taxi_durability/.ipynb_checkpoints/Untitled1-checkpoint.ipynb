{
 "cells": [
  {
   "cell_type": "code",
   "execution_count": 1,
   "id": "f191e0ac",
   "metadata": {},
   "outputs": [],
   "source": [
    "import tensorflow as tf\n",
    "import numpy as np\n",
    "import seaborn as sbn\n",
    "import matplotlib.pyplot as plt\n",
    "import pandas as pd\n"
   ]
  },
  {
   "cell_type": "code",
   "execution_count": 2,
   "id": "01a71585",
   "metadata": {},
   "outputs": [],
   "source": [
    "df=pd.read_csv(\"NYC.csv\")"
   ]
  },
  {
   "cell_type": "code",
   "execution_count": 3,
   "id": "54bf2556",
   "metadata": {},
   "outputs": [
    {
     "data": {
      "text/plain": [
       "1458644"
      ]
     },
     "execution_count": 3,
     "metadata": {},
     "output_type": "execute_result"
    }
   ],
   "source": [
    "len(df)#1458644"
   ]
  },
  {
   "cell_type": "code",
   "execution_count": 4,
   "id": "4490a1a6",
   "metadata": {},
   "outputs": [],
   "source": [
    "df1=df.drop(\"dropoff_datetime\",axis=1)\n",
    "df1=df1.drop(\"pickup_datetime\",axis=1)\n",
    "df1=df1.drop(\"store_and_fwd_flag\",axis=1)\n",
    "df1=df1.drop(\"trip_duration\",axis=1)"
   ]
  },
  {
   "cell_type": "code",
   "execution_count": 5,
   "id": "871d851a",
   "metadata": {},
   "outputs": [],
   "source": [
    "df1=df1.drop(\"id\",axis=1)"
   ]
  },
  {
   "cell_type": "code",
   "execution_count": 6,
   "id": "eaa440be",
   "metadata": {},
   "outputs": [],
   "source": [
    "\n",
    "#y=ax+b\n",
    "y=df[\"trip_duration\"].values\n",
    "x=df1.values"
   ]
  },
  {
   "cell_type": "code",
   "execution_count": null,
   "id": "6b51587c",
   "metadata": {},
   "outputs": [],
   "source": []
  },
  {
   "cell_type": "code",
   "execution_count": null,
   "id": "88638b8e",
   "metadata": {},
   "outputs": [],
   "source": []
  },
  {
   "cell_type": "code",
   "execution_count": null,
   "id": "807abdda",
   "metadata": {},
   "outputs": [],
   "source": []
  },
  {
   "cell_type": "code",
   "execution_count": 7,
   "id": "a121a7bf",
   "metadata": {},
   "outputs": [],
   "source": [
    "from sklearn.model_selection import train_test_split"
   ]
  },
  {
   "cell_type": "code",
   "execution_count": null,
   "id": "d2aef53f",
   "metadata": {},
   "outputs": [],
   "source": []
  },
  {
   "cell_type": "code",
   "execution_count": 8,
   "id": "b3b496fe",
   "metadata": {},
   "outputs": [],
   "source": [
    "x_train, x_test, y_train, y_test = train_test_split(x,y,test_size=0.3,random_state=15)"
   ]
  },
  {
   "cell_type": "code",
   "execution_count": 9,
   "id": "bc3e0a39",
   "metadata": {},
   "outputs": [
    {
     "data": {
      "text/plain": [
       "(437594,)"
      ]
     },
     "execution_count": 9,
     "metadata": {},
     "output_type": "execute_result"
    }
   ],
   "source": [
    "x_train.shape\n",
    "x_test.shape\n",
    "y_train.shape\n",
    "y_test.shape"
   ]
  },
  {
   "cell_type": "code",
   "execution_count": 10,
   "id": "1c25b807",
   "metadata": {},
   "outputs": [
    {
     "data": {
      "text/plain": [
       "MinMaxScaler()"
      ]
     },
     "execution_count": 10,
     "metadata": {},
     "output_type": "execute_result"
    }
   ],
   "source": [
    "from sklearn.preprocessing import MinMaxScaler\n",
    "scaler = MinMaxScaler()\n",
    "scaler.fit(x_train)"
   ]
  },
  {
   "cell_type": "code",
   "execution_count": 11,
   "id": "7310b10e",
   "metadata": {},
   "outputs": [],
   "source": [
    "from tensorflow.keras.models import Sequential\n",
    "from tensorflow.keras.layers import Dense\n",
    "from tensorflow.keras.layers import Dense,Activation,Dropout\n",
    "from tensorflow.keras.callbacks import EarlyStopping"
   ]
  },
  {
   "cell_type": "code",
   "execution_count": 12,
   "id": "40d85d26",
   "metadata": {},
   "outputs": [],
   "source": [
    "model=Sequential()\n",
    "model.add(Dense(20,activation=\"relu\"))\n",
    "model.add(Dropout(0.6))\n",
    "model.add(Dense(15,activation=\"relu\"))\n",
    "model.add(Dropout(0.6))\n",
    "model.add(Dense(10,activation=\"relu\"))\n",
    "model.add(Dropout(0.6))\n",
    "#çıktı için fazladan 1 tane neron ekle\n",
    "model.add(Dense(1))\n",
    "\n"
   ]
  },
  {
   "cell_type": "code",
   "execution_count": 13,
   "id": "94f8210c",
   "metadata": {
    "scrolled": true
   },
   "outputs": [],
   "source": [
    "model.compile(optimizer=\"rmsprop\",loss=\"mse\")"
   ]
  },
  {
   "cell_type": "code",
   "execution_count": 14,
   "id": "63e9bb93",
   "metadata": {},
   "outputs": [],
   "source": [
    "earlystopping=EarlyStopping(monitor=\"val_loss\",mode=\"min\",verbose=1,patience=25)"
   ]
  },
  {
   "cell_type": "code",
   "execution_count": 15,
   "id": "6ffd1f74",
   "metadata": {
    "scrolled": true
   },
   "outputs": [
    {
     "name": "stdout",
     "output_type": "stream",
     "text": [
      "Epoch 1/100\n",
      "31908/31908 [==============================] - 84s 3ms/step - loss: 22684024.0000 - val_loss: 39357084.0000\n",
      "Epoch 2/100\n",
      "31908/31908 [==============================] - 52s 2ms/step - loss: 22541188.0000 - val_loss: 39212640.0000\n",
      "Epoch 3/100\n",
      "31908/31908 [==============================] - 53s 2ms/step - loss: 22525066.0000 - val_loss: 39210492.0000\n",
      "Epoch 4/100\n",
      "31908/31908 [==============================] - 55s 2ms/step - loss: 22525000.0000 - val_loss: 39206508.0000\n",
      "Epoch 5/100\n",
      "31908/31908 [==============================] - 53s 2ms/step - loss: 22519168.0000 - val_loss: 39206928.0000\n",
      "Epoch 6/100\n",
      "31908/31908 [==============================] - 61s 2ms/step - loss: 22517240.0000 - val_loss: 39207548.0000loss:\n",
      "Epoch 7/100\n",
      "31908/31908 [==============================] - 68s 2ms/step - loss: 22512268.0000 - val_loss: 39206112.0000\n",
      "Epoch 8/100\n",
      "31908/31908 [==============================] - 61s 2ms/step - loss: 22507102.0000 - val_loss: 39205048.0000\n",
      "Epoch 9/100\n",
      "31908/31908 [==============================] - 79s 2ms/step - loss: 22510332.0000 - val_loss: 39205080.0000\n",
      "Epoch 10/100\n",
      "31908/31908 [==============================] - 83s 3ms/step - loss: 22503280.0000 - val_loss: 39203312.0000ss: 2\n",
      "Epoch 11/100\n",
      "31908/31908 [==============================] - 70s 2ms/step - loss: 22499850.0000 - val_loss: 39206224.0000\n",
      "Epoch 12/100\n",
      "31908/31908 [==============================] - 67s 2ms/step - loss: 22495998.0000 - val_loss: 39204516.0000\n",
      "Epoch 13/100\n",
      "31908/31908 [==============================] - 67s 2ms/step - loss: 22497398.0000 - val_loss: 39204396.0000\n",
      "Epoch 14/100\n",
      "31908/31908 [==============================] - 53s 2ms/step - loss: 22493572.0000 - val_loss: 39203232.0000\n",
      "Epoch 15/100\n",
      "31908/31908 [==============================] - 52s 2ms/step - loss: 22495332.0000 - val_loss: 39201436.0000\n",
      "Epoch 16/100\n",
      "31908/31908 [==============================] - 52s 2ms/step - loss: 22492650.0000 - val_loss: 39201616.0000\n",
      "Epoch 17/100\n",
      "31908/31908 [==============================] - 66s 2ms/step - loss: 22492924.0000 - val_loss: 39201112.0000\n",
      "Epoch 18/100\n",
      "31908/31908 [==============================] - 72s 2ms/step - loss: 22489700.0000 - val_loss: 39199084.0000\n",
      "Epoch 19/100\n",
      "31908/31908 [==============================] - 70s 2ms/step - loss: 22487078.0000 - val_loss: 39200196.0000\n",
      "Epoch 20/100\n",
      "31908/31908 [==============================] - 62s 2ms/step - loss: 22484250.0000 - val_loss: 39199372.0000\n",
      "Epoch 21/100\n",
      "31908/31908 [==============================] - 58s 2ms/step - loss: 22480370.0000 - val_loss: 39199508.000054.00\n",
      "Epoch 22/100\n",
      "31908/31908 [==============================] - 57s 2ms/step - loss: 22477818.0000 - val_loss: 39198936.0000\n",
      "Epoch 23/100\n",
      "31908/31908 [==============================] - 57s 2ms/step - loss: 22476554.0000 - val_loss: 39198000.0000\n",
      "Epoch 24/100\n",
      "31908/31908 [==============================] - 58s 2ms/step - loss: 22476986.0000 - val_loss: 39197740.0000\n",
      "Epoch 25/100\n",
      "31908/31908 [==============================] - 59s 2ms/step - loss: 22475458.0000 - val_loss: 39199744.0000\n",
      "Epoch 26/100\n",
      "31908/31908 [==============================] - 56s 2ms/step - loss: 22470166.0000 - val_loss: 39196396.0000\n",
      "Epoch 27/100\n",
      "31908/31908 [==============================] - 58s 2ms/step - loss: 22473464.0000 - val_loss: 39195996.0000\n",
      "Epoch 28/100\n",
      "31908/31908 [==============================] - 60s 2ms/step - loss: 22470240.0000 - val_loss: 39197580.0000\n",
      "Epoch 29/100\n",
      "31908/31908 [==============================] - 57s 2ms/step - loss: 22466354.0000 - val_loss: 39195176.0000\n",
      "Epoch 30/100\n",
      "31908/31908 [==============================] - 61s 2ms/step - loss: 22465020.0000 - val_loss: 39195972.0000\n",
      "Epoch 31/100\n",
      "31908/31908 [==============================] - 59s 2ms/step - loss: 22467456.0000 - val_loss: 39194552.0000\n",
      "Epoch 32/100\n",
      "31908/31908 [==============================] - 66s 2ms/step - loss: 22465570.0000 - val_loss: 39195492.0000\n",
      "Epoch 33/100\n",
      "31908/31908 [==============================] - 62s 2ms/step - loss: 22462872.0000 - val_loss: 39193704.0000\n",
      "Epoch 34/100\n",
      "31908/31908 [==============================] - 67s 2ms/step - loss: 22459028.0000 - val_loss: 39193300.0000\n",
      "Epoch 35/100\n",
      "31908/31908 [==============================] - 61s 2ms/step - loss: 22458544.0000 - val_loss: 39193492.0000\n",
      "Epoch 36/100\n",
      "31908/31908 [==============================] - 57s 2ms/step - loss: 22459392.0000 - val_loss: 39193740.0000\n",
      "Epoch 37/100\n",
      "31908/31908 [==============================] - 56s 2ms/step - loss: 22456500.0000 - val_loss: 39189492.0000\n",
      "Epoch 38/100\n",
      "31908/31908 [==============================] - 64s 2ms/step - loss: 22456358.0000 - val_loss: 39192988.0000\n",
      "Epoch 39/100\n",
      "31908/31908 [==============================] - 62s 2ms/step - loss: 22454610.0000 - val_loss: 39191184.0000\n",
      "Epoch 40/100\n",
      "31908/31908 [==============================] - 62s 2ms/step - loss: 22452776.0000 - val_loss: 39190856.0000\n",
      "Epoch 41/100\n",
      "31908/31908 [==============================] - 59s 2ms/step - loss: 22452360.0000 - val_loss: 39191140.0000\n",
      "Epoch 42/100\n",
      "31908/31908 [==============================] - 61s 2ms/step - loss: 22450872.0000 - val_loss: 39191748.0000\n",
      "Epoch 43/100\n",
      "31908/31908 [==============================] - 60s 2ms/step - loss: 22451122.0000 - val_loss: 39191480.0000\n",
      "Epoch 44/100\n",
      "31908/31908 [==============================] - 59s 2ms/step - loss: 22448324.0000 - val_loss: 39188792.0000\n",
      "Epoch 45/100\n",
      "31908/31908 [==============================] - 65s 2ms/step - loss: 22444994.0000 - val_loss: 39189760.0000\n",
      "Epoch 46/100\n",
      "31908/31908 [==============================] - 66s 2ms/step - loss: 22446466.0000 - val_loss: 39188384.0000\n",
      "Epoch 47/100\n",
      "31908/31908 [==============================] - 60s 2ms/step - loss: 22445980.0000 - val_loss: 39189800.0000\n",
      "Epoch 48/100\n",
      "31908/31908 [==============================] - 61s 2ms/step - loss: 22445536.0000 - val_loss: 39188716.0000\n",
      "Epoch 49/100\n",
      "31908/31908 [==============================] - 61s 2ms/step - loss: 22443622.0000 - val_loss: 39190288.0000\n",
      "Epoch 50/100\n",
      "31908/31908 [==============================] - 63s 2ms/step - loss: 22442494.0000 - val_loss: 39189416.0000\n",
      "Epoch 51/100\n",
      "31908/31908 [==============================] - 67s 2ms/step - loss: 22443218.0000 - val_loss: 39187204.0000\n",
      "Epoch 52/100\n",
      "31908/31908 [==============================] - 87s 3ms/step - loss: 22439392.0000 - val_loss: 39190872.0000loss: - ETA: 0s - loss: 225\n",
      "Epoch 53/100\n",
      "31908/31908 [==============================] - 89s 3ms/step - loss: 22442250.0000 - val_loss: 39187868.0000\n",
      "Epoch 54/100\n",
      "31908/31908 [==============================] - 81s 3ms/step - loss: 22437460.0000 - val_loss: 39187164.0000\n",
      "Epoch 55/100\n",
      "31908/31908 [==============================] - 85s 3ms/step - loss: 22439264.0000 - val_loss: 39187060.0000\n",
      "Epoch 56/100\n",
      "31908/31908 [==============================] - 74s 2ms/step - loss: 22438366.0000 - val_loss: 39186808.0000\n",
      "Epoch 57/100\n",
      "31908/31908 [==============================] - 70s 2ms/step - loss: 22438644.0000 - val_loss: 39185304.0000\n",
      "Epoch 58/100\n",
      "31908/31908 [==============================] - 69s 2ms/step - loss: 22435178.0000 - val_loss: 39186716.0000\n",
      "Epoch 59/100\n",
      "31908/31908 [==============================] - 74s 2ms/step - loss: 22435742.0000 - val_loss: 39186504.0000\n",
      "Epoch 60/100\n",
      "31908/31908 [==============================] - 70s 2ms/step - loss: 22436456.0000 - val_loss: 39185444.0000\n",
      "Epoch 61/100\n",
      "31908/31908 [==============================] - 65s 2ms/step - loss: 22434690.0000 - val_loss: 39184276.0000\n",
      "Epoch 62/100\n",
      "31908/31908 [==============================] - 68s 2ms/step - loss: 22434018.0000 - val_loss: 39185400.0000\n",
      "Epoch 63/100\n",
      "31908/31908 [==============================] - 65s 2ms/step - loss: 22434116.0000 - val_loss: 39184276.0000\n",
      "Epoch 64/100\n",
      "31908/31908 [==============================] - 70s 2ms/step - loss: 22432958.0000 - val_loss: 39184916.0000\n",
      "Epoch 65/100\n",
      "31908/31908 [==============================] - 68s 2ms/step - loss: 22432864.0000 - val_loss: 39183772.0000\n",
      "Epoch 66/100\n",
      "31908/31908 [==============================] - 72s 2ms/step - loss: 22432854.0000 - val_loss: 39184900.0000\n",
      "Epoch 67/100\n"
     ]
    },
    {
     "name": "stdout",
     "output_type": "stream",
     "text": [
      "31908/31908 [==============================] - 67s 2ms/step - loss: 22430948.0000 - val_loss: 39184688.0000\n",
      "Epoch 68/100\n",
      "31908/31908 [==============================] - 68s 2ms/step - loss: 22431210.0000 - val_loss: 39183984.0000\n",
      "Epoch 69/100\n",
      "31908/31908 [==============================] - 72s 2ms/step - loss: 22431324.0000 - val_loss: 39184968.0000\n",
      "Epoch 70/100\n",
      "31908/31908 [==============================] - 71s 2ms/step - loss: 22429826.0000 - val_loss: 39185320.0000\n",
      "Epoch 71/100\n",
      "31908/31908 [==============================] - 65s 2ms/step - loss: 22429044.0000 - val_loss: 39183256.0000\n",
      "Epoch 72/100\n",
      "31908/31908 [==============================] - 69s 2ms/step - loss: 22428856.0000 - val_loss: 39182832.0000\n",
      "Epoch 73/100\n",
      "31908/31908 [==============================] - 65s 2ms/step - loss: 22427758.0000 - val_loss: 39182896.0000\n",
      "Epoch 74/100\n",
      "31908/31908 [==============================] - 72s 2ms/step - loss: 22428030.0000 - val_loss: 39182660.0000\n",
      "Epoch 75/100\n",
      "31908/31908 [==============================] - 66s 2ms/step - loss: 22426310.0000 - val_loss: 39182968.0000\n",
      "Epoch 76/100\n",
      "31908/31908 [==============================] - 76s 2ms/step - loss: 22426802.0000 - val_loss: 39181892.0000\n",
      "Epoch 77/100\n",
      "31908/31908 [==============================] - 67s 2ms/step - loss: 22426104.0000 - val_loss: 39181868.0000\n",
      "Epoch 78/100\n",
      "31908/31908 [==============================] - 70s 2ms/step - loss: 22425700.0000 - val_loss: 39181636.0000\n",
      "Epoch 79/100\n",
      "31908/31908 [==============================] - 68s 2ms/step - loss: 22425446.0000 - val_loss: 39181712.0000\n",
      "Epoch 80/100\n",
      "31908/31908 [==============================] - 68s 2ms/step - loss: 22425764.0000 - val_loss: 39181068.0000\n",
      "Epoch 81/100\n",
      "31908/31908 [==============================] - 67s 2ms/step - loss: 22424588.0000 - val_loss: 39182356.0000\n",
      "Epoch 82/100\n",
      "31908/31908 [==============================] - 67s 2ms/step - loss: 22425598.0000 - val_loss: 39182116.0000\n",
      "Epoch 83/100\n",
      "31908/31908 [==============================] - 70s 2ms/step - loss: 22423724.0000 - val_loss: 39180568.0000\n",
      "Epoch 84/100\n",
      "31908/31908 [==============================] - 67s 2ms/step - loss: 22423528.0000 - val_loss: 39181016.0000\n",
      "Epoch 85/100\n",
      "31908/31908 [==============================] - 68s 2ms/step - loss: 22423818.0000 - val_loss: 39180412.0000\n",
      "Epoch 86/100\n",
      "31908/31908 [==============================] - 72s 2ms/step - loss: 22424138.0000 - val_loss: 39179084.0000\n",
      "Epoch 87/100\n",
      "31908/31908 [==============================] - 75s 2ms/step - loss: 22422418.0000 - val_loss: 39180696.0000\n",
      "Epoch 88/100\n",
      "31908/31908 [==============================] - 70s 2ms/step - loss: 22422334.0000 - val_loss: 39179424.0000\n",
      "Epoch 89/100\n",
      "31908/31908 [==============================] - 72s 2ms/step - loss: 22422276.0000 - val_loss: 39179248.0000\n",
      "Epoch 90/100\n",
      "31908/31908 [==============================] - 58s 2ms/step - loss: 22422214.0000 - val_loss: 39179464.0000\n",
      "Epoch 91/100\n",
      "31908/31908 [==============================] - 57s 2ms/step - loss: 22421300.0000 - val_loss: 39179156.0000\n",
      "Epoch 92/100\n",
      "31908/31908 [==============================] - 58s 2ms/step - loss: 22420692.0000 - val_loss: 39179560.0000\n",
      "Epoch 93/100\n",
      "31908/31908 [==============================] - 61s 2ms/step - loss: 22420848.0000 - val_loss: 39179352.0000\n",
      "Epoch 94/100\n",
      "31908/31908 [==============================] - 63s 2ms/step - loss: 22421548.0000 - val_loss: 39178164.0000\n",
      "Epoch 95/100\n",
      "31908/31908 [==============================] - 59s 2ms/step - loss: 22420664.0000 - val_loss: 39179300.0000\n",
      "Epoch 96/100\n",
      "31908/31908 [==============================] - 59s 2ms/step - loss: 22420150.0000 - val_loss: 39179148.0000\n",
      "Epoch 97/100\n",
      "31908/31908 [==============================] - 57s 2ms/step - loss: 22420568.0000 - val_loss: 39178980.0000\n",
      "Epoch 98/100\n",
      "31908/31908 [==============================] - 55s 2ms/step - loss: 22418436.0000 - val_loss: 39177108.0000\n",
      "Epoch 99/100\n",
      "31908/31908 [==============================] - 58s 2ms/step - loss: 22419482.0000 - val_loss: 39177884.0000\n",
      "Epoch 100/100\n",
      "31908/31908 [==============================] - 59s 2ms/step - loss: 22419680.0000 - val_loss: 39179368.0000\n"
     ]
    },
    {
     "data": {
      "text/plain": [
       "<tensorflow.python.keras.callbacks.History at 0x1f58f3466d0>"
      ]
     },
     "execution_count": 15,
     "metadata": {},
     "output_type": "execute_result"
    }
   ],
   "source": [
    "model.fit(x=x_train,y=y_train,epochs=100,validation_data=(x_test,y_test),verbose=1,callbacks=[earlystopping])"
   ]
  },
  {
   "cell_type": "code",
   "execution_count": 19,
   "id": "34744529",
   "metadata": {},
   "outputs": [
    {
     "data": {
      "text/plain": [
       "<AxesSubplot:>"
      ]
     },
     "execution_count": 19,
     "metadata": {},
     "output_type": "execute_result"
    },
    {
     "data": {
      "image/png": "[encoded data removed]",
      "text/plain": [
       "<Figure size 432x288 with 1 Axes>"
      ]
     },
     "metadata": {
      "needs_background": "light"
     },
     "output_type": "display_data"
    }
   ],
   "source": [
    "modelloss=pd.DataFrame(model.history.history)\n",
    "modelloss.plot()"
   ]
  },
  {
   "cell_type": "code",
   "execution_count": null,
   "id": "937ec726",
   "metadata": {},
   "outputs": [],
   "source": []
  }
 ],
 "metadata": {
  "kernelspec": {
   "display_name": "Python 3 (ipykernel)",
   "language": "python",
   "name": "python3"
  },
  "language_info": {
   "codemirror_mode": {
    "name": "ipython",
    "version": 3
   },
   "file_extension": ".py",
   "mimetype": "text/x-python",
   "name": "python",
   "nbconvert_exporter": "python",
   "pygments_lexer": "ipython3",
   "version": "3.8.12"
  }
 },
 "nbformat": 4,
 "nbformat_minor": 5
}
