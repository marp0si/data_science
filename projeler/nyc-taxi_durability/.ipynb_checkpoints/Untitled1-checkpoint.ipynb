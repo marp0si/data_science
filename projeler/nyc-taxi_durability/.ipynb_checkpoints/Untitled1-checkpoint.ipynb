{
 "cells": [
  {
   "cell_type": "code",
   "execution_count": 81,
   "id": "f191e0ac",
   "metadata": {},
   "outputs": [],
   "source": [
    "import tensorflow as tf\n",
    "import numpy as np\n",
    "import seaborn as sbn\n",
    "import matplotlib.pyplot as plt\n",
    "import pandas as pd\n"
   ]
  },
  {
   "cell_type": "code",
   "execution_count": 82,
   "id": "01a71585",
   "metadata": {},
   "outputs": [],
   "source": [
    "df=pd.read_csv(\"NYC.csv\")"
   ]
  },
  {
   "cell_type": "code",
   "execution_count": 83,
   "id": "da27c90c",
   "metadata": {},
   "outputs": [
    {
     "data": {
      "text/html": [
       "<div>\n",
       "<style scoped>\n",
       "    .dataframe tbody tr th:only-of-type {\n",
       "        vertical-align: middle;\n",
       "    }\n",
       "\n",
       "    .dataframe tbody tr th {\n",
       "        vertical-align: top;\n",
       "    }\n",
       "\n",
       "    .dataframe thead th {\n",
       "        text-align: right;\n",
       "    }\n",
       "</style>\n",
       "<table border=\"1\" class=\"dataframe\">\n",
       "  <thead>\n",
       "    <tr style=\"text-align: right;\">\n",
       "      <th></th>\n",
       "      <th>id</th>\n",
       "      <th>vendor_id</th>\n",
       "      <th>pickup_datetime</th>\n",
       "      <th>dropoff_datetime</th>\n",
       "      <th>passenger_count</th>\n",
       "      <th>pickup_longitude</th>\n",
       "      <th>pickup_latitude</th>\n",
       "      <th>dropoff_longitude</th>\n",
       "      <th>dropoff_latitude</th>\n",
       "      <th>store_and_fwd_flag</th>\n",
       "      <th>trip_duration</th>\n",
       "    </tr>\n",
       "  </thead>\n",
       "  <tbody>\n",
       "    <tr>\n",
       "      <th>0</th>\n",
       "      <td>id2875421</td>\n",
       "      <td>2</td>\n",
       "      <td>2016-03-14 17:24:55</td>\n",
       "      <td>2016-03-14 17:32:30</td>\n",
       "      <td>1</td>\n",
       "      <td>-73.982155</td>\n",
       "      <td>40.767937</td>\n",
       "      <td>-73.964630</td>\n",
       "      <td>40.765602</td>\n",
       "      <td>N</td>\n",
       "      <td>455</td>\n",
       "    </tr>\n",
       "    <tr>\n",
       "      <th>1</th>\n",
       "      <td>id2377394</td>\n",
       "      <td>1</td>\n",
       "      <td>2016-06-12 00:43:35</td>\n",
       "      <td>2016-06-12 00:54:38</td>\n",
       "      <td>1</td>\n",
       "      <td>-73.980415</td>\n",
       "      <td>40.738564</td>\n",
       "      <td>-73.999481</td>\n",
       "      <td>40.731152</td>\n",
       "      <td>N</td>\n",
       "      <td>663</td>\n",
       "    </tr>\n",
       "    <tr>\n",
       "      <th>2</th>\n",
       "      <td>id3858529</td>\n",
       "      <td>2</td>\n",
       "      <td>2016-01-19 11:35:24</td>\n",
       "      <td>2016-01-19 12:10:48</td>\n",
       "      <td>1</td>\n",
       "      <td>-73.979027</td>\n",
       "      <td>40.763939</td>\n",
       "      <td>-74.005333</td>\n",
       "      <td>40.710087</td>\n",
       "      <td>N</td>\n",
       "      <td>2124</td>\n",
       "    </tr>\n",
       "    <tr>\n",
       "      <th>3</th>\n",
       "      <td>id3504673</td>\n",
       "      <td>2</td>\n",
       "      <td>2016-04-06 19:32:31</td>\n",
       "      <td>2016-04-06 19:39:40</td>\n",
       "      <td>1</td>\n",
       "      <td>-74.010040</td>\n",
       "      <td>40.719971</td>\n",
       "      <td>-74.012268</td>\n",
       "      <td>40.706718</td>\n",
       "      <td>N</td>\n",
       "      <td>429</td>\n",
       "    </tr>\n",
       "    <tr>\n",
       "      <th>4</th>\n",
       "      <td>id2181028</td>\n",
       "      <td>2</td>\n",
       "      <td>2016-03-26 13:30:55</td>\n",
       "      <td>2016-03-26 13:38:10</td>\n",
       "      <td>1</td>\n",
       "      <td>-73.973053</td>\n",
       "      <td>40.793209</td>\n",
       "      <td>-73.972923</td>\n",
       "      <td>40.782520</td>\n",
       "      <td>N</td>\n",
       "      <td>435</td>\n",
       "    </tr>\n",
       "    <tr>\n",
       "      <th>...</th>\n",
       "      <td>...</td>\n",
       "      <td>...</td>\n",
       "      <td>...</td>\n",
       "      <td>...</td>\n",
       "      <td>...</td>\n",
       "      <td>...</td>\n",
       "      <td>...</td>\n",
       "      <td>...</td>\n",
       "      <td>...</td>\n",
       "      <td>...</td>\n",
       "      <td>...</td>\n",
       "    </tr>\n",
       "    <tr>\n",
       "      <th>1458639</th>\n",
       "      <td>id2376096</td>\n",
       "      <td>2</td>\n",
       "      <td>2016-04-08 13:31:04</td>\n",
       "      <td>2016-04-08 13:44:02</td>\n",
       "      <td>4</td>\n",
       "      <td>-73.982201</td>\n",
       "      <td>40.745522</td>\n",
       "      <td>-73.994911</td>\n",
       "      <td>40.740170</td>\n",
       "      <td>N</td>\n",
       "      <td>778</td>\n",
       "    </tr>\n",
       "    <tr>\n",
       "      <th>1458640</th>\n",
       "      <td>id1049543</td>\n",
       "      <td>1</td>\n",
       "      <td>2016-01-10 07:35:15</td>\n",
       "      <td>2016-01-10 07:46:10</td>\n",
       "      <td>1</td>\n",
       "      <td>-74.000946</td>\n",
       "      <td>40.747379</td>\n",
       "      <td>-73.970184</td>\n",
       "      <td>40.796547</td>\n",
       "      <td>N</td>\n",
       "      <td>655</td>\n",
       "    </tr>\n",
       "    <tr>\n",
       "      <th>1458641</th>\n",
       "      <td>id2304944</td>\n",
       "      <td>2</td>\n",
       "      <td>2016-04-22 06:57:41</td>\n",
       "      <td>2016-04-22 07:10:25</td>\n",
       "      <td>1</td>\n",
       "      <td>-73.959129</td>\n",
       "      <td>40.768799</td>\n",
       "      <td>-74.004433</td>\n",
       "      <td>40.707371</td>\n",
       "      <td>N</td>\n",
       "      <td>764</td>\n",
       "    </tr>\n",
       "    <tr>\n",
       "      <th>1458642</th>\n",
       "      <td>id2714485</td>\n",
       "      <td>1</td>\n",
       "      <td>2016-01-05 15:56:26</td>\n",
       "      <td>2016-01-05 16:02:39</td>\n",
       "      <td>1</td>\n",
       "      <td>-73.982079</td>\n",
       "      <td>40.749062</td>\n",
       "      <td>-73.974632</td>\n",
       "      <td>40.757107</td>\n",
       "      <td>N</td>\n",
       "      <td>373</td>\n",
       "    </tr>\n",
       "    <tr>\n",
       "      <th>1458643</th>\n",
       "      <td>id1209952</td>\n",
       "      <td>1</td>\n",
       "      <td>2016-04-05 14:44:25</td>\n",
       "      <td>2016-04-05 14:47:43</td>\n",
       "      <td>1</td>\n",
       "      <td>-73.979538</td>\n",
       "      <td>40.781750</td>\n",
       "      <td>-73.972809</td>\n",
       "      <td>40.790585</td>\n",
       "      <td>N</td>\n",
       "      <td>198</td>\n",
       "    </tr>\n",
       "  </tbody>\n",
       "</table>\n",
       "<p>1458644 rows × 11 columns</p>\n",
       "</div>"
      ],
      "text/plain": [
       "                id  vendor_id      pickup_datetime     dropoff_datetime  \\\n",
       "0        id2875421          2  2016-03-14 17:24:55  2016-03-14 17:32:30   \n",
       "1        id2377394          1  2016-06-12 00:43:35  2016-06-12 00:54:38   \n",
       "2        id3858529          2  2016-01-19 11:35:24  2016-01-19 12:10:48   \n",
       "3        id3504673          2  2016-04-06 19:32:31  2016-04-06 19:39:40   \n",
       "4        id2181028          2  2016-03-26 13:30:55  2016-03-26 13:38:10   \n",
       "...            ...        ...                  ...                  ...   \n",
       "1458639  id2376096          2  2016-04-08 13:31:04  2016-04-08 13:44:02   \n",
       "1458640  id1049543          1  2016-01-10 07:35:15  2016-01-10 07:46:10   \n",
       "1458641  id2304944          2  2016-04-22 06:57:41  2016-04-22 07:10:25   \n",
       "1458642  id2714485          1  2016-01-05 15:56:26  2016-01-05 16:02:39   \n",
       "1458643  id1209952          1  2016-04-05 14:44:25  2016-04-05 14:47:43   \n",
       "\n",
       "         passenger_count  pickup_longitude  pickup_latitude  \\\n",
       "0                      1        -73.982155        40.767937   \n",
       "1                      1        -73.980415        40.738564   \n",
       "2                      1        -73.979027        40.763939   \n",
       "3                      1        -74.010040        40.719971   \n",
       "4                      1        -73.973053        40.793209   \n",
       "...                  ...               ...              ...   \n",
       "1458639                4        -73.982201        40.745522   \n",
       "1458640                1        -74.000946        40.747379   \n",
       "1458641                1        -73.959129        40.768799   \n",
       "1458642                1        -73.982079        40.749062   \n",
       "1458643                1        -73.979538        40.781750   \n",
       "\n",
       "         dropoff_longitude  dropoff_latitude store_and_fwd_flag  trip_duration  \n",
       "0               -73.964630         40.765602                  N            455  \n",
       "1               -73.999481         40.731152                  N            663  \n",
       "2               -74.005333         40.710087                  N           2124  \n",
       "3               -74.012268         40.706718                  N            429  \n",
       "4               -73.972923         40.782520                  N            435  \n",
       "...                    ...               ...                ...            ...  \n",
       "1458639         -73.994911         40.740170                  N            778  \n",
       "1458640         -73.970184         40.796547                  N            655  \n",
       "1458641         -74.004433         40.707371                  N            764  \n",
       "1458642         -73.974632         40.757107                  N            373  \n",
       "1458643         -73.972809         40.790585                  N            198  \n",
       "\n",
       "[1458644 rows x 11 columns]"
      ]
     },
     "execution_count": 83,
     "metadata": {},
     "output_type": "execute_result"
    }
   ],
   "source": [
    "df"
   ]
  },
  {
   "cell_type": "code",
   "execution_count": 84,
   "id": "54bf2556",
   "metadata": {},
   "outputs": [
    {
     "data": {
      "text/plain": [
       "1458644"
      ]
     },
     "execution_count": 84,
     "metadata": {},
     "output_type": "execute_result"
    }
   ],
   "source": [
    "len(df)#1458644"
   ]
  },
  {
   "cell_type": "code",
   "execution_count": 85,
   "id": "4490a1a6",
   "metadata": {},
   "outputs": [],
   "source": [
    "df1=df.drop(\"dropoff_datetime\",axis=1)\n",
    "df1=df1.drop(\"pickup_datetime\",axis=1)\n",
    "df1=df1.drop(\"store_and_fwd_flag\",axis=1)\n",
    "df1=df1.drop(\"trip_duration\",axis=1)"
   ]
  },
  {
   "cell_type": "code",
   "execution_count": 86,
   "id": "871d851a",
   "metadata": {},
   "outputs": [],
   "source": [
    "df1=df1.drop(\"id\",axis=1)"
   ]
  },
  {
   "cell_type": "code",
   "execution_count": 87,
   "id": "eaa440be",
   "metadata": {},
   "outputs": [],
   "source": [
    "df1=df1.drop(\"vendor_id\",axis=1)\n",
    "df1=df1.drop(\"passenger_count\",axis=1)\n",
    "#y=ax+b\n",
    "y=df[\"trip_duration\"].values\n",
    "x=df1.values"
   ]
  },
  {
   "cell_type": "code",
   "execution_count": 88,
   "id": "6b51587c",
   "metadata": {},
   "outputs": [],
   "source": [
    "df1[\"longitude\"]=df1[\"dropoff_longitude\"]-df1[\"pickup_longitude\"]\n",
    "df1[\"latitude\"]=df1[\"dropoff_latitude\"]-df1[\"pickup_latitude\"]"
   ]
  },
  {
   "cell_type": "code",
   "execution_count": 89,
   "id": "88638b8e",
   "metadata": {},
   "outputs": [],
   "source": [
    "df1=df1.drop(\"pickup_longitude\",axis=1)\n",
    "df1=df1.drop(\"pickup_latitude\",axis=1)\n",
    "df1=df1.drop(\"dropoff_latitude\",axis=1)\n",
    "df1=df1.drop(\"dropoff_longitude\",axis=1)"
   ]
  },
  {
   "cell_type": "code",
   "execution_count": 90,
   "id": "807abdda",
   "metadata": {},
   "outputs": [],
   "source": [
    "df=pd.concat([pd.DataFrame(y,columns=[\"trip_duration\"]),df1],axis=1)"
   ]
  },
  {
   "cell_type": "code",
   "execution_count": 91,
   "id": "7df5c70f",
   "metadata": {},
   "outputs": [
    {
     "data": {
      "text/html": [
       "<div>\n",
       "<style scoped>\n",
       "    .dataframe tbody tr th:only-of-type {\n",
       "        vertical-align: middle;\n",
       "    }\n",
       "\n",
       "    .dataframe tbody tr th {\n",
       "        vertical-align: top;\n",
       "    }\n",
       "\n",
       "    .dataframe thead th {\n",
       "        text-align: right;\n",
       "    }\n",
       "</style>\n",
       "<table border=\"1\" class=\"dataframe\">\n",
       "  <thead>\n",
       "    <tr style=\"text-align: right;\">\n",
       "      <th></th>\n",
       "      <th>trip_duration</th>\n",
       "      <th>longitude</th>\n",
       "      <th>latitude</th>\n",
       "    </tr>\n",
       "  </thead>\n",
       "  <tbody>\n",
       "    <tr>\n",
       "      <th>0</th>\n",
       "      <td>455</td>\n",
       "      <td>0.017525</td>\n",
       "      <td>-0.002335</td>\n",
       "    </tr>\n",
       "    <tr>\n",
       "      <th>1</th>\n",
       "      <td>663</td>\n",
       "      <td>-0.019066</td>\n",
       "      <td>-0.007412</td>\n",
       "    </tr>\n",
       "    <tr>\n",
       "      <th>2</th>\n",
       "      <td>2124</td>\n",
       "      <td>-0.026306</td>\n",
       "      <td>-0.053852</td>\n",
       "    </tr>\n",
       "    <tr>\n",
       "      <th>3</th>\n",
       "      <td>429</td>\n",
       "      <td>-0.002228</td>\n",
       "      <td>-0.013252</td>\n",
       "    </tr>\n",
       "    <tr>\n",
       "      <th>4</th>\n",
       "      <td>435</td>\n",
       "      <td>0.000130</td>\n",
       "      <td>-0.010689</td>\n",
       "    </tr>\n",
       "    <tr>\n",
       "      <th>...</th>\n",
       "      <td>...</td>\n",
       "      <td>...</td>\n",
       "      <td>...</td>\n",
       "    </tr>\n",
       "    <tr>\n",
       "      <th>1458639</th>\n",
       "      <td>778</td>\n",
       "      <td>-0.012711</td>\n",
       "      <td>-0.005352</td>\n",
       "    </tr>\n",
       "    <tr>\n",
       "      <th>1458640</th>\n",
       "      <td>655</td>\n",
       "      <td>0.030762</td>\n",
       "      <td>0.049168</td>\n",
       "    </tr>\n",
       "    <tr>\n",
       "      <th>1458641</th>\n",
       "      <td>764</td>\n",
       "      <td>-0.045303</td>\n",
       "      <td>-0.061428</td>\n",
       "    </tr>\n",
       "    <tr>\n",
       "      <th>1458642</th>\n",
       "      <td>373</td>\n",
       "      <td>0.007446</td>\n",
       "      <td>0.008045</td>\n",
       "    </tr>\n",
       "    <tr>\n",
       "      <th>1458643</th>\n",
       "      <td>198</td>\n",
       "      <td>0.006729</td>\n",
       "      <td>0.008835</td>\n",
       "    </tr>\n",
       "  </tbody>\n",
       "</table>\n",
       "<p>1458644 rows × 3 columns</p>\n",
       "</div>"
      ],
      "text/plain": [
       "         trip_duration  longitude  latitude\n",
       "0                  455   0.017525 -0.002335\n",
       "1                  663  -0.019066 -0.007412\n",
       "2                 2124  -0.026306 -0.053852\n",
       "3                  429  -0.002228 -0.013252\n",
       "4                  435   0.000130 -0.010689\n",
       "...                ...        ...       ...\n",
       "1458639            778  -0.012711 -0.005352\n",
       "1458640            655   0.030762  0.049168\n",
       "1458641            764  -0.045303 -0.061428\n",
       "1458642            373   0.007446  0.008045\n",
       "1458643            198   0.006729  0.008835\n",
       "\n",
       "[1458644 rows x 3 columns]"
      ]
     },
     "execution_count": 91,
     "metadata": {},
     "output_type": "execute_result"
    }
   ],
   "source": [
    "df"
   ]
  },
  {
   "cell_type": "code",
   "execution_count": 92,
   "id": "51d75403",
   "metadata": {},
   "outputs": [],
   "source": [
    "#y=ax+b\n",
    "y=df[\"trip_duration\"].values\n",
    "df1=df.drop(\"trip_duration\",axis=1)\n",
    "x=df1.values"
   ]
  },
  {
   "cell_type": "code",
   "execution_count": 61,
   "id": "a121a7bf",
   "metadata": {},
   "outputs": [],
   "source": []
  },
  {
   "cell_type": "code",
   "execution_count": null,
   "id": "68edbd50",
   "metadata": {},
   "outputs": [],
   "source": []
  },
  {
   "cell_type": "code",
   "execution_count": 93,
   "id": "d2aef53f",
   "metadata": {},
   "outputs": [],
   "source": [
    "from sklearn.model_selection import train_test_split"
   ]
  },
  {
   "cell_type": "code",
   "execution_count": 94,
   "id": "b3b496fe",
   "metadata": {},
   "outputs": [],
   "source": [
    "x_train, x_test, y_train, y_test = train_test_split(x,y,test_size=0.3,random_state=15)"
   ]
  },
  {
   "cell_type": "code",
   "execution_count": 95,
   "id": "bc3e0a39",
   "metadata": {},
   "outputs": [
    {
     "data": {
      "text/plain": [
       "(437594,)"
      ]
     },
     "execution_count": 95,
     "metadata": {},
     "output_type": "execute_result"
    }
   ],
   "source": [
    "x_train.shape\n",
    "x_test.shape\n",
    "y_train.shape\n",
    "y_test.shape"
   ]
  },
  {
   "cell_type": "code",
   "execution_count": 122,
   "id": "46777df5",
   "metadata": {},
   "outputs": [
    {
     "name": "stdout",
     "output_type": "stream",
     "text": [
      "0          0.017525\n",
      "1         -0.019066\n",
      "2         -0.026306\n",
      "3         -0.002228\n",
      "4          0.000130\n",
      "             ...   \n",
      "1458639   -0.012711\n",
      "1458640    0.030762\n",
      "1458641   -0.045303\n",
      "1458642    0.007446\n",
      "1458643    0.006729\n",
      "Name: longitude, Length: 1458644, dtype: float64\n"
     ]
    }
   ],
   "source": [
    "mean = x_train.mean(axis=0)\n",
    "x_train -= mean\n",
    "std = x_train.std(axis=0)\n",
    "x_train /= std\n",
    "x_test -= mean\n",
    "x_test /= std\n",
    "x_test=x_test[:4375]\n",
    "x_train=x_train[:10210]\n",
    "y_test=y_test[:4375]\n",
    "y_train=y_train[:10210]\n",
    "print(df[\"longitude\"])"
   ]
  },
  {
   "cell_type": "code",
   "execution_count": 97,
   "id": "1c25b807",
   "metadata": {},
   "outputs": [
    {
     "data": {
      "text/plain": [
       "MinMaxScaler()"
      ]
     },
     "execution_count": 97,
     "metadata": {},
     "output_type": "execute_result"
    }
   ],
   "source": [
    "from sklearn.preprocessing import MinMaxScaler\n",
    "scaler = MinMaxScaler()\n",
    "scaler.fit(x_train)"
   ]
  },
  {
   "cell_type": "code",
   "execution_count": 98,
   "id": "7310b10e",
   "metadata": {},
   "outputs": [],
   "source": [
    "from tensorflow.keras.models import Sequential\n",
    "from tensorflow.keras.layers import Dense\n",
    "from tensorflow.keras.layers import Dense,Activation,Dropout\n",
    "from tensorflow.keras.callbacks import EarlyStopping"
   ]
  },
  {
   "cell_type": "code",
   "execution_count": 99,
   "id": "21de5f53",
   "metadata": {},
   "outputs": [],
   "source": [
    "from tensorflow.keras.losses import BinaryCrossentropy\n",
    "from tensorflow.keras.optimizers import Adam"
   ]
  },
  {
   "cell_type": "code",
   "execution_count": 158,
   "id": "40d85d26",
   "metadata": {},
   "outputs": [],
   "source": [
    "model=Sequential()\n",
    "model.add(Dense(24,activation=\"relu\"))\n",
    "#model.add(Dropout(0.6))\n",
    "model.add(Dense(12,activation=\"relu\"))\n",
    "#model.add(Dropout(0.6))\n",
    "model.add(Dense(8,activation=\"relu\"))\n",
    "#model.add(Dropout(0.6))\n",
    "#çıktı için fazladan 1 tane neron ekle\n",
    "model.add(Dense(1))\n",
    "\n"
   ]
  },
  {
   "cell_type": "code",
   "execution_count": 159,
   "id": "94f8210c",
   "metadata": {
    "scrolled": true
   },
   "outputs": [],
   "source": [
    "model.compile(optimizer=\"adam\",loss=\"mse\")"
   ]
  },
  {
   "cell_type": "code",
   "execution_count": 160,
   "id": "63e9bb93",
   "metadata": {},
   "outputs": [],
   "source": [
    "earlystopping=EarlyStopping(monitor=\"val_loss\",mode=\"min\",verbose=1,patience=25)"
   ]
  },
  {
   "cell_type": "code",
   "execution_count": 161,
   "id": "6ffd1f74",
   "metadata": {
    "scrolled": true
   },
   "outputs": [
    {
     "name": "stdout",
     "output_type": "stream",
     "text": [
      "Epoch 1/100\n",
      "307/320 [===========================>..] - ETA: 0s - loss: 8858462.0000  ETA: 0s - loss: 11190451.WARNING:tensorflow:Callbacks method `on_test_batch_end` is slow compared to the batch time (batch time: 0.0000s vs `on_test_batch_end` time: 0.0010s). Check your callbacks.\n",
      "320/320 [==============================] - 1s 2ms/step - loss: 8564741.0000 - val_loss: 10971810.0000\n",
      "Epoch 2/100\n",
      "320/320 [==============================] - 1s 2ms/step - loss: 7886510.5000 - val_loss: 10142100.0000\n",
      "Epoch 3/100\n",
      "320/320 [==============================] - 1s 2ms/step - loss: 7544009.5000 - val_loss: 10105790.0000\n",
      "Epoch 4/100\n",
      "320/320 [==============================] - 1s 2ms/step - loss: 7528279.5000 - val_loss: 10100682.0000\n",
      "Epoch 5/100\n",
      "320/320 [==============================] - 1s 2ms/step - loss: 7520760.5000 - val_loss: 10098376.0000\n",
      "Epoch 6/100\n",
      "320/320 [==============================] - 1s 2ms/step - loss: 7515768.5000 - val_loss: 10095717.0000\n",
      "Epoch 7/100\n",
      "320/320 [==============================] - 1s 2ms/step - loss: 7513047.5000 - val_loss: 10095006.0000\n",
      "Epoch 8/100\n",
      "320/320 [==============================] - 1s 2ms/step - loss: 7510331.0000 - val_loss: 10095530.0000\n",
      "Epoch 9/100\n",
      "320/320 [==============================] - 1s 2ms/step - loss: 7509779.0000 - val_loss: 10094840.0000\n",
      "Epoch 10/100\n",
      "320/320 [==============================] - 1s 2ms/step - loss: 7508194.5000 - val_loss: 10094979.0000\n",
      "Epoch 11/100\n",
      "320/320 [==============================] - 1s 2ms/step - loss: 7507388.5000 - val_loss: 10095155.0000\n",
      "Epoch 12/100\n",
      "320/320 [==============================] - 1s 2ms/step - loss: 7506250.0000 - val_loss: 10095177.0000\n",
      "Epoch 13/100\n",
      "320/320 [==============================] - 1s 2ms/step - loss: 7505694.0000 - val_loss: 10095615.0000\n",
      "Epoch 14/100\n",
      "320/320 [==============================] - 1s 2ms/step - loss: 7505842.5000 - val_loss: 10095960.0000\n",
      "Epoch 15/100\n",
      "320/320 [==============================] - 1s 2ms/step - loss: 7505000.0000 - val_loss: 10095820.0000\n",
      "Epoch 16/100\n",
      "320/320 [==============================] - 1s 2ms/step - loss: 7504640.5000 - val_loss: 10095532.0000\n",
      "Epoch 17/100\n",
      "320/320 [==============================] - 1s 2ms/step - loss: 7504532.5000 - val_loss: 10095522.0000\n",
      "Epoch 18/100\n",
      "320/320 [==============================] - 1s 2ms/step - loss: 7503509.5000 - val_loss: 10096420.0000\n",
      "Epoch 19/100\n",
      "320/320 [==============================] - 1s 2ms/step - loss: 7503807.0000 - val_loss: 10095945.0000\n",
      "Epoch 20/100\n",
      "320/320 [==============================] - 1s 2ms/step - loss: 7503459.0000 - val_loss: 10096434.0000\n",
      "Epoch 21/100\n",
      "320/320 [==============================] - 1s 2ms/step - loss: 7503402.5000 - val_loss: 10095959.0000\n",
      "Epoch 22/100\n",
      "320/320 [==============================] - 1s 2ms/step - loss: 7502858.0000 - val_loss: 10096832.0000\n",
      "Epoch 23/100\n",
      "320/320 [==============================] - 1s 2ms/step - loss: 7503422.0000 - val_loss: 10095742.0000\n",
      "Epoch 24/100\n",
      "320/320 [==============================] - 1s 2ms/step - loss: 7502598.5000 - val_loss: 10095365.0000\n",
      "Epoch 25/100\n",
      "320/320 [==============================] - 1s 2ms/step - loss: 7501709.5000 - val_loss: 10096108.0000\n",
      "Epoch 26/100\n",
      "320/320 [==============================] - 1s 2ms/step - loss: 7501877.5000 - val_loss: 10095388.0000\n",
      "Epoch 27/100\n",
      "320/320 [==============================] - 1s 2ms/step - loss: 7502311.5000 - val_loss: 10095062.0000\n",
      "Epoch 28/100\n",
      "320/320 [==============================] - 1s 2ms/step - loss: 7502403.0000 - val_loss: 10095307.0000\n",
      "Epoch 29/100\n",
      "320/320 [==============================] - 1s 2ms/step - loss: 7501660.5000 - val_loss: 10095173.0000\n",
      "Epoch 30/100\n",
      "320/320 [==============================] - 1s 2ms/step - loss: 7501031.5000 - val_loss: 10095050.0000\n",
      "Epoch 31/100\n",
      "320/320 [==============================] - 1s 2ms/step - loss: 7500536.5000 - val_loss: 10095735.0000\n",
      "Epoch 32/100\n",
      "320/320 [==============================] - 1s 2ms/step - loss: 7500853.5000 - val_loss: 10094997.0000\n",
      "Epoch 33/100\n",
      "320/320 [==============================] - 1s 2ms/step - loss: 7500412.5000 - val_loss: 10094522.0000\n",
      "Epoch 34/100\n",
      "320/320 [==============================] - 1s 2ms/step - loss: 7500455.0000 - val_loss: 10094468.0000\n",
      "Epoch 35/100\n",
      "320/320 [==============================] - 1s 2ms/step - loss: 7499771.0000 - val_loss: 10094520.0000\n",
      "Epoch 36/100\n",
      "320/320 [==============================] - 1s 2ms/step - loss: 7500078.5000 - val_loss: 10094577.0000\n",
      "Epoch 37/100\n",
      "320/320 [==============================] - 1s 2ms/step - loss: 7499515.0000 - val_loss: 10094545.0000\n",
      "Epoch 38/100\n",
      "320/320 [==============================] - 1s 2ms/step - loss: 7498709.0000 - val_loss: 10094038.0000\n",
      "Epoch 39/100\n",
      "320/320 [==============================] - 1s 2ms/step - loss: 7498855.5000 - val_loss: 10094427.0000\n",
      "Epoch 40/100\n",
      "320/320 [==============================] - 1s 2ms/step - loss: 7498823.5000 - val_loss: 10094219.0000\n",
      "Epoch 41/100\n",
      "320/320 [==============================] - 1s 2ms/step - loss: 7498635.0000 - val_loss: 10093580.0000\n",
      "Epoch 42/100\n",
      "320/320 [==============================] - 1s 2ms/step - loss: 7498013.0000 - val_loss: 10093535.0000\n",
      "Epoch 43/100\n",
      "320/320 [==============================] - 1s 2ms/step - loss: 7497788.5000 - val_loss: 10093535.0000\n",
      "Epoch 44/100\n",
      "320/320 [==============================] - 1s 2ms/step - loss: 7498070.0000 - val_loss: 10093332.0000\n",
      "Epoch 45/100\n",
      "320/320 [==============================] - 1s 2ms/step - loss: 7497653.0000 - val_loss: 10093417.0000\n",
      "Epoch 46/100\n",
      "320/320 [==============================] - 1s 2ms/step - loss: 7497288.5000 - val_loss: 10093356.0000\n",
      "Epoch 47/100\n",
      "320/320 [==============================] - 1s 2ms/step - loss: 7496955.0000 - val_loss: 10092771.0000\n",
      "Epoch 48/100\n",
      "320/320 [==============================] - 1s 2ms/step - loss: 7497127.5000 - val_loss: 10092485.0000\n",
      "Epoch 49/100\n",
      "320/320 [==============================] - 1s 2ms/step - loss: 7496913.0000 - val_loss: 10092322.0000\n",
      "Epoch 50/100\n",
      "320/320 [==============================] - 1s 2ms/step - loss: 7496521.5000 - val_loss: 10092711.0000\n",
      "Epoch 51/100\n",
      "320/320 [==============================] - 1s 2ms/step - loss: 7495457.0000 - val_loss: 10092249.0000\n",
      "Epoch 52/100\n",
      "320/320 [==============================] - 1s 2ms/step - loss: 7496359.5000 - val_loss: 10091533.0000\n",
      "Epoch 53/100\n",
      "320/320 [==============================] - 1s 2ms/step - loss: 7496588.5000 - val_loss: 10091542.0000\n",
      "Epoch 54/100\n",
      "320/320 [==============================] - 1s 2ms/step - loss: 7495418.5000 - val_loss: 10091302.0000\n",
      "Epoch 55/100\n",
      "320/320 [==============================] - 1s 2ms/step - loss: 7495541.0000 - val_loss: 10090995.0000\n",
      "Epoch 56/100\n",
      "320/320 [==============================] - 1s 2ms/step - loss: 7494966.5000 - val_loss: 10091020.0000\n",
      "Epoch 57/100\n",
      "320/320 [==============================] - 1s 2ms/step - loss: 7494671.5000 - val_loss: 10090661.0000\n",
      "Epoch 58/100\n",
      "320/320 [==============================] - 1s 2ms/step - loss: 7494970.5000 - val_loss: 10090513.0000\n",
      "Epoch 59/100\n",
      "320/320 [==============================] - 1s 2ms/step - loss: 7494066.5000 - val_loss: 10091411.0000\n",
      "Epoch 60/100\n",
      "320/320 [==============================] - 1s 2ms/step - loss: 7494012.0000 - val_loss: 10091151.0000\n",
      "Epoch 61/100\n",
      "320/320 [==============================] - 1s 2ms/step - loss: 7494046.5000 - val_loss: 10090232.0000\n",
      "Epoch 62/100\n",
      "320/320 [==============================] - 1s 2ms/step - loss: 7493606.5000 - val_loss: 10090144.0000\n",
      "Epoch 63/100\n",
      "320/320 [==============================] - 1s 2ms/step - loss: 7493279.5000 - val_loss: 10089827.0000\n",
      "Epoch 64/100\n",
      "320/320 [==============================] - 1s 2ms/step - loss: 7493486.5000 - val_loss: 10090187.0000\n",
      "Epoch 65/100\n",
      "320/320 [==============================] - 1s 2ms/step - loss: 7492917.5000 - val_loss: 10089428.0000\n",
      "Epoch 66/100\n",
      "320/320 [==============================] - 1s 2ms/step - loss: 7492814.0000 - val_loss: 10089205.0000\n",
      "Epoch 67/100\n",
      "320/320 [==============================] - 1s 2ms/step - loss: 7492293.5000 - val_loss: 10089784.0000\n",
      "Epoch 68/100\n",
      "320/320 [==============================] - 1s 2ms/step - loss: 7492262.0000 - val_loss: 10089842.0000\n",
      "Epoch 69/100\n",
      "320/320 [==============================] - 1s 2ms/step - loss: 7491552.0000 - val_loss: 10089073.0000\n"
     ]
    },
    {
     "name": "stdout",
     "output_type": "stream",
     "text": [
      "Epoch 70/100\n",
      "320/320 [==============================] - 1s 2ms/step - loss: 7492382.5000 - val_loss: 10088831.0000\n",
      "Epoch 71/100\n",
      "320/320 [==============================] - 0s 2ms/step - loss: 7491876.0000 - val_loss: 10088786.0000\n",
      "Epoch 72/100\n",
      "320/320 [==============================] - 1s 2ms/step - loss: 7491183.0000 - val_loss: 10088743.0000\n",
      "Epoch 73/100\n",
      "320/320 [==============================] - 1s 2ms/step - loss: 7491329.5000 - val_loss: 10088129.0000\n",
      "Epoch 74/100\n",
      "320/320 [==============================] - 1s 2ms/step - loss: 7490627.0000 - val_loss: 10088125.0000\n",
      "Epoch 75/100\n",
      "320/320 [==============================] - 1s 2ms/step - loss: 7490209.5000 - val_loss: 10088340.0000\n",
      "Epoch 76/100\n",
      "320/320 [==============================] - 1s 2ms/step - loss: 7490150.0000 - val_loss: 10087604.0000\n",
      "Epoch 77/100\n",
      "320/320 [==============================] - 1s 2ms/step - loss: 7490175.0000 - val_loss: 10087291.0000\n",
      "Epoch 78/100\n",
      "320/320 [==============================] - 1s 3ms/step - loss: 7489434.5000 - val_loss: 10087383.0000\n",
      "Epoch 79/100\n",
      "320/320 [==============================] - 1s 3ms/step - loss: 7489001.0000 - val_loss: 10087002.0000\n",
      "Epoch 80/100\n",
      "320/320 [==============================] - 1s 2ms/step - loss: 7491337.0000 - val_loss: 10086872.0000\n",
      "Epoch 81/100\n",
      "320/320 [==============================] - 1s 3ms/step - loss: 7488327.5000 - val_loss: 10086424.0000\n",
      "Epoch 82/100\n",
      "320/320 [==============================] - 1s 3ms/step - loss: 7487907.0000 - val_loss: 10086187.0000\n",
      "Epoch 83/100\n",
      "320/320 [==============================] - 1s 3ms/step - loss: 7487773.5000 - val_loss: 10086400.0000\n",
      "Epoch 84/100\n",
      "320/320 [==============================] - 1s 3ms/step - loss: 7487691.0000 - val_loss: 10086226.0000\n",
      "Epoch 85/100\n",
      "320/320 [==============================] - 1s 2ms/step - loss: 7487350.0000 - val_loss: 10085932.0000\n",
      "Epoch 86/100\n",
      "320/320 [==============================] - 1s 2ms/step - loss: 7487160.0000 - val_loss: 10085786.0000\n",
      "Epoch 87/100\n",
      "320/320 [==============================] - 1s 2ms/step - loss: 7486884.5000 - val_loss: 10085559.0000\n",
      "Epoch 88/100\n",
      "320/320 [==============================] - 1s 2ms/step - loss: 7486543.0000 - val_loss: 10085571.0000\n",
      "Epoch 89/100\n",
      "320/320 [==============================] - 1s 2ms/step - loss: 7486342.0000 - val_loss: 10085388.0000\n",
      "Epoch 90/100\n",
      "320/320 [==============================] - 1s 2ms/step - loss: 7486137.5000 - val_loss: 10085460.0000\n",
      "Epoch 91/100\n",
      "320/320 [==============================] - 1s 2ms/step - loss: 7485824.0000 - val_loss: 10085021.0000\n",
      "Epoch 92/100\n",
      "320/320 [==============================] - 1s 2ms/step - loss: 7485106.0000 - val_loss: 10084977.0000\n",
      "Epoch 93/100\n",
      "320/320 [==============================] - 1s 2ms/step - loss: 7485077.5000 - val_loss: 10084754.0000\n",
      "Epoch 94/100\n",
      "320/320 [==============================] - 1s 2ms/step - loss: 7486450.0000 - val_loss: 10084179.0000\n",
      "Epoch 95/100\n",
      "320/320 [==============================] - 1s 2ms/step - loss: 7483768.5000 - val_loss: 10084042.0000\n",
      "Epoch 96/100\n",
      "320/320 [==============================] - 1s 2ms/step - loss: 7483086.5000 - val_loss: 10083822.0000\n",
      "Epoch 97/100\n",
      "320/320 [==============================] - 1s 2ms/step - loss: 7482670.5000 - val_loss: 10083856.0000\n",
      "Epoch 98/100\n",
      "320/320 [==============================] - 1s 2ms/step - loss: 7482690.0000 - val_loss: 10083562.0000\n",
      "Epoch 99/100\n",
      "320/320 [==============================] - 1s 2ms/step - loss: 7481940.5000 - val_loss: 10083524.0000\n",
      "Epoch 100/100\n",
      "320/320 [==============================] - 1s 2ms/step - loss: 7481790.5000 - val_loss: 10083290.0000\n"
     ]
    },
    {
     "data": {
      "text/plain": [
       "<tensorflow.python.keras.callbacks.History at 0x1d8032c2d30>"
      ]
     },
     "execution_count": 161,
     "metadata": {},
     "output_type": "execute_result"
    }
   ],
   "source": [
    "model.fit(x=x_train,y=y_train,epochs=100,validation_data=(x_test,y_test),verbose=1,callbacks=[earlystopping])"
   ]
  },
  {
   "cell_type": "code",
   "execution_count": 162,
   "id": "34744529",
   "metadata": {},
   "outputs": [
    {
     "data": {
      "text/plain": [
       "<AxesSubplot:>"
      ]
     },
     "execution_count": 162,
     "metadata": {},
     "output_type": "execute_result"
    },
    {
     "data": {
      "image/png": "[encoded data removed]",
      "text/plain": [
       "<Figure size 432x288 with 1 Axes>"
      ]
     },
     "metadata": {
      "needs_background": "light"
     },
     "output_type": "display_data"
    }
   ],
   "source": [
    "modelloss=pd.DataFrame(model.history.history)\n",
    "modelloss.plot()"
   ]
  },
  {
   "cell_type": "code",
   "execution_count": 163,
   "id": "937ec726",
   "metadata": {
    "scrolled": true
   },
   "outputs": [],
   "source": [
    "aaaa=model.predict(x_test[:])"
   ]
  },
  {
   "cell_type": "code",
   "execution_count": 164,
   "id": "b49d597c",
   "metadata": {},
   "outputs": [
    {
     "data": {
      "text/plain": [
       "array([], shape=(0, 4375, 1), dtype=float32)"
      ]
     },
     "execution_count": 164,
     "metadata": {},
     "output_type": "execute_result"
    }
   ],
   "source": [
    "aaaa[\"trip_duration\"==0]"
   ]
  },
  {
   "cell_type": "code",
   "execution_count": 165,
   "id": "25d28ee7",
   "metadata": {},
   "outputs": [
    {
     "data": {
      "text/plain": [
       "array([[1764.03   ],\n",
       "       [ 629.16797],\n",
       "       [1015.1295 ],\n",
       "       ...,\n",
       "       [ 793.5806 ],\n",
       "       [ 830.97095],\n",
       "       [ 960.3174 ]], dtype=float32)"
      ]
     },
     "execution_count": 165,
     "metadata": {},
     "output_type": "execute_result"
    }
   ],
   "source": [
    "aaaa"
   ]
  },
  {
   "cell_type": "code",
   "execution_count": 166,
   "id": "15faceb4",
   "metadata": {},
   "outputs": [
    {
     "data": {
      "text/plain": [
       "array([2510,  262,  816, ...,  327,  907,  980], dtype=int64)"
      ]
     },
     "execution_count": 166,
     "metadata": {},
     "output_type": "execute_result"
    }
   ],
   "source": [
    "y_test"
   ]
  },
  {
   "cell_type": "code",
   "execution_count": null,
   "id": "23c73b2b",
   "metadata": {},
   "outputs": [],
   "source": []
  },
  {
   "cell_type": "code",
   "execution_count": null,
   "id": "2159907f",
   "metadata": {},
   "outputs": [],
   "source": []
  }
 ],
 "metadata": {
  "kernelspec": {
   "display_name": "Python 3 (ipykernel)",
   "language": "python",
   "name": "python3"
  },
  "language_info": {
   "codemirror_mode": {
    "name": "ipython",
    "version": 3
   },
   "file_extension": ".py",
   "mimetype": "text/x-python",
   "name": "python",
   "nbconvert_exporter": "python",
   "pygments_lexer": "ipython3",
   "version": "3.8.12"
  }
 },
 "nbformat": 4,
 "nbformat_minor": 5
}
