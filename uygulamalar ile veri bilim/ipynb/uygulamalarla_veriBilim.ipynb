{
  "nbformat": 4,
  "nbformat_minor": 0,
  "metadata": {
    "colab": {
      "provenance": []
    },
    "kernelspec": {
      "name": "python3",
      "display_name": "Python 3"
    },
    "language_info": {
      "name": "python"
    }
  },
  "cells": [
    {
      "cell_type": "code",
      "execution_count": null,
      "metadata": {
        "colab": {
          "base_uri": "https://localhost:8080/"
        },
        "id": "krkHBL229Ehb",
        "outputId": "5c8f149f-e9e8-4ef3-e445-15a44cdeb941"
      },
      "outputs": [
        {
          "output_type": "stream",
          "name": "stdout",
          "text": [
            "[[1.5 0.  0. ]\n",
            " [1.  1.  2. ]] [[1.5 0.  0. ]\n",
            " [1.  1.  2. ]]\n",
            "5.0\n",
            "1.6094379124341003\n",
            "8.0\n",
            "[[ 3.5  4. ]\n",
            " [ 8.   7. ]\n",
            " [11.   9. ]]\n",
            "[ 5 11]\n",
            "[ 5  8 11  0  3  6]\n"
          ]
        }
      ],
      "source": [
        "import numpy as np\n",
        "a=np.array([5,8,11])\n",
        "b=np.array([(3.5,8,11),(4,7,9)])\n",
        "#çıkarma=> np.subtract(a,b)\n",
        "print(a-b,np.subtract(a,b))\n",
        "#kök alma=>np.sqrt(a)\n",
        "print(np.sqrt(25))\n",
        "#logaritma alma => np.log(a)\n",
        "print(np.log(5))\n",
        "#ortalama => mean()\n",
        "print(a.mean())\n",
        "#tranpoz alma =>np.transpose()\n",
        "print(np.transpose(b))\n",
        "#matrixten eleman çıkartma => np.delete(a,i)\n",
        "print(np.delete(a,[1]))\n",
        "# iki dizi birleştirme =>np.concatanate()\n",
        "print(np.concatenate([a,np.arange(0,9,3)],axis=0))\n"
      ]
    },
    {
      "cell_type": "code",
      "source": [
        "import pandas as pd\n",
        "s=pd.Series([12,4,24,6],index=['a','b','c','d'])#series tanımlama\n",
        "'''veriTablo=pd.DataFrame(veri,columns=[\"ülke\",\"şehir\",\"nüfus\"])#2 boyutlu veriyi pandas dataframe yapısına dönüştürme\n",
        "pd.read_csv('dosya_adı.csv',nrows=7,sep=',')#csv dosyasından veri okumak için\n",
        "#nrows=verinin içinde bulunun satır sayısını\n",
        "#sep=dosyanın içindeki 2 veriyi nasıl ayıracağını gösterir\n",
        "veriTablo.loc(0,0)# konuma göre veri seçimi\n",
        "veriTablo.log(0,'ülke')#başlığa göre veri seçimi\n",
        "s.drop(['a','c'])#veri silme\n",
        "#tablo hakında basil bilgiler\n",
        "#df.info()-veriTablo.shape()-veriTablo.describe()-veriTablo.min()-veriTablo.mean()\n",
        "'''\n",
        "data=[\n",
        "    ['d1','sunny','hot','high','weak','no'],\n",
        "    ['d2','sunny','hot','high','weak','no'],\n",
        "    ['d3','sunny','hot','weak','weak','no'],\n",
        "    ['d4','rain','cool','strong','weak','no'],\n",
        "    ['d5','rain','cool','weak','weak','no'],\n",
        "    ['d6','overcast','cool','high','weak','no'],]\n",
        "df=pd.DataFrame(data,columns=['day','outlook','temp','humidity','windy','play'])\n",
        "print(df.info())\n",
        "print(df.shape)\n",
        "print(df.describe())\n",
        "\n",
        "\n"
      ],
      "metadata": {
        "id": "8BkGcqojBtAe"
      },
      "execution_count": null,
      "outputs": []
    },
    {
      "cell_type": "code",
      "source": [
        "from sklearn import preprocessing,datasets,neighbors\n",
        "from sklearn.model_selection import train_test_split\n",
        "from sklearn.metrics import accuracy_score\n",
        "iris =datasets.load_iris()\n",
        "X,y=iris.data[::2],iris.target\n",
        "x_train,x_test,y_train,t_test=train_test_split(X,y)\n",
        "scaler=preprocessing.StandardScaler().fit(x_train)\n",
        "x_train=scaler.transform(x_train)\n",
        "x_test=scaler.transform(x_test)\n",
        "\n",
        "#k-means modeli çağırmak için\n",
        "model=neighbors.KNeighborsClassifier(n_neighbors=5)\n",
        "model.fit(x_train,y_train)\n",
        "\n"
      ],
      "metadata": {
        "id": "apdoqjxgF8Yi"
      },
      "execution_count": null,
      "outputs": []
    },
    {
      "cell_type": "code",
      "source": [
        "#modelden tahmin almak\n",
        "model.predict(X_t)"
      ],
      "metadata": {
        "id": "5ZwEJVjxPia4"
      },
      "execution_count": null,
      "outputs": []
    }
  ]
}